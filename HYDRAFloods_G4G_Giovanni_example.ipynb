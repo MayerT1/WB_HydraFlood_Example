{
  "nbformat": 4,
  "nbformat_minor": 0,
  "metadata": {
    "colab": {
      "provenance": [],
      "include_colab_link": true
    },
    "kernelspec": {
      "name": "python3",
      "display_name": "Python 3"
    },
    "language_info": {
      "name": "python"
    },
    "widgets": {
      "application/vnd.jupyter.widget-state+json": {
        "cd7da0a64a47418fac3979912a4ebf3e": {
          "model_module": "jupyter-leaflet",
          "model_name": "LeafletMapModel",
          "model_module_version": "^0.18",
          "state": {
            "_dom_classes": [],
            "_model_module": "jupyter-leaflet",
            "_model_module_version": "^0.18",
            "_model_name": "LeafletMapModel",
            "_view_count": null,
            "_view_module": "jupyter-leaflet",
            "_view_module_version": "^0.18",
            "_view_name": "LeafletMapView",
            "bottom": 123285,
            "bounce_at_zoom_limits": true,
            "box_zoom": true,
            "center": [
              11.036793516608421,
              78.64159548801078
            ],
            "close_popup_on_click": true,
            "controls": [
              "IPY_MODEL_691408b9e5894cb78a48194d81148d88",
              "IPY_MODEL_f3d32e54a6fb42e0b7ca2cab3cdad8aa",
              "IPY_MODEL_b74b466b7e544ed3a40d41d6f3673c25",
              "IPY_MODEL_27075c4ab6624297a9cd2b1be85302e6",
              "IPY_MODEL_77ea4d58a38341eab3ef0aadad8c97a5",
              "IPY_MODEL_f0fcaa7b0c284c3bb84fdb0d916c774f",
              "IPY_MODEL_c1cfe9640af84d6f9b1b222765ed5419",
              "IPY_MODEL_bd22c809c6594700bafed44baa101134",
              "IPY_MODEL_dbf2507c6bb84c9baeca59f4cc5b1ce0"
            ],
            "crs": {
              "name": "EPSG3857",
              "custom": false
            },
            "default_style": "IPY_MODEL_a0ab81ff58df43e9bcda02dfd226ce36",
            "double_click_zoom": true,
            "dragging": true,
            "dragging_style": "IPY_MODEL_c2df14a1267a46438252e28436a04f63",
            "east": 80.31143188476564,
            "fullscreen": false,
            "inertia": true,
            "inertia_deceleration": 3000,
            "inertia_max_speed": 1500,
            "interpolation": "bilinear",
            "keyboard": true,
            "keyboard_pan_offset": 80,
            "keyboard_zoom_offset": 1,
            "layers": [
              "IPY_MODEL_1ae48ee6680d4676a7136007e1c16347",
              "IPY_MODEL_ec67b480b6eb483c92887cdcd5d6fcc9",
              "IPY_MODEL_bbcb2cf4cbba409bad05a5653044d947"
            ],
            "layout": "IPY_MODEL_6f8b8e6629604e8fb6c8b48090cdd7b7",
            "left": 187121,
            "max_zoom": 24,
            "min_zoom": null,
            "modisdate": "2024-06-02",
            "north": 11.440993254072932,
            "options": [
              "bounce_at_zoom_limits",
              "box_zoom",
              "center",
              "close_popup_on_click",
              "double_click_zoom",
              "dragging",
              "fullscreen",
              "inertia",
              "inertia_deceleration",
              "inertia_max_speed",
              "interpolation",
              "keyboard",
              "keyboard_pan_offset",
              "keyboard_zoom_offset",
              "max_zoom",
              "min_zoom",
              "prefer_canvas",
              "scroll_wheel_zoom",
              "tap",
              "tap_tolerance",
              "touch_zoom",
              "world_copy_jump",
              "zoom",
              "zoom_animation_threshold",
              "zoom_delta",
              "zoom_snap"
            ],
            "panes": {},
            "prefer_canvas": false,
            "right": 189553,
            "scroll_wheel_zoom": true,
            "south": 10.632265280829252,
            "style": "IPY_MODEL_b3f6c4b0c2fe4937bd05f2347691a6b2",
            "tap": true,
            "tap_tolerance": 15,
            "top": 122685,
            "touch_zoom": true,
            "west": 76.97158813476564,
            "window_url": "https://stgtt8e846-496ff2e9c6d22116-0-colab.googleusercontent.com/outputframe.html?vrz=colab_20240530-060148_RC00_638597350",
            "world_copy_jump": false,
            "zoom": 10,
            "zoom_animation_threshold": 4,
            "zoom_delta": 1,
            "zoom_snap": 1
          }
        },
        "691408b9e5894cb78a48194d81148d88": {
          "model_module": "jupyter-leaflet",
          "model_name": "LeafletWidgetControlModel",
          "model_module_version": "^0.18",
          "state": {
            "_model_module": "jupyter-leaflet",
            "_model_module_version": "^0.18",
            "_model_name": "LeafletWidgetControlModel",
            "_view_count": null,
            "_view_module": "jupyter-leaflet",
            "_view_module_version": "^0.18",
            "_view_name": "LeafletWidgetControlView",
            "max_height": null,
            "max_width": null,
            "min_height": null,
            "min_width": null,
            "options": [
              "position",
              "transparent_bg"
            ],
            "position": "topleft",
            "transparent_bg": false,
            "widget": "IPY_MODEL_36e220dc0d55402abab8bde9591c435a"
          }
        },
        "f3d32e54a6fb42e0b7ca2cab3cdad8aa": {
          "model_module": "jupyter-leaflet",
          "model_name": "LeafletZoomControlModel",
          "model_module_version": "^0.18",
          "state": {
            "_model_module": "jupyter-leaflet",
            "_model_module_version": "^0.18",
            "_model_name": "LeafletZoomControlModel",
            "_view_count": null,
            "_view_module": "jupyter-leaflet",
            "_view_module_version": "^0.18",
            "_view_name": "LeafletZoomControlView",
            "options": [
              "position",
              "zoom_in_text",
              "zoom_in_title",
              "zoom_out_text",
              "zoom_out_title"
            ],
            "position": "topleft",
            "zoom_in_text": "+",
            "zoom_in_title": "Zoom in",
            "zoom_out_text": "-",
            "zoom_out_title": "Zoom out"
          }
        },
        "b74b466b7e544ed3a40d41d6f3673c25": {
          "model_module": "jupyter-leaflet",
          "model_name": "LeafletFullScreenControlModel",
          "model_module_version": "^0.18",
          "state": {
            "_model_module": "jupyter-leaflet",
            "_model_module_version": "^0.18",
            "_model_name": "LeafletFullScreenControlModel",
            "_view_count": null,
            "_view_module": "jupyter-leaflet",
            "_view_module_version": "^0.18",
            "_view_name": "LeafletFullScreenControlView",
            "options": [
              "position"
            ],
            "position": "topleft"
          }
        },
        "27075c4ab6624297a9cd2b1be85302e6": {
          "model_module": "jupyter-leaflet",
          "model_name": "LeafletDrawControlModel",
          "model_module_version": "^0.18",
          "state": {
            "_model_module": "jupyter-leaflet",
            "_model_module_version": "^0.18",
            "_model_name": "LeafletDrawControlModel",
            "_view_count": null,
            "_view_module": "jupyter-leaflet",
            "_view_module_version": "^0.18",
            "_view_name": "LeafletDrawControlView",
            "circle": {},
            "circlemarker": {},
            "data": [],
            "edit": true,
            "marker": {
              "shapeOptions": {
                "color": "#3388ff"
              }
            },
            "options": [
              "position"
            ],
            "polygon": {
              "shapeOptions": {}
            },
            "polyline": {
              "shapeOptions": {}
            },
            "position": "topleft",
            "rectangle": {
              "shapeOptions": {
                "color": "#3388ff"
              }
            },
            "remove": true
          }
        },
        "77ea4d58a38341eab3ef0aadad8c97a5": {
          "model_module": "jupyter-leaflet",
          "model_name": "LeafletScaleControlModel",
          "model_module_version": "^0.18",
          "state": {
            "_model_module": "jupyter-leaflet",
            "_model_module_version": "^0.18",
            "_model_name": "LeafletScaleControlModel",
            "_view_count": null,
            "_view_module": "jupyter-leaflet",
            "_view_module_version": "^0.18",
            "_view_name": "LeafletScaleControlView",
            "imperial": true,
            "max_width": 100,
            "metric": true,
            "options": [
              "imperial",
              "max_width",
              "metric",
              "position",
              "update_when_idle"
            ],
            "position": "bottomleft",
            "update_when_idle": false
          }
        },
        "f0fcaa7b0c284c3bb84fdb0d916c774f": {
          "model_module": "jupyter-leaflet",
          "model_name": "LeafletMeasureControlModel",
          "model_module_version": "^0.18",
          "state": {
            "_custom_units": {},
            "_model_module": "jupyter-leaflet",
            "_model_module_version": "^0.18",
            "_model_name": "LeafletMeasureControlModel",
            "_view_count": null,
            "_view_module": "jupyter-leaflet",
            "_view_module_version": "^0.18",
            "_view_name": "LeafletMeasureControlView",
            "active_color": "orange",
            "capture_z_index": 10000,
            "completed_color": "#C8F2BE",
            "options": [
              "active_color",
              "capture_z_index",
              "completed_color",
              "popup_options",
              "position",
              "primary_area_unit",
              "primary_length_unit",
              "secondary_area_unit",
              "secondary_length_unit"
            ],
            "popup_options": {
              "className": "leaflet-measure-resultpopup",
              "autoPanPadding": [
                10,
                10
              ]
            },
            "position": "bottomleft",
            "primary_area_unit": "acres",
            "primary_length_unit": "kilometers",
            "secondary_area_unit": null,
            "secondary_length_unit": null
          }
        },
        "c1cfe9640af84d6f9b1b222765ed5419": {
          "model_module": "jupyter-leaflet",
          "model_name": "LeafletWidgetControlModel",
          "model_module_version": "^0.18",
          "state": {
            "_model_module": "jupyter-leaflet",
            "_model_module_version": "^0.18",
            "_model_name": "LeafletWidgetControlModel",
            "_view_count": null,
            "_view_module": "jupyter-leaflet",
            "_view_module_version": "^0.18",
            "_view_name": "LeafletWidgetControlView",
            "max_height": null,
            "max_width": null,
            "min_height": null,
            "min_width": null,
            "options": [
              "position",
              "transparent_bg"
            ],
            "position": "topright",
            "transparent_bg": false,
            "widget": "IPY_MODEL_6655b161552444ed8c028d82c9d8e5f4"
          }
        },
        "bd22c809c6594700bafed44baa101134": {
          "model_module": "jupyter-leaflet",
          "model_name": "LeafletAttributionControlModel",
          "model_module_version": "^0.18",
          "state": {
            "_model_module": "jupyter-leaflet",
            "_model_module_version": "^0.18",
            "_model_name": "LeafletAttributionControlModel",
            "_view_count": null,
            "_view_module": "jupyter-leaflet",
            "_view_module_version": "^0.18",
            "_view_name": "LeafletAttributionControlView",
            "options": [
              "position",
              "prefix"
            ],
            "position": "bottomright",
            "prefix": "ipyleaflet"
          }
        },
        "dbf2507c6bb84c9baeca59f4cc5b1ce0": {
          "model_module": "jupyter-leaflet",
          "model_name": "LeafletLayersControlModel",
          "model_module_version": "^0.18",
          "state": {
            "_model_module": "jupyter-leaflet",
            "_model_module_version": "^0.18",
            "_model_name": "LeafletLayersControlModel",
            "_view_count": null,
            "_view_module": "jupyter-leaflet",
            "_view_module_version": "^0.18",
            "_view_name": "LeafletLayersControlView",
            "collapsed": true,
            "options": [
              "collapsed",
              "position"
            ],
            "position": "topright"
          }
        },
        "a0ab81ff58df43e9bcda02dfd226ce36": {
          "model_module": "jupyter-leaflet",
          "model_name": "LeafletMapStyleModel",
          "model_module_version": "^0.18",
          "state": {
            "_model_module": "jupyter-leaflet",
            "_model_module_version": "^0.18",
            "_model_name": "LeafletMapStyleModel",
            "_view_count": null,
            "_view_module": "@jupyter-widgets/base",
            "_view_module_version": "1.2.0",
            "_view_name": "StyleView",
            "cursor": "grab"
          }
        },
        "c2df14a1267a46438252e28436a04f63": {
          "model_module": "jupyter-leaflet",
          "model_name": "LeafletMapStyleModel",
          "model_module_version": "^0.18",
          "state": {
            "_model_module": "jupyter-leaflet",
            "_model_module_version": "^0.18",
            "_model_name": "LeafletMapStyleModel",
            "_view_count": null,
            "_view_module": "@jupyter-widgets/base",
            "_view_module_version": "1.2.0",
            "_view_name": "StyleView",
            "cursor": "move"
          }
        },
        "1ae48ee6680d4676a7136007e1c16347": {
          "model_module": "jupyter-leaflet",
          "model_name": "LeafletTileLayerModel",
          "model_module_version": "^0.18",
          "state": {
            "_model_module": "jupyter-leaflet",
            "_model_module_version": "^0.18",
            "_model_name": "LeafletTileLayerModel",
            "_view_count": null,
            "_view_module": "jupyter-leaflet",
            "_view_module_version": "^0.18",
            "_view_name": "LeafletTileLayerView",
            "attribution": "&copy; <a href=\"https://www.openstreetmap.org/copyright\">OpenStreetMap</a> contributors",
            "base": true,
            "bottom": true,
            "bounds": null,
            "detect_retina": false,
            "loading": false,
            "max_native_zoom": null,
            "max_zoom": 19,
            "min_native_zoom": null,
            "min_zoom": 1,
            "name": "OpenStreetMap.Mapnik",
            "no_wrap": false,
            "opacity": 1,
            "options": [
              "attribution",
              "bounds",
              "detect_retina",
              "max_native_zoom",
              "max_zoom",
              "min_native_zoom",
              "min_zoom",
              "no_wrap",
              "tile_size",
              "tms",
              "zoom_offset"
            ],
            "pane": "",
            "popup": null,
            "popup_max_height": null,
            "popup_max_width": 300,
            "popup_min_width": 50,
            "show_loading": false,
            "subitems": [],
            "tile_size": 256,
            "tms": false,
            "url": "https://tile.openstreetmap.org/{z}/{x}/{y}.png",
            "visible": true,
            "zoom_offset": 0
          }
        },
        "ec67b480b6eb483c92887cdcd5d6fcc9": {
          "model_module": "jupyter-leaflet",
          "model_name": "LeafletTileLayerModel",
          "model_module_version": "^0.18",
          "state": {
            "_model_module": "jupyter-leaflet",
            "_model_module_version": "^0.18",
            "_model_name": "LeafletTileLayerModel",
            "_view_count": null,
            "_view_module": "jupyter-leaflet",
            "_view_module_version": "^0.18",
            "_view_name": "LeafletTileLayerView",
            "attribution": "Google Earth Engine",
            "base": false,
            "bottom": true,
            "bounds": null,
            "detect_retina": false,
            "loading": false,
            "max_native_zoom": null,
            "max_zoom": 24,
            "min_native_zoom": null,
            "min_zoom": 0,
            "name": "Region of Interest",
            "no_wrap": false,
            "opacity": 1,
            "options": [
              "attribution",
              "bounds",
              "detect_retina",
              "max_native_zoom",
              "max_zoom",
              "min_native_zoom",
              "min_zoom",
              "no_wrap",
              "tile_size",
              "tms",
              "zoom_offset"
            ],
            "pane": "",
            "popup": null,
            "popup_max_height": null,
            "popup_max_width": 300,
            "popup_min_width": 50,
            "show_loading": false,
            "subitems": [],
            "tile_size": 256,
            "tms": false,
            "url": "https://earthengine.googleapis.com/v1/projects/earthengine-legacy/maps/0a92afa832a293d5a62191d04775a289-18bc40b274ec8b115c9ba21ee7ac9e46/tiles/{z}/{x}/{y}",
            "visible": true,
            "zoom_offset": 0
          }
        },
        "bbcb2cf4cbba409bad05a5653044d947": {
          "model_module": "jupyter-leaflet",
          "model_name": "LeafletTileLayerModel",
          "model_module_version": "^0.18",
          "state": {
            "_model_module": "jupyter-leaflet",
            "_model_module_version": "^0.18",
            "_model_name": "LeafletTileLayerModel",
            "_view_count": null,
            "_view_module": "jupyter-leaflet",
            "_view_module_version": "^0.18",
            "_view_name": "LeafletTileLayerView",
            "attribution": "Google Earth Engine",
            "base": false,
            "bottom": true,
            "bounds": null,
            "detect_retina": false,
            "loading": false,
            "max_native_zoom": null,
            "max_zoom": 24,
            "min_native_zoom": null,
            "min_zoom": 0,
            "name": "Sentinel 1 Mosaic",
            "no_wrap": false,
            "opacity": 1,
            "options": [
              "attribution",
              "bounds",
              "detect_retina",
              "max_native_zoom",
              "max_zoom",
              "min_native_zoom",
              "min_zoom",
              "no_wrap",
              "tile_size",
              "tms",
              "zoom_offset"
            ],
            "pane": "",
            "popup": null,
            "popup_max_height": null,
            "popup_max_width": 300,
            "popup_min_width": 50,
            "show_loading": false,
            "subitems": [],
            "tile_size": 256,
            "tms": false,
            "url": "https://earthengine.googleapis.com/v1/projects/earthengine-legacy/maps/a4f423063989ac77291e2b0d76e2d6a0-fbbef33e3c331cdbf2501c390983e817/tiles/{z}/{x}/{y}",
            "visible": true,
            "zoom_offset": 0
          }
        },
        "6f8b8e6629604e8fb6c8b48090cdd7b7": {
          "model_module": "@jupyter-widgets/base",
          "model_name": "LayoutModel",
          "model_module_version": "1.2.0",
          "state": {
            "_model_module": "@jupyter-widgets/base",
            "_model_module_version": "1.2.0",
            "_model_name": "LayoutModel",
            "_view_count": null,
            "_view_module": "@jupyter-widgets/base",
            "_view_module_version": "1.2.0",
            "_view_name": "LayoutView",
            "align_content": null,
            "align_items": null,
            "align_self": null,
            "border": null,
            "bottom": null,
            "display": null,
            "flex": null,
            "flex_flow": null,
            "grid_area": null,
            "grid_auto_columns": null,
            "grid_auto_flow": null,
            "grid_auto_rows": null,
            "grid_column": null,
            "grid_gap": null,
            "grid_row": null,
            "grid_template_areas": null,
            "grid_template_columns": null,
            "grid_template_rows": null,
            "height": "600px",
            "justify_content": null,
            "justify_items": null,
            "left": null,
            "margin": null,
            "max_height": null,
            "max_width": null,
            "min_height": null,
            "min_width": null,
            "object_fit": null,
            "object_position": null,
            "order": null,
            "overflow": null,
            "overflow_x": null,
            "overflow_y": null,
            "padding": null,
            "right": null,
            "top": null,
            "visibility": null,
            "width": null
          }
        },
        "b3f6c4b0c2fe4937bd05f2347691a6b2": {
          "model_module": "jupyter-leaflet",
          "model_name": "LeafletMapStyleModel",
          "model_module_version": "^0.18",
          "state": {
            "_model_module": "jupyter-leaflet",
            "_model_module_version": "^0.18",
            "_model_name": "LeafletMapStyleModel",
            "_view_count": null,
            "_view_module": "@jupyter-widgets/base",
            "_view_module_version": "1.2.0",
            "_view_name": "StyleView",
            "cursor": "grab"
          }
        },
        "36e220dc0d55402abab8bde9591c435a": {
          "model_module": "@jupyter-widgets/controls",
          "model_name": "HBoxModel",
          "model_module_version": "1.5.0",
          "state": {
            "_dom_classes": [
              "geemap-colab"
            ],
            "_model_module": "@jupyter-widgets/controls",
            "_model_module_version": "1.5.0",
            "_model_name": "HBoxModel",
            "_view_count": null,
            "_view_module": "@jupyter-widgets/controls",
            "_view_module_version": "1.5.0",
            "_view_name": "HBoxView",
            "box_style": "",
            "children": [
              "IPY_MODEL_f22abc4dd91e41a28f807f392d06c220"
            ],
            "layout": "IPY_MODEL_1efd595077fe47218e67fd82c0ce8139"
          }
        },
        "6655b161552444ed8c028d82c9d8e5f4": {
          "model_module": "@jupyter-widgets/controls",
          "model_name": "VBoxModel",
          "model_module_version": "1.5.0",
          "state": {
            "_dom_classes": [
              "geemap-colab"
            ],
            "_model_module": "@jupyter-widgets/controls",
            "_model_module_version": "1.5.0",
            "_model_name": "VBoxModel",
            "_view_count": null,
            "_view_module": "@jupyter-widgets/controls",
            "_view_module_version": "1.5.0",
            "_view_name": "VBoxView",
            "box_style": "",
            "children": [
              "IPY_MODEL_557e8d4ceb8848fcb525b0b43b8486b6"
            ],
            "layout": "IPY_MODEL_09e8eb250a804e379448a35693f75572"
          }
        },
        "f22abc4dd91e41a28f807f392d06c220": {
          "model_module": "@jupyter-widgets/controls",
          "model_name": "ToggleButtonModel",
          "model_module_version": "1.5.0",
          "state": {
            "_dom_classes": [],
            "_model_module": "@jupyter-widgets/controls",
            "_model_module_version": "1.5.0",
            "_model_name": "ToggleButtonModel",
            "_view_count": null,
            "_view_module": "@jupyter-widgets/controls",
            "_view_module_version": "1.5.0",
            "_view_name": "ToggleButtonView",
            "button_style": "",
            "description": "",
            "description_tooltip": null,
            "disabled": false,
            "icon": "globe",
            "layout": "IPY_MODEL_aeae5076db9941b0bc86dc35c5dc8f39",
            "style": "IPY_MODEL_0e17df26373346bca1041e1d692c0c23",
            "tooltip": "Search location/data",
            "value": false
          }
        },
        "1efd595077fe47218e67fd82c0ce8139": {
          "model_module": "@jupyter-widgets/base",
          "model_name": "LayoutModel",
          "model_module_version": "1.2.0",
          "state": {
            "_model_module": "@jupyter-widgets/base",
            "_model_module_version": "1.2.0",
            "_model_name": "LayoutModel",
            "_view_count": null,
            "_view_module": "@jupyter-widgets/base",
            "_view_module_version": "1.2.0",
            "_view_name": "LayoutView",
            "align_content": null,
            "align_items": null,
            "align_self": null,
            "border": null,
            "bottom": null,
            "display": null,
            "flex": null,
            "flex_flow": null,
            "grid_area": null,
            "grid_auto_columns": null,
            "grid_auto_flow": null,
            "grid_auto_rows": null,
            "grid_column": null,
            "grid_gap": null,
            "grid_row": null,
            "grid_template_areas": null,
            "grid_template_columns": null,
            "grid_template_rows": null,
            "height": null,
            "justify_content": null,
            "justify_items": null,
            "left": null,
            "margin": null,
            "max_height": null,
            "max_width": null,
            "min_height": null,
            "min_width": null,
            "object_fit": null,
            "object_position": null,
            "order": null,
            "overflow": null,
            "overflow_x": null,
            "overflow_y": null,
            "padding": null,
            "right": null,
            "top": null,
            "visibility": null,
            "width": null
          }
        },
        "557e8d4ceb8848fcb525b0b43b8486b6": {
          "model_module": "@jupyter-widgets/controls",
          "model_name": "ToggleButtonModel",
          "model_module_version": "1.5.0",
          "state": {
            "_dom_classes": [],
            "_model_module": "@jupyter-widgets/controls",
            "_model_module_version": "1.5.0",
            "_model_name": "ToggleButtonModel",
            "_view_count": null,
            "_view_module": "@jupyter-widgets/controls",
            "_view_module_version": "1.5.0",
            "_view_name": "ToggleButtonView",
            "button_style": "",
            "description": "",
            "description_tooltip": null,
            "disabled": false,
            "icon": "wrench",
            "layout": "IPY_MODEL_ba0b266d7ad74575811c2eb4612b910e",
            "style": "IPY_MODEL_f8b035afd32e446aa872824ecf5435a2",
            "tooltip": "Toolbar",
            "value": false
          }
        },
        "09e8eb250a804e379448a35693f75572": {
          "model_module": "@jupyter-widgets/base",
          "model_name": "LayoutModel",
          "model_module_version": "1.2.0",
          "state": {
            "_model_module": "@jupyter-widgets/base",
            "_model_module_version": "1.2.0",
            "_model_name": "LayoutModel",
            "_view_count": null,
            "_view_module": "@jupyter-widgets/base",
            "_view_module_version": "1.2.0",
            "_view_name": "LayoutView",
            "align_content": null,
            "align_items": null,
            "align_self": null,
            "border": null,
            "bottom": null,
            "display": null,
            "flex": null,
            "flex_flow": null,
            "grid_area": null,
            "grid_auto_columns": null,
            "grid_auto_flow": null,
            "grid_auto_rows": null,
            "grid_column": null,
            "grid_gap": null,
            "grid_row": null,
            "grid_template_areas": null,
            "grid_template_columns": null,
            "grid_template_rows": null,
            "height": null,
            "justify_content": null,
            "justify_items": null,
            "left": null,
            "margin": null,
            "max_height": null,
            "max_width": null,
            "min_height": null,
            "min_width": null,
            "object_fit": null,
            "object_position": null,
            "order": null,
            "overflow": null,
            "overflow_x": null,
            "overflow_y": null,
            "padding": null,
            "right": null,
            "top": null,
            "visibility": null,
            "width": null
          }
        },
        "aeae5076db9941b0bc86dc35c5dc8f39": {
          "model_module": "@jupyter-widgets/base",
          "model_name": "LayoutModel",
          "model_module_version": "1.2.0",
          "state": {
            "_model_module": "@jupyter-widgets/base",
            "_model_module_version": "1.2.0",
            "_model_name": "LayoutModel",
            "_view_count": null,
            "_view_module": "@jupyter-widgets/base",
            "_view_module_version": "1.2.0",
            "_view_name": "LayoutView",
            "align_content": null,
            "align_items": null,
            "align_self": null,
            "border": null,
            "bottom": null,
            "display": null,
            "flex": null,
            "flex_flow": null,
            "grid_area": null,
            "grid_auto_columns": null,
            "grid_auto_flow": null,
            "grid_auto_rows": null,
            "grid_column": null,
            "grid_gap": null,
            "grid_row": null,
            "grid_template_areas": null,
            "grid_template_columns": null,
            "grid_template_rows": null,
            "height": "28px",
            "justify_content": null,
            "justify_items": null,
            "left": null,
            "margin": null,
            "max_height": null,
            "max_width": null,
            "min_height": null,
            "min_width": null,
            "object_fit": null,
            "object_position": null,
            "order": null,
            "overflow": null,
            "overflow_x": null,
            "overflow_y": null,
            "padding": "0px 0px 0px 4px",
            "right": null,
            "top": null,
            "visibility": null,
            "width": "28px"
          }
        },
        "0e17df26373346bca1041e1d692c0c23": {
          "model_module": "@jupyter-widgets/controls",
          "model_name": "DescriptionStyleModel",
          "model_module_version": "1.5.0",
          "state": {
            "_model_module": "@jupyter-widgets/controls",
            "_model_module_version": "1.5.0",
            "_model_name": "DescriptionStyleModel",
            "_view_count": null,
            "_view_module": "@jupyter-widgets/base",
            "_view_module_version": "1.2.0",
            "_view_name": "StyleView",
            "description_width": ""
          }
        },
        "ba0b266d7ad74575811c2eb4612b910e": {
          "model_module": "@jupyter-widgets/base",
          "model_name": "LayoutModel",
          "model_module_version": "1.2.0",
          "state": {
            "_model_module": "@jupyter-widgets/base",
            "_model_module_version": "1.2.0",
            "_model_name": "LayoutModel",
            "_view_count": null,
            "_view_module": "@jupyter-widgets/base",
            "_view_module_version": "1.2.0",
            "_view_name": "LayoutView",
            "align_content": null,
            "align_items": null,
            "align_self": null,
            "border": null,
            "bottom": null,
            "display": null,
            "flex": null,
            "flex_flow": null,
            "grid_area": null,
            "grid_auto_columns": null,
            "grid_auto_flow": null,
            "grid_auto_rows": null,
            "grid_column": null,
            "grid_gap": null,
            "grid_row": null,
            "grid_template_areas": null,
            "grid_template_columns": null,
            "grid_template_rows": null,
            "height": "28px",
            "justify_content": null,
            "justify_items": null,
            "left": null,
            "margin": null,
            "max_height": null,
            "max_width": null,
            "min_height": null,
            "min_width": null,
            "object_fit": null,
            "object_position": null,
            "order": null,
            "overflow": null,
            "overflow_x": null,
            "overflow_y": null,
            "padding": "0px 0px 0px 4px",
            "right": null,
            "top": null,
            "visibility": null,
            "width": "28px"
          }
        },
        "f8b035afd32e446aa872824ecf5435a2": {
          "model_module": "@jupyter-widgets/controls",
          "model_name": "DescriptionStyleModel",
          "model_module_version": "1.5.0",
          "state": {
            "_model_module": "@jupyter-widgets/controls",
            "_model_module_version": "1.5.0",
            "_model_name": "DescriptionStyleModel",
            "_view_count": null,
            "_view_module": "@jupyter-widgets/base",
            "_view_module_version": "1.2.0",
            "_view_name": "StyleView",
            "description_width": ""
          }
        },
        "8f36a8f50de44762b61fce6534882f10": {
          "model_module": "jupyter-leaflet",
          "model_name": "LeafletMapModel",
          "model_module_version": "^0.18",
          "state": {
            "_dom_classes": [],
            "_model_module": "jupyter-leaflet",
            "_model_module_version": "^0.18",
            "_model_name": "LeafletMapModel",
            "_view_count": null,
            "_view_module": "jupyter-leaflet",
            "_view_module_version": "^0.18",
            "_view_name": "LeafletMapView",
            "bottom": 492750,
            "bounce_at_zoom_limits": true,
            "box_zoom": true,
            "center": [
              10.865001490675649,
              79.05075073242189
            ],
            "close_popup_on_click": true,
            "controls": [
              "IPY_MODEL_cc15be6cfec949c6bf119fd8c8ee3180",
              "IPY_MODEL_8d069244c2154473bf82e89f780401ae",
              "IPY_MODEL_d090a827d7914db5a1d368243a75232f",
              "IPY_MODEL_a1fef3faf6a34e1f803ef0d3920430fc",
              "IPY_MODEL_77f69a0410aa47e9be36efd03376f9e5",
              "IPY_MODEL_73bac5279029432cbaeca52a52cd0ae7",
              "IPY_MODEL_4f20d9e6974647b4913efc549f20b6ec",
              "IPY_MODEL_684842a792e542929b48f161cc736709",
              "IPY_MODEL_4ba7b92da6c549a9817cbb860d36bbf1"
            ],
            "crs": {
              "name": "EPSG3857",
              "custom": false
            },
            "default_style": "IPY_MODEL_6a3f314f145d4d16aacde3c2228ecea9",
            "double_click_zoom": true,
            "dragging": true,
            "dragging_style": "IPY_MODEL_f5ba05c8c7e247149ac82574167013f5",
            "east": 79.46823120117189,
            "fullscreen": false,
            "inertia": true,
            "inertia_deceleration": 3000,
            "inertia_max_speed": 1500,
            "interpolation": "bilinear",
            "keyboard": true,
            "keyboard_pan_offset": 80,
            "keyboard_zoom_offset": 1,
            "layers": [
              "IPY_MODEL_c5f2e6b4b0c847bc8412c7ba93f9b336",
              "IPY_MODEL_e927cb5b8bc244a0ae917d9b9a93c2d2",
              "IPY_MODEL_88b58da60c67413c867bfd305bda52a1"
            ],
            "layout": "IPY_MODEL_eefebc22ec464b70a5bb4a2c4a4d5523",
            "left": 753324,
            "max_zoom": 24,
            "min_zoom": null,
            "modisdate": "2024-06-02",
            "north": 10.96613481168273,
            "options": [
              "bounce_at_zoom_limits",
              "box_zoom",
              "center",
              "close_popup_on_click",
              "double_click_zoom",
              "dragging",
              "fullscreen",
              "inertia",
              "inertia_deceleration",
              "inertia_max_speed",
              "interpolation",
              "keyboard",
              "keyboard_pan_offset",
              "keyboard_zoom_offset",
              "max_zoom",
              "min_zoom",
              "prefer_canvas",
              "scroll_wheel_zoom",
              "tap",
              "tap_tolerance",
              "touch_zoom",
              "world_copy_jump",
              "zoom",
              "zoom_animation_threshold",
              "zoom_delta",
              "zoom_snap"
            ],
            "panes": {},
            "prefer_canvas": false,
            "right": 755756,
            "scroll_wheel_zoom": true,
            "south": 10.76383389526445,
            "style": "IPY_MODEL_6a3f314f145d4d16aacde3c2228ecea9",
            "tap": true,
            "tap_tolerance": 15,
            "top": 492150,
            "touch_zoom": true,
            "west": 78.63327026367188,
            "window_url": "https://stgtt8e846-496ff2e9c6d22116-0-colab.googleusercontent.com/outputframe.html?vrz=colab_20240530-060148_RC00_638597350",
            "world_copy_jump": false,
            "zoom": 12,
            "zoom_animation_threshold": 4,
            "zoom_delta": 1,
            "zoom_snap": 1
          }
        },
        "cc15be6cfec949c6bf119fd8c8ee3180": {
          "model_module": "jupyter-leaflet",
          "model_name": "LeafletWidgetControlModel",
          "model_module_version": "^0.18",
          "state": {
            "_model_module": "jupyter-leaflet",
            "_model_module_version": "^0.18",
            "_model_name": "LeafletWidgetControlModel",
            "_view_count": null,
            "_view_module": "jupyter-leaflet",
            "_view_module_version": "^0.18",
            "_view_name": "LeafletWidgetControlView",
            "max_height": null,
            "max_width": null,
            "min_height": null,
            "min_width": null,
            "options": [
              "position",
              "transparent_bg"
            ],
            "position": "topleft",
            "transparent_bg": false,
            "widget": "IPY_MODEL_bc59ab257a6e4311bf7ae32e86538531"
          }
        },
        "8d069244c2154473bf82e89f780401ae": {
          "model_module": "jupyter-leaflet",
          "model_name": "LeafletZoomControlModel",
          "model_module_version": "^0.18",
          "state": {
            "_model_module": "jupyter-leaflet",
            "_model_module_version": "^0.18",
            "_model_name": "LeafletZoomControlModel",
            "_view_count": null,
            "_view_module": "jupyter-leaflet",
            "_view_module_version": "^0.18",
            "_view_name": "LeafletZoomControlView",
            "options": [
              "position",
              "zoom_in_text",
              "zoom_in_title",
              "zoom_out_text",
              "zoom_out_title"
            ],
            "position": "topleft",
            "zoom_in_text": "+",
            "zoom_in_title": "Zoom in",
            "zoom_out_text": "-",
            "zoom_out_title": "Zoom out"
          }
        },
        "d090a827d7914db5a1d368243a75232f": {
          "model_module": "jupyter-leaflet",
          "model_name": "LeafletFullScreenControlModel",
          "model_module_version": "^0.18",
          "state": {
            "_model_module": "jupyter-leaflet",
            "_model_module_version": "^0.18",
            "_model_name": "LeafletFullScreenControlModel",
            "_view_count": null,
            "_view_module": "jupyter-leaflet",
            "_view_module_version": "^0.18",
            "_view_name": "LeafletFullScreenControlView",
            "options": [
              "position"
            ],
            "position": "topleft"
          }
        },
        "a1fef3faf6a34e1f803ef0d3920430fc": {
          "model_module": "jupyter-leaflet",
          "model_name": "LeafletDrawControlModel",
          "model_module_version": "^0.18",
          "state": {
            "_model_module": "jupyter-leaflet",
            "_model_module_version": "^0.18",
            "_model_name": "LeafletDrawControlModel",
            "_view_count": null,
            "_view_module": "jupyter-leaflet",
            "_view_module_version": "^0.18",
            "_view_name": "LeafletDrawControlView",
            "circle": {},
            "circlemarker": {},
            "data": [],
            "edit": true,
            "marker": {
              "shapeOptions": {
                "color": "#3388ff"
              }
            },
            "options": [
              "position"
            ],
            "polygon": {
              "shapeOptions": {}
            },
            "polyline": {
              "shapeOptions": {}
            },
            "position": "topleft",
            "rectangle": {
              "shapeOptions": {
                "color": "#3388ff"
              }
            },
            "remove": true
          }
        },
        "77f69a0410aa47e9be36efd03376f9e5": {
          "model_module": "jupyter-leaflet",
          "model_name": "LeafletScaleControlModel",
          "model_module_version": "^0.18",
          "state": {
            "_model_module": "jupyter-leaflet",
            "_model_module_version": "^0.18",
            "_model_name": "LeafletScaleControlModel",
            "_view_count": null,
            "_view_module": "jupyter-leaflet",
            "_view_module_version": "^0.18",
            "_view_name": "LeafletScaleControlView",
            "imperial": true,
            "max_width": 100,
            "metric": true,
            "options": [
              "imperial",
              "max_width",
              "metric",
              "position",
              "update_when_idle"
            ],
            "position": "bottomleft",
            "update_when_idle": false
          }
        },
        "73bac5279029432cbaeca52a52cd0ae7": {
          "model_module": "jupyter-leaflet",
          "model_name": "LeafletMeasureControlModel",
          "model_module_version": "^0.18",
          "state": {
            "_custom_units": {},
            "_model_module": "jupyter-leaflet",
            "_model_module_version": "^0.18",
            "_model_name": "LeafletMeasureControlModel",
            "_view_count": null,
            "_view_module": "jupyter-leaflet",
            "_view_module_version": "^0.18",
            "_view_name": "LeafletMeasureControlView",
            "active_color": "orange",
            "capture_z_index": 10000,
            "completed_color": "#C8F2BE",
            "options": [
              "active_color",
              "capture_z_index",
              "completed_color",
              "popup_options",
              "position",
              "primary_area_unit",
              "primary_length_unit",
              "secondary_area_unit",
              "secondary_length_unit"
            ],
            "popup_options": {
              "className": "leaflet-measure-resultpopup",
              "autoPanPadding": [
                10,
                10
              ]
            },
            "position": "bottomleft",
            "primary_area_unit": "acres",
            "primary_length_unit": "kilometers",
            "secondary_area_unit": null,
            "secondary_length_unit": null
          }
        },
        "4f20d9e6974647b4913efc549f20b6ec": {
          "model_module": "jupyter-leaflet",
          "model_name": "LeafletWidgetControlModel",
          "model_module_version": "^0.18",
          "state": {
            "_model_module": "jupyter-leaflet",
            "_model_module_version": "^0.18",
            "_model_name": "LeafletWidgetControlModel",
            "_view_count": null,
            "_view_module": "jupyter-leaflet",
            "_view_module_version": "^0.18",
            "_view_name": "LeafletWidgetControlView",
            "max_height": null,
            "max_width": null,
            "min_height": null,
            "min_width": null,
            "options": [
              "position",
              "transparent_bg"
            ],
            "position": "topright",
            "transparent_bg": false,
            "widget": "IPY_MODEL_8aa190138efc48ff8f2c29a137bce8ea"
          }
        },
        "684842a792e542929b48f161cc736709": {
          "model_module": "jupyter-leaflet",
          "model_name": "LeafletAttributionControlModel",
          "model_module_version": "^0.18",
          "state": {
            "_model_module": "jupyter-leaflet",
            "_model_module_version": "^0.18",
            "_model_name": "LeafletAttributionControlModel",
            "_view_count": null,
            "_view_module": "jupyter-leaflet",
            "_view_module_version": "^0.18",
            "_view_name": "LeafletAttributionControlView",
            "options": [
              "position",
              "prefix"
            ],
            "position": "bottomright",
            "prefix": "ipyleaflet"
          }
        },
        "4ba7b92da6c549a9817cbb860d36bbf1": {
          "model_module": "jupyter-leaflet",
          "model_name": "LeafletLayersControlModel",
          "model_module_version": "^0.18",
          "state": {
            "_model_module": "jupyter-leaflet",
            "_model_module_version": "^0.18",
            "_model_name": "LeafletLayersControlModel",
            "_view_count": null,
            "_view_module": "jupyter-leaflet",
            "_view_module_version": "^0.18",
            "_view_name": "LeafletLayersControlView",
            "collapsed": true,
            "options": [
              "collapsed",
              "position"
            ],
            "position": "topright"
          }
        },
        "6a3f314f145d4d16aacde3c2228ecea9": {
          "model_module": "jupyter-leaflet",
          "model_name": "LeafletMapStyleModel",
          "model_module_version": "^0.18",
          "state": {
            "_model_module": "jupyter-leaflet",
            "_model_module_version": "^0.18",
            "_model_name": "LeafletMapStyleModel",
            "_view_count": null,
            "_view_module": "@jupyter-widgets/base",
            "_view_module_version": "1.2.0",
            "_view_name": "StyleView",
            "cursor": "grab"
          }
        },
        "f5ba05c8c7e247149ac82574167013f5": {
          "model_module": "jupyter-leaflet",
          "model_name": "LeafletMapStyleModel",
          "model_module_version": "^0.18",
          "state": {
            "_model_module": "jupyter-leaflet",
            "_model_module_version": "^0.18",
            "_model_name": "LeafletMapStyleModel",
            "_view_count": null,
            "_view_module": "@jupyter-widgets/base",
            "_view_module_version": "1.2.0",
            "_view_name": "StyleView",
            "cursor": "move"
          }
        },
        "c5f2e6b4b0c847bc8412c7ba93f9b336": {
          "model_module": "jupyter-leaflet",
          "model_name": "LeafletTileLayerModel",
          "model_module_version": "^0.18",
          "state": {
            "_model_module": "jupyter-leaflet",
            "_model_module_version": "^0.18",
            "_model_name": "LeafletTileLayerModel",
            "_view_count": null,
            "_view_module": "jupyter-leaflet",
            "_view_module_version": "^0.18",
            "_view_name": "LeafletTileLayerView",
            "attribution": "&copy; <a href=\"https://www.openstreetmap.org/copyright\">OpenStreetMap</a> contributors",
            "base": true,
            "bottom": true,
            "bounds": null,
            "detect_retina": false,
            "loading": false,
            "max_native_zoom": null,
            "max_zoom": 19,
            "min_native_zoom": null,
            "min_zoom": 1,
            "name": "OpenStreetMap.Mapnik",
            "no_wrap": false,
            "opacity": 1,
            "options": [
              "attribution",
              "bounds",
              "detect_retina",
              "max_native_zoom",
              "max_zoom",
              "min_native_zoom",
              "min_zoom",
              "no_wrap",
              "tile_size",
              "tms",
              "zoom_offset"
            ],
            "pane": "",
            "popup": null,
            "popup_max_height": null,
            "popup_max_width": 300,
            "popup_min_width": 50,
            "show_loading": false,
            "subitems": [],
            "tile_size": 256,
            "tms": false,
            "url": "https://tile.openstreetmap.org/{z}/{x}/{y}.png",
            "visible": true,
            "zoom_offset": 0
          }
        },
        "e927cb5b8bc244a0ae917d9b9a93c2d2": {
          "model_module": "jupyter-leaflet",
          "model_name": "LeafletTileLayerModel",
          "model_module_version": "^0.18",
          "state": {
            "_model_module": "jupyter-leaflet",
            "_model_module_version": "^0.18",
            "_model_name": "LeafletTileLayerModel",
            "_view_count": null,
            "_view_module": "jupyter-leaflet",
            "_view_module_version": "^0.18",
            "_view_name": "LeafletTileLayerView",
            "attribution": "Google Earth Engine",
            "base": false,
            "bottom": true,
            "bounds": null,
            "detect_retina": false,
            "loading": false,
            "max_native_zoom": null,
            "max_zoom": 24,
            "min_native_zoom": null,
            "min_zoom": 0,
            "name": "Sentinel 1 Median",
            "no_wrap": false,
            "opacity": 1,
            "options": [
              "attribution",
              "bounds",
              "detect_retina",
              "max_native_zoom",
              "max_zoom",
              "min_native_zoom",
              "min_zoom",
              "no_wrap",
              "tile_size",
              "tms",
              "zoom_offset"
            ],
            "pane": "",
            "popup": null,
            "popup_max_height": null,
            "popup_max_width": 300,
            "popup_min_width": 50,
            "show_loading": false,
            "subitems": [],
            "tile_size": 256,
            "tms": false,
            "url": "https://earthengine.googleapis.com/v1/projects/earthengine-legacy/maps/6532ea337d4accce6e55710cb720dda0-4071564517380919f769672425771847/tiles/{z}/{x}/{y}",
            "visible": true,
            "zoom_offset": 0
          }
        },
        "88b58da60c67413c867bfd305bda52a1": {
          "model_module": "jupyter-leaflet",
          "model_name": "LeafletTileLayerModel",
          "model_module_version": "^0.18",
          "state": {
            "_model_module": "jupyter-leaflet",
            "_model_module_version": "^0.18",
            "_model_name": "LeafletTileLayerModel",
            "_view_count": null,
            "_view_module": "jupyter-leaflet",
            "_view_module_version": "^0.18",
            "_view_name": "LeafletTileLayerView",
            "attribution": "Google Earth Engine",
            "base": false,
            "bottom": true,
            "bounds": null,
            "detect_retina": false,
            "loading": false,
            "max_native_zoom": null,
            "max_zoom": 24,
            "min_native_zoom": null,
            "min_zoom": 0,
            "name": "Sentinel 1 (Water) From HF",
            "no_wrap": false,
            "opacity": 1,
            "options": [
              "attribution",
              "bounds",
              "detect_retina",
              "max_native_zoom",
              "max_zoom",
              "min_native_zoom",
              "min_zoom",
              "no_wrap",
              "tile_size",
              "tms",
              "zoom_offset"
            ],
            "pane": "",
            "popup": null,
            "popup_max_height": null,
            "popup_max_width": 300,
            "popup_min_width": 50,
            "show_loading": false,
            "subitems": [],
            "tile_size": 256,
            "tms": false,
            "url": "https://earthengine.googleapis.com/v1/projects/earthengine-legacy/maps/cfc351d83766a59d2899c62a95f828bf-b29df7829c7163eb530d7ee4550191c4/tiles/{z}/{x}/{y}",
            "visible": true,
            "zoom_offset": 0
          }
        },
        "eefebc22ec464b70a5bb4a2c4a4d5523": {
          "model_module": "@jupyter-widgets/base",
          "model_name": "LayoutModel",
          "model_module_version": "1.2.0",
          "state": {
            "_model_module": "@jupyter-widgets/base",
            "_model_module_version": "1.2.0",
            "_model_name": "LayoutModel",
            "_view_count": null,
            "_view_module": "@jupyter-widgets/base",
            "_view_module_version": "1.2.0",
            "_view_name": "LayoutView",
            "align_content": null,
            "align_items": null,
            "align_self": null,
            "border": null,
            "bottom": null,
            "display": null,
            "flex": null,
            "flex_flow": null,
            "grid_area": null,
            "grid_auto_columns": null,
            "grid_auto_flow": null,
            "grid_auto_rows": null,
            "grid_column": null,
            "grid_gap": null,
            "grid_row": null,
            "grid_template_areas": null,
            "grid_template_columns": null,
            "grid_template_rows": null,
            "height": "600px",
            "justify_content": null,
            "justify_items": null,
            "left": null,
            "margin": null,
            "max_height": null,
            "max_width": null,
            "min_height": null,
            "min_width": null,
            "object_fit": null,
            "object_position": null,
            "order": null,
            "overflow": null,
            "overflow_x": null,
            "overflow_y": null,
            "padding": null,
            "right": null,
            "top": null,
            "visibility": null,
            "width": null
          }
        },
        "c341f775e2614f8ab363998c4eb2fe89": {
          "model_module": "jupyter-leaflet",
          "model_name": "LeafletMapStyleModel",
          "model_module_version": "^0.18",
          "state": {
            "_model_module": "jupyter-leaflet",
            "_model_module_version": "^0.18",
            "_model_name": "LeafletMapStyleModel",
            "_view_count": null,
            "_view_module": "@jupyter-widgets/base",
            "_view_module_version": "1.2.0",
            "_view_name": "StyleView",
            "cursor": "grab"
          }
        },
        "bc59ab257a6e4311bf7ae32e86538531": {
          "model_module": "@jupyter-widgets/controls",
          "model_name": "HBoxModel",
          "model_module_version": "1.5.0",
          "state": {
            "_dom_classes": [
              "geemap-colab"
            ],
            "_model_module": "@jupyter-widgets/controls",
            "_model_module_version": "1.5.0",
            "_model_name": "HBoxModel",
            "_view_count": null,
            "_view_module": "@jupyter-widgets/controls",
            "_view_module_version": "1.5.0",
            "_view_name": "HBoxView",
            "box_style": "",
            "children": [
              "IPY_MODEL_c4597b223f754fe4b9fea6d3c8faa1c4"
            ],
            "layout": "IPY_MODEL_46a8756506634e81b8c0ea83791cc5e8"
          }
        },
        "8aa190138efc48ff8f2c29a137bce8ea": {
          "model_module": "@jupyter-widgets/controls",
          "model_name": "VBoxModel",
          "model_module_version": "1.5.0",
          "state": {
            "_dom_classes": [
              "geemap-colab"
            ],
            "_model_module": "@jupyter-widgets/controls",
            "_model_module_version": "1.5.0",
            "_model_name": "VBoxModel",
            "_view_count": null,
            "_view_module": "@jupyter-widgets/controls",
            "_view_module_version": "1.5.0",
            "_view_name": "VBoxView",
            "box_style": "",
            "children": [
              "IPY_MODEL_4607efe52713453ea8733d5da26b538d"
            ],
            "layout": "IPY_MODEL_8becade812cf41718309c2f7deaa4756"
          }
        },
        "c4597b223f754fe4b9fea6d3c8faa1c4": {
          "model_module": "@jupyter-widgets/controls",
          "model_name": "ToggleButtonModel",
          "model_module_version": "1.5.0",
          "state": {
            "_dom_classes": [],
            "_model_module": "@jupyter-widgets/controls",
            "_model_module_version": "1.5.0",
            "_model_name": "ToggleButtonModel",
            "_view_count": null,
            "_view_module": "@jupyter-widgets/controls",
            "_view_module_version": "1.5.0",
            "_view_name": "ToggleButtonView",
            "button_style": "",
            "description": "",
            "description_tooltip": null,
            "disabled": false,
            "icon": "globe",
            "layout": "IPY_MODEL_9d68c5aadf5f4186b0b476235c66beaf",
            "style": "IPY_MODEL_c8329bf31a9240059268e2d79fdec4c9",
            "tooltip": "Search location/data",
            "value": false
          }
        },
        "46a8756506634e81b8c0ea83791cc5e8": {
          "model_module": "@jupyter-widgets/base",
          "model_name": "LayoutModel",
          "model_module_version": "1.2.0",
          "state": {
            "_model_module": "@jupyter-widgets/base",
            "_model_module_version": "1.2.0",
            "_model_name": "LayoutModel",
            "_view_count": null,
            "_view_module": "@jupyter-widgets/base",
            "_view_module_version": "1.2.0",
            "_view_name": "LayoutView",
            "align_content": null,
            "align_items": null,
            "align_self": null,
            "border": null,
            "bottom": null,
            "display": null,
            "flex": null,
            "flex_flow": null,
            "grid_area": null,
            "grid_auto_columns": null,
            "grid_auto_flow": null,
            "grid_auto_rows": null,
            "grid_column": null,
            "grid_gap": null,
            "grid_row": null,
            "grid_template_areas": null,
            "grid_template_columns": null,
            "grid_template_rows": null,
            "height": null,
            "justify_content": null,
            "justify_items": null,
            "left": null,
            "margin": null,
            "max_height": null,
            "max_width": null,
            "min_height": null,
            "min_width": null,
            "object_fit": null,
            "object_position": null,
            "order": null,
            "overflow": null,
            "overflow_x": null,
            "overflow_y": null,
            "padding": null,
            "right": null,
            "top": null,
            "visibility": null,
            "width": null
          }
        },
        "4607efe52713453ea8733d5da26b538d": {
          "model_module": "@jupyter-widgets/controls",
          "model_name": "ToggleButtonModel",
          "model_module_version": "1.5.0",
          "state": {
            "_dom_classes": [],
            "_model_module": "@jupyter-widgets/controls",
            "_model_module_version": "1.5.0",
            "_model_name": "ToggleButtonModel",
            "_view_count": null,
            "_view_module": "@jupyter-widgets/controls",
            "_view_module_version": "1.5.0",
            "_view_name": "ToggleButtonView",
            "button_style": "",
            "description": "",
            "description_tooltip": null,
            "disabled": false,
            "icon": "wrench",
            "layout": "IPY_MODEL_f89a6d24cf7f45dab21d399dc19f33da",
            "style": "IPY_MODEL_7a9e62a0e8d4400bafba6461ea2ef3da",
            "tooltip": "Toolbar",
            "value": false
          }
        },
        "8becade812cf41718309c2f7deaa4756": {
          "model_module": "@jupyter-widgets/base",
          "model_name": "LayoutModel",
          "model_module_version": "1.2.0",
          "state": {
            "_model_module": "@jupyter-widgets/base",
            "_model_module_version": "1.2.0",
            "_model_name": "LayoutModel",
            "_view_count": null,
            "_view_module": "@jupyter-widgets/base",
            "_view_module_version": "1.2.0",
            "_view_name": "LayoutView",
            "align_content": null,
            "align_items": null,
            "align_self": null,
            "border": null,
            "bottom": null,
            "display": null,
            "flex": null,
            "flex_flow": null,
            "grid_area": null,
            "grid_auto_columns": null,
            "grid_auto_flow": null,
            "grid_auto_rows": null,
            "grid_column": null,
            "grid_gap": null,
            "grid_row": null,
            "grid_template_areas": null,
            "grid_template_columns": null,
            "grid_template_rows": null,
            "height": null,
            "justify_content": null,
            "justify_items": null,
            "left": null,
            "margin": null,
            "max_height": null,
            "max_width": null,
            "min_height": null,
            "min_width": null,
            "object_fit": null,
            "object_position": null,
            "order": null,
            "overflow": null,
            "overflow_x": null,
            "overflow_y": null,
            "padding": null,
            "right": null,
            "top": null,
            "visibility": null,
            "width": null
          }
        },
        "9d68c5aadf5f4186b0b476235c66beaf": {
          "model_module": "@jupyter-widgets/base",
          "model_name": "LayoutModel",
          "model_module_version": "1.2.0",
          "state": {
            "_model_module": "@jupyter-widgets/base",
            "_model_module_version": "1.2.0",
            "_model_name": "LayoutModel",
            "_view_count": null,
            "_view_module": "@jupyter-widgets/base",
            "_view_module_version": "1.2.0",
            "_view_name": "LayoutView",
            "align_content": null,
            "align_items": null,
            "align_self": null,
            "border": null,
            "bottom": null,
            "display": null,
            "flex": null,
            "flex_flow": null,
            "grid_area": null,
            "grid_auto_columns": null,
            "grid_auto_flow": null,
            "grid_auto_rows": null,
            "grid_column": null,
            "grid_gap": null,
            "grid_row": null,
            "grid_template_areas": null,
            "grid_template_columns": null,
            "grid_template_rows": null,
            "height": "28px",
            "justify_content": null,
            "justify_items": null,
            "left": null,
            "margin": null,
            "max_height": null,
            "max_width": null,
            "min_height": null,
            "min_width": null,
            "object_fit": null,
            "object_position": null,
            "order": null,
            "overflow": null,
            "overflow_x": null,
            "overflow_y": null,
            "padding": "0px 0px 0px 4px",
            "right": null,
            "top": null,
            "visibility": null,
            "width": "28px"
          }
        },
        "c8329bf31a9240059268e2d79fdec4c9": {
          "model_module": "@jupyter-widgets/controls",
          "model_name": "DescriptionStyleModel",
          "model_module_version": "1.5.0",
          "state": {
            "_model_module": "@jupyter-widgets/controls",
            "_model_module_version": "1.5.0",
            "_model_name": "DescriptionStyleModel",
            "_view_count": null,
            "_view_module": "@jupyter-widgets/base",
            "_view_module_version": "1.2.0",
            "_view_name": "StyleView",
            "description_width": ""
          }
        },
        "f89a6d24cf7f45dab21d399dc19f33da": {
          "model_module": "@jupyter-widgets/base",
          "model_name": "LayoutModel",
          "model_module_version": "1.2.0",
          "state": {
            "_model_module": "@jupyter-widgets/base",
            "_model_module_version": "1.2.0",
            "_model_name": "LayoutModel",
            "_view_count": null,
            "_view_module": "@jupyter-widgets/base",
            "_view_module_version": "1.2.0",
            "_view_name": "LayoutView",
            "align_content": null,
            "align_items": null,
            "align_self": null,
            "border": null,
            "bottom": null,
            "display": null,
            "flex": null,
            "flex_flow": null,
            "grid_area": null,
            "grid_auto_columns": null,
            "grid_auto_flow": null,
            "grid_auto_rows": null,
            "grid_column": null,
            "grid_gap": null,
            "grid_row": null,
            "grid_template_areas": null,
            "grid_template_columns": null,
            "grid_template_rows": null,
            "height": "28px",
            "justify_content": null,
            "justify_items": null,
            "left": null,
            "margin": null,
            "max_height": null,
            "max_width": null,
            "min_height": null,
            "min_width": null,
            "object_fit": null,
            "object_position": null,
            "order": null,
            "overflow": null,
            "overflow_x": null,
            "overflow_y": null,
            "padding": "0px 0px 0px 4px",
            "right": null,
            "top": null,
            "visibility": null,
            "width": "28px"
          }
        },
        "7a9e62a0e8d4400bafba6461ea2ef3da": {
          "model_module": "@jupyter-widgets/controls",
          "model_name": "DescriptionStyleModel",
          "model_module_version": "1.5.0",
          "state": {
            "_model_module": "@jupyter-widgets/controls",
            "_model_module_version": "1.5.0",
            "_model_name": "DescriptionStyleModel",
            "_view_count": null,
            "_view_module": "@jupyter-widgets/base",
            "_view_module_version": "1.2.0",
            "_view_name": "StyleView",
            "description_width": ""
          }
        }
      }
    }
  },
  "cells": [
    {
      "cell_type": "markdown",
      "metadata": {
        "id": "view-in-github",
        "colab_type": "text"
      },
      "source": [
        "<a href=\"https://colab.research.google.com/github/MayerT1/WB_HydraFlood_Example/blob/main/HYDRAFloods_G4G_Giovanni_example.ipynb\" target=\"_parent\"><img src=\"https://colab.research.google.com/assets/colab-badge.svg\" alt=\"Open In Colab\"/></a>"
      ]
    },
    {
      "cell_type": "markdown",
      "source": [
        "![SERVIR_flat_color_stacked_128pxH.png](data:image/png;base64,iVBORw0KGgoAAAANSUhEUgAAAJwAAACACAYAAAD+rACtAAAAGXRFWHRTb2Z0d2FyZQBBZG9iZSBJbWFnZVJlYWR5ccllPAAAAyZpVFh0WE1MOmNvbS5hZG9iZS54bXAAAAAAADw/eHBhY2tldCBiZWdpbj0i77u/IiBpZD0iVzVNME1wQ2VoaUh6cmVTek5UY3prYzlkIj8+IDx4OnhtcG1ldGEgeG1sbnM6eD0iYWRvYmU6bnM6bWV0YS8iIHg6eG1wdGs9IkFkb2JlIFhNUCBDb3JlIDcuMC1jMDAwIDc5LmRhYmFjYmIsIDIwMjEvMDQvMTQtMDA6Mzk6NDQgICAgICAgICI+IDxyZGY6UkRGIHhtbG5zOnJkZj0iaHR0cDovL3d3dy53My5vcmcvMTk5OS8wMi8yMi1yZGYtc3ludGF4LW5zIyI+IDxyZGY6RGVzY3JpcHRpb24gcmRmOmFib3V0PSIiIHhtbG5zOnhtcD0iaHR0cDovL25zLmFkb2JlLmNvbS94YXAvMS4wLyIgeG1sbnM6eG1wTU09Imh0dHA6Ly9ucy5hZG9iZS5jb20veGFwLzEuMC9tbS8iIHhtbG5zOnN0UmVmPSJodHRwOi8vbnMuYWRvYmUuY29tL3hhcC8xLjAvc1R5cGUvUmVzb3VyY2VSZWYjIiB4bXA6Q3JlYXRvclRvb2w9IkFkb2JlIFBob3Rvc2hvcCAyMi40IChNYWNpbnRvc2gpIiB4bXBNTTpJbnN0YW5jZUlEPSJ4bXAuaWlkOkVDRUY1NDc5Rjg3MjExRUI4NEEwQzIzOUMzOUMyRDFDIiB4bXBNTTpEb2N1bWVudElEPSJ4bXAuZGlkOkVDRUY1NDdBRjg3MjExRUI4NEEwQzIzOUMzOUMyRDFDIj4gPHhtcE1NOkRlcml2ZWRGcm9tIHN0UmVmOmluc3RhbmNlSUQ9InhtcC5paWQ6RUNFRjU0NzdGODcyMTFFQjg0QTBDMjM5QzM5QzJEMUMiIHN0UmVmOmRvY3VtZW50SUQ9InhtcC5kaWQ6RUNFRjU0NzhGODcyMTFFQjg0QTBDMjM5QzM5QzJEMUMiLz4gPC9yZGY6RGVzY3JpcHRpb24+IDwvcmRmOlJERj4gPC94OnhtcG1ldGE+IDw/eHBhY2tldCBlbmQ9InIiPz6XABAKAAA/ZElEQVR42uxdBWAU19Pfc7/k4u4uBAIJBBJIggW3FkqBIoUiRSpIhRao0PZfB4qWQinQ4hQvHiOBuBN3t4uc2zfvkksvl4shbeh3Q7dw6zv7ezO/mTfvLU6hUGA66So5da22XIFEX59GarTSo1XSSQSJatuDkgaX/Q8LV55ILVtEIuAolnq0UlMmtcqBQ893MmDkDjbTS/U2Y2facxhleJxOl+qC0wHub3lU1uh9IbNy2t2C2gmP61q9BFIZg0ok8MyZlIqhFvqPprmZ/TnF1ewWm0IUov3vFtQFbL6R/lVCQW0QRibCGoXyP4yAx/RopFoHNi13zSin3ct9bf7QaVcHOKVI5ArcqdSyWfseFq5+UNoQgomlBAQYjIhH6mkDkRwWqVy5v60RM+vNAIcf145wPEwj4qUimRz/9tW0nfui87ZgJAIc0m7SkF4lMoxMJ/Ny3xrnaKNHq1ZazvpWKyaZKLBgUev/P+qbsH379v+3YDubUTFpwen44/uj8t4p5fIdAGR4JWgQ4BBwEHbQ38gvEttA2MQXG9/Kqpx6Kad6oj24TzcjZhFYvdtEMrH5fn7NWCVK0R8EUgCdrFlAdrbkZPhZ6ieja34Rmbv+jVNxR8p4YiNLNrXEjElt0Fm4/7iUNQuN3ruZ8fHp1LKlMoARFfiZSConyaQyKiaTt1k0BDQEPALub6ulEmTtBGLM0JBZfGbB8JdC7I3i0erU6mYPKVg82B/fKBCzypuF5ukVXA8PC/2MJYOtz6F9FpxNOHzyQf4yBF64MH+2h8XxjUHO3wMgH+sA9x+V4iaBcWWzwNKSTavF4XBiWEVsEUmpABJORYvQPLuu1Sm9unkQAMgnv4HnJuKLGcoDkZWTyDE3S/2ktSMcfpzpbn7NlElpIOJxsr5ee8f9nHd2ReZsbIDrYESwpgBwApnIX+Jrc3BriNuXdvptrlcHuP+nklfPs4koqgu4nls9ObaoPmChr+2RD4Ndv2WSCeInPWd5i9Do18SShbti8jdUN/DslAGHWIpx2LSqzaNdPlsz3P4oBCY8HeBeYBGDqyto4NmWNgms4YVbVLeKjCBgYCEe207ypUDmG02YlFog9BXAryqs9eiVVCK+Ix3SKpZSYB+RtvNL5WJCSUOKX0VT1jCuoNqBL+YyqSSmkEkxLDdhOWRY6LklGdCtytWPqWgRGewMz964L7bgXblISgbgKZwMGGmrAxz+t26Ew+8kPE6uA9wLIjKFAk/Atb2wBoGEMeFo9JWUiqYRUsTT2gm9do20cTcSuDkzJqXCyYCeM9hCP34buDs9ClGg7ZCEkosLogtPvFvdXDBEphArYwaINJQRLvqDhz80MrvJSt8zarDV1KPeFuMvEvFkqer4G7k1QXfzaka/CjxvkJne4/9y7u4/B7hLWVXjHlY0un00xvWAyjotvZj8/dGo3LfgrbdFnn0RRXs6BIKDCYNtzl5ZMOIVEqEzVwOrRjyfvP1AYunlZUQCGSgepYfTyYH+ieBvGWah5x4f4rJ8u5f5+Ku6PNwLKpWtIs7ma2mfn0orXxS5cvSo4VacVLQ+tqxxcMC++/EYHk/A+ms5QDVEHCZIXhfq5WnMKtDcfCXj668ico9sppP1+5n7awPeUOsZe6d5b3mXTKALVdtuF9QO/zY8Z0urTMHGYQq5NZtWNMnF9Porg6wuEP8Dpo/4XwDbNXBJay4mHSguaXDfOmvIJhXYkHwWnvMBmCICRsH3C2hKCyeWYcNcTGK0ga2yOdvtUdGZd8BV9vt+SUpLqMAeFZ9bU88rc1no981LdDKnCW0bYq6fzZXI6bFZlWMxKlFpZU/GFa04klhy8fd5fgtNGOQXOpjAv+hg+yoyd/XUow9uFde2ulvYGBRuGuW0V7Uts7bF4UZ21fS2bictoJK19QZgIqBTQokyUkRpCjweJ2LRSI0cOqliuqvZZW3Xza6Omi6SCcAAPqkKcRiNxMYK6h+NOxm/6YxEJiSjtYY0EvfqohFznG0MUpS7UeDeaSTsblblzMnHHpwHPkrXWbh/QRC9Wnc19au94TmblZYAEPT6UNv9bAqRr9rnTEbFTJlQQsGopDaAyeUdXVQYmSA306OWOnIYua5GzMcuRswcG316kRWbWmlEJzfoUUktFAJewKFptyh1vBJn/DNor1QiC8utjRn/V9buT6Z6bXoPrTOgkXhH5vguHXMwIgaCH4oykAHQJRTWTXj5j0cnrywKeAl1q+kA9w/Kqksp3x6Kyn0HvQgEJjKdLFjoY92pk/xOfu0kJTKR9SITFQ6GzCxwtw+C7AwjhllykpwNGQX6VBL/iewTDi97Vs9CJbGwh8Vn3h1iPeWEpZ5HGlo3ysYgaam//Z6f7z1+F6OT23o9oOHczaycsfh84qFTc4ctxekA98/I5xG56w5Ft4NNGS7KMF8b41gXQ0aJap9avlgvparZy8OKEzfNw/zidDfz60Ms9NJoRIJWyyCRKXAFjTybjJpm9zQ4Lr2mxbOgusl16QjHg2uH2x/V3N+EafdYgT2bNBlyyxIZnxhbeGrdnME73lCt3x7s+mUjT2TwsKxxdFkDz1HZeMDFnokrWuLAYeR8Od79Cx3gnn+AMGrrjfTvlNymI+kmx0bbGd5T3w/l4C4vGD5lpI1BYnfR3ePaVrvI4rqR4UX1wfHlXH8AnLNEKKUrXS9yY8DvHIDEawOco9Hwv8gEGrBABQGHPb2tIRGoWGF9wgSxjEclExjKqNWSTa07O99/mUAiI90vrBt1PLl0/uXsqjktIqnhV3cyd8KzPZzuanpXlxZ5TlLdKuL47r0XV8EVOLaVD7ULuMwzS0ZOe8nD4kpv5wBr4XnlcdWUG3k1U1KrmoaKBZK2flJtHfUAZBtDZm7OhrGewOckmuf6Le6t85mV92ZRiIynfjZkLQk4ouTN0SfdDBk2HVFxs0iKggS5qgavoJFvuTsmf+W+B/lvUchEQfY7493MmJRGXZT6HGTl5ZQfK+p4f4MNtRWBBDPiMMoHmbLTujuupElg+k1U3iq/vffDR+wPT/7sZsZX8cX1o8UyOUNpKdFCxHetCgEQltS2ON/Mqw3Udt7xrm++RyUyWuWKZ8PfkbWUY3KS+rqyZoHZoD1347f8lfFRXgPPwoFDL/9+svfHj9aF+noZM1PfuJT8oy4t8hzkeGrZ9D+TShe1RaRtvA0skGLJCIc98WuCh7oYMovV90ddW2DNBi05l7jbe9edtE2XkvfFlzaMBlARlVGrerFkTwJR7dY7WdsBnATNTWZs55wpXptWSWRtidynAht4GjKB3sAg6XWqFrFk0yqbRDLj/93M+GTInnsp66+kflbeIjSEBpYXtTp4vLsRKx0axHAdh3uG0iiUMN6/mflNh2UDF2pvys78ceqgddNczbRymLTqFqeAAxFxCpGErMzDUUn9uyiqiwMOZ2bIyJ/pbnZRrlA2zi6oGmYz64RYJjC4kv6/XQQ8Cdwiud309k/gHJibadBtOpnD1eCiEhqJ0MSlkkxaxVKj3RE5H55KK1u4fazHh6v97U58NcHjf/kNPBMd4J6h7IzI2VBW0+yMUQA0Qik208f62L4ZgzcAd+F2dwyHRmoho8JKTEHukyVTT/CJpZipAaN4tb/9D6v87X8xZVKaezpkpP2ru2kkVuWV9G/28sWNxmTgdP0JJGRyCXh1Oj/YefmnmtsEUhlTIJFyOiqPoeHUtIps15xLOH49pyrs0CzftY4GjBqdS31GUsMT6/8cX7xeWawIFueDCR7vXVgwfLE62HgSGREiObL6cRZMSo0Vm1ak7E3oq4ikGINEaHw31G170tpQ322hbj+owJZTz7PecffxBjQGQtuhQ6ymnV0ZeGSEp/m4P+RyiUIk5QF2Zb1xNgzth8cTWmb7bJtvoeeWqbkPTyylS9XGVHQEOMA7L6eWLQw6EH4/pRoaow5wz0ZOppbN4TbwTJEh2D1ryJLPx7l/pb79dkHtiOF770ek1bS4dU4z4GVDzNmJStfYm6DuLVheHmJ99OHq4GHfhHntMGdSOsYa7H1UuGDk/vDY7ZdTflhxMalbkm7CdChY6Pfd/GUBB0b5WIYdpZKYNWIZH4xyqxJY6N9oQf8WSlpQBYnUxWTkpRUjfw70sZx0Sds57fTpFbeWjAx1NWMnIeveScDa5da0DA77Jfp2QmWThy4t8tRRG4b57Q+PSMirCdo7z2/Baj+7k+rbtt95/O5n9x5/LhdIKBdWBIbNdDP/S/34fXFFr605E/9rt/wNPTtYNU9LTvzOiZ5bprt15oPFXIHphiup3/6ZWrYAI+HbLAu89Ff97H46Mtt3PZnQc4Fki7DWsJSb7lfOzRzWKKhwlMpEBshpU0msagBnqoORXzhYtYzujm8Vy6gVLUITlNAGS6+38Ez8L7cyK2Z3eh6ckgBi5vr0wruvB4aiQT06wD2h5IIbc/nmr5JPw7ze3jrG5QfV+jq+mL30XOKBK6llryijVgDNx5O8Nu8Icfta/fj8Rr6Fx647OWKpjNGFx4FFIxIJ/I1Bzp9/GOz6jWbJ+On08kkbLqf+VNXIt++IjNXyfiGuZpeOvjT0DdXwv+ch793KfP9AVN6680tHTguxM0oQgztfcSFp17GHBWu7NCKBGJvpa/vbhfn+r+lc6hPK9bzqCdO9LY+pgy27vtUm+OfIW1fSAGyoa0tJpvHYw9LGkZrHO3LoFcH2Rn8pXaa6aQTADLHiRNxdHjTqiwkeO9XBJpTKCeuupH4678TDa1Utwq5ga3dl93Kqpw/76V5cdEmDz/N49lPp5WHfhOds44qk5jOPxd64V1Q/nIzHKX6d47tuQ7DbTmX/sLqtgEg8oYI7QiCVk3SAe0KhEPCNB6YPflv1O7mq2TX0UOSdjAquf6cWTsRjj8q5AfUCCUvzHGv87fep59SA08k2hrpvj145ZmyQrUFyJ4vawLMa+0vU1T3hOVuVQQqxB/WAeyUQ8FJLNu2ZRogimZz406PCRQtPxZ+DZkJBwUGzUGI081jMlfCi+iFonx8me324IcTtc2VZVcebxGPQQKxLmwTmOsA9oSwebHPRrJ28QyTmOOlo9I0KrsCpS30bHoc1NvFN7xV07RGY4mJ618vaIBZrFWFmLGr+xdcCJnwd5rlDs7zncnb1GIj4oh7k105ss5y9kEuA7tE5vovs9GmV6EdqxV+zjz3acCKvNjZIJpc8sV5RV9aHt7K+kkpldGUaBFEeAH6zQGw050TsJQiOnJSgm+S1dXGAwy6lpWvnchLgfCVNfMuB/E4H9Mh7IrgQ9Hdps8Bo4pEHN8sa+M5g9rTvDNZLAu71FW/L852xiFMY0Mg1DUIJ/dLikbNGWHPSNQ/9JjrvjeVnE0+2iqSGGJnQBzMkwdaPcd25drj9r22XFhHPJW87mVPzYFx65e2lWVX3ZjTwy6zROAYinsynEOkCHA6n6BqzyLEmYbVZdk3k+OSyq6/aGw2LYJJJQhaVVHsto2JWJwsLFlUgkLD/yq8NnettdYpFJgqmuJrdiK1s9i6ogggV7Qs6mOlledHdmJWjCxqeUBCnCj0SfS0mr2aCkk8purc6FAKuNW39WDdnA0Z5X86N8ltrr6T+D4j5JiXQ+jJmAPigu4V+fPyqMaPopDbuF1dy/lUA3AlUTIluRCqXoAE2cDoCxqQY1K4cdcTfkGFT1MAvt4rKP7ZVJOWRhNJWwyZBtXWToMqhVdSgj/ZfFrAvzN00+C+4L5z/gYjIpJL6UcouOPWIVCDFxriZXb25OGA6mYCXQwDFCoB982qafZAOzi8OmDPL3fw8XyIjwP3JBtr7HPB5uC23MrfH5FRPUHaw99Q24GWI+GLmvkeFK/ty3kaweNOPx/5xIDJ3kxLIfQEbXB9PwIsOTPdZoQKbRC4iPyg4sZXUMWILh6wanJKp/Fsul8GuFGWlh1jK04sp/H1lYumlZVlV4TOqmnN9RVK+Pqo2QeVJsYWn3lZZ9p3j3d/X6srhXsOzKqe8+1fGJ2iVEZ3ccnzusFcpJEIL6iVBKWK0PqOmxVqOYTgd4PohV3OqR++KzP2gz/2gwO1+iS9eXcTl90icy5qFxuN+ib56Pb18XkcRZ58YvQTbEuL6SZCtYUewkVR6eUFlc647AU/WkuZTYDQyqw4sH7ft9mhCGklPTCbQwaDSlIBEVlC5DQBXUB8/voybrox6w5xMIse5mV9UjrPQEiXvicj98ExGxUT0c7ilfuZnYV4bUUEDGsyN1lW2Cm0atQRROsB1I6g3Z9vdx5/AP/B9bqfAc5oaeEY/xBSs7m6Xgka+xaiDEeGJJfXB/erQF8swb1vDh9uCXf/XgT9pKzUy79f3Sd2MR0U1bjQSu44EQGsHIGL4su5MtFQmwseXXFyhWrMj1PUTeCaZNmuOavfWXk45CI3HEK16d6TjwRBvq3OGNLIScGginbz6Vjsd4Pp6Yzhl91TfnQKuzQI5WHFSXve1Od7dbhCdiqgkgqhfN9PuSvdMHbSKQvg7uo0v+fO1Wl6RM6oS0d5oZBiDYlit1pEv6x5wbVW/WVX35/HEjcqBriOtDZImuYOVE0m1Nq6aBp7N2zfSv1I9/rE5viucDRn56DdXIOFk1ba46gDXD7HTp+dhfQlqlGCTYg7GrMQbS0aGeZuyu43SzFnU+quLAqaacxi5yoRwXwANQN4Q5PzlaDVXCtaNFlv0x2YEkm5xClEoi2JUpsHCFN03MpRzqzECfjdVtW7jKKevwZppPwYs9NnEkteBeoxBP63Y1EZ2+3QUQqnMIKeepwNcf8TLlJXep3EqIhkCW9qNpaOmQIRa1dvuTgb08suvBUwzYVNLkKvsOZSVYU4W+qmfjHXrNGBFad1aixwJOFIPhlGB6dFMS/pn2QlYWsVfC1W/Q+yNHvrbGd3r1Fui0djeu5X5tWaBaEWL0OxxXaubDnD9kKEW+onKcQa9pCnMOfQCANvUvoCt49zmetnXloyaaKZHy+8RdEDEdk8Z9CZTzQ2LpDw6WLctJDy1V9PLoZkVadjiHh+ISKBgJY1pY+p4xbaqA9aNcNijJLXa/TCWXlzvtz+uqFMfamEj37GEy9dxuN6ktElgVMQVGKN/DzHTS2UzKXXdKlsGLotGrru4cMQMAFsXS1LSJDAJOhB+Kamqya0b0D2+tzxorJsZO6EjY98pCSjBFvnZ7Q1zNonqbN0uLgbrZt8dd+sAD54IFs5c/b4ImGp6sG4hiscEkiZqTs2Dyap1M93Mr1mg6Sa6q+0D2tEkkrLVcpfEtJpmb55EytQBrhe5mV879lFZo7JG35RJ4fpZch50Kj5UUzLqzTk2d9h8f0v9Lr0HXKGEPvPEwzNRj6unvfJH3O/gYjjarudmxCy+vyJo3AQPi3OdOsQBzCYA4q8nen3UyXsj61b4x6berBtypyQCTcymGnckoXFoPEUvgFOiEtx0dnXEDNVvJpkgmutpcUKrW4V1TpYGqRtGOBz4O57AySFarW4WSvXE3RSM6gDXLtElDUEpVU0dFRizPMzPKceJduFtUuzzMK+3ZrqZ3e5i+ACM88/EH0kqqhuNsalYTmXT4NknH50DEGodz2fKoHCvLQ54aeNY949Q577yxQLIv5zo+a4pg9ypjD2h9CKKTHu1bmhQDY3EqmNBlNpBB+USMnhoYm+BCoFAxsqbsgKahNUdYxXQrAJ4ClGqmTvC4XGSfdN9VqqGESq9LADuJU+L081g9SQyOVkHuB4kv4HnklDBHdYBOHfza0w2rbGTWwVLNNvX9sj7Qc57tZ1j3dW0L26klc9tm1OkbbT6w/zakGm/xQLotLsZAg6HfT3R87NLiwPGW7JpBaNcTG8sGWJzVsO60WIKT23snbu1pURYVOMyKonF+zvY5VEAdPjexjugOUt44kZ2aUNqR8mVr4Vepo+FflyHlUPqEEuxnZO83xrnYBSreY7JLqa38HickC+WUXWA60EaBGJOfAV3OF8iU5oQCxa1bqqr2dkORUvkmJ0pO/PgdJ/12o7/6VHRon2Rue8pB9x0SiEQsai8mokTjkRfQbOYd3f9aa5m9x6tDfE/MWfoYk1YJJT+ubC2tdCxN+vWZmVlEDBY5KnHCOBmaf3J/eXVPRynHm3McDc7ryyZV1YqS7At4z22vxfo1KnRidtL6j2MWTnuRsxsaEdEHeB68Sj1DXzzpMqmQR0Wa4T9T8DAZUpF4zDJwZlDXjekk1s1D4wqaRjy9uWUfW1jTrWcGSxdXFHdmJCfI28nVzW7dHcD6KMdtvqd69z4kibWg4LfN/fFuqlycMZMu8edY5AmpkwuxfqS/CNAwFHOzRwFLhinZrWuo7o31Pg+CvPa+OV4jx2d71FGWXct7VOpXIFHs0h5mrCT5Aodh+tF0TgByn1dyKrsIM0jrQ1SxruaXcKahdiqkY7fjnc07uJCavli1sLT8cclqJy8p454AF1ebYsPgC78bHtfZF8krzYmuLol10mmkGJ9mcQGuU1jln1WZ+sjZGF9nAAHWdF6fqlrI6/CSrXO24SdM9zR+Pqx+f6zPwl1+1bzmO8e5K86+KDgA4j00aAjzNOElQIsT64DXA9iQCU1odzbmYyKl9XLpTcHOn9tA9Ho52PdP9d23OrLKT8W1zR79KmeDSwgVyA2e/nEw6sf3Mp8XyLvvTfDzXTM7WUBBya6mQZdADCJ0EgsmVyMae84QBEqVWHIsO7U4yGQNOsjy9cXQekRoaSFVtmc7fM3K8BL7i0dNXWRj/UFzf3jKrien999/Ckmk+GTK9uCLnCrWXCMSAe4HsSMRa1AbqOkpsXtek51qGp9iL1R7PWlgWEGNFIXV3oooeTlc4klSzsmHuybCUEL4YtbmTtDf466DoGKm6IHX0cm0ATupmNuvua/a/bKwKNDQpyX7zBk2qShOjYEvrbpHuTtAYMco5P16vQ75+AwvrjJsC+3p1DW1IkQQCFazfRT30Yj4rsgtrxZaPjK749OCcVSZXVIYmWTshTdy5SdQyMRhAPp/Q64kfd2+vTiNq6Gw3bFFqyf7dE29A+MnsLDmNmlsLKIKzDdfD1tl3IMQn8FwQtACsFEWMgv0T6Z68d6W7F7/+iaOds1C5btoa4rP4NIclhu7YOwwvrEsRBQDAKQsEVSPmbCsq9gkPW5nQHHNekMq7Z8ohz9kcswudJdK9AofAmcP9nZZOSlwVaTT/Z0L2gevFknH54vqGnxVNb1CRVYdnuXFjxL00B7vwMOcI4GjHzlSCxwjRH5NWERxfV+o20N47rb/90b6V9xm4VmWkdX9UNe9rI8Y8nu34fWSHiK1MHILxYt8HN7A7/Msqo5Z1BxQ4qfHs20RtNgNgmqLZAbRtYQB88IgYGCSCDzqCRWA5tqXGLCdEg313N9ZMPxiTVjO2epauW6EzToZ86Jh6fTyhoDOgpUgb+WNQussAEqA67E/G5h3YixhyJjlDX6Yhk22sX02t2lI6cStIwJQANfph+Jvt8n3tZ9/gLjMMhVGevHepkzKc/1k5LAx1x5ogZjHA6PKkPEKEcH1oxLJ+s3UonMfk39eim7Knjl+aRfqpoE9p2eXyrH3MzZSelrQ30JuIE3KeuAs3DOBowCGo3ULEB9g8jK5VRNvpFbM3qKi2l4J2shkjI2/ZX+3VMXUUuk2KYgz0+1gS2t4ubUuJLzSwMdFu1yNgkIxz0l5QU3mQ1/ZT+tjo4mlby09FTc78B1idoaG9gQSjs/l+sA14tYsWk1rkbMjOQScBPI7ZCJIjMmtcvo9hIu3yK7usVHSf6fVMAa2JvrZawf7vCzNuIeU/j7ltzamMD82kezrThekYMtJx/1NA+9xKaa1P2bOmoVy/TBMgPY8N0EHQNXBlyUirwAmmlcmVEHQPhY6D/ytdDr8i1Rb1N27ndTvVcpeyCeVMNwjR2h7lsZWr4MmFMTFVrckBzIIBsoK3HLGjOC/kzbeXhPxKvppxM/OJJeeXtaq6ie87z1AYGIXT2vxFZ9nZMhI1c510l3ATgOJ8ANQOs2IC1cWwrE+P6BqLx3MZkMC7Yzut+d13w7wPHnkiaB5Q93Hm/v12AYpSuVYUPtjcIXDLK6qG3zg4KTmxWdUncUjASeSihpMU0qu7YkufzaErB0VVb6XtF2hr53bDiDHhoxbXPoJL3Wp3l2FKnW8UociuuTArOqI6Zl10RNHOeycmeIyxtfqvYxZVBrICqXK78bh+vqT40Z5Ho8bmBOqj8gARdka/CAwaI28JoFBsOtOfE97ft9mNcOgVimdyAq9+1+znKp+HSc+0faOiUK6+P98+viJpC1lI+jyBGIviqvZpZZdW8OWLs5yAqyKIZlEG3mTHTf8L694dBHnfEtpAqlrUwcpvxAHF4ml5BFUh5TIGnmNAmrLet5pU61rUVe1c15gxr45a5CSTMNB9eStY1x7VRwwKERm6lEAl8oljK7TNIjV2DWevSigepSByTgLABsoQ5Gty8nl811giBCfRuqazOgkUHhf49m2j/d5x3kSQ5E5q7vk6WTKKPf65OcTCK1WrfC3zfKFFIckKSe+QgAAg33UzGnFmGdVaOgwgqsYZdqzuiCE+vv5/68mUJkIleHB0tGlshEVAAUCYEK5eJQUIL6UNEC+ymPEynkGF/S3Gm4H/pCDomAEwoxjKktYhhsxk7Vcbh+ykuelmeApyhUw95U8tGdxx+9cSn5B839AXQbVo92+bKtiFLRm9/Clgy2PqptU0XzY/fs6qiZfwOpz+xTuRgz7PLNWE4ZWlIivkJJqyFYNGNYDMVSPgsCExICFxksJho4jSwnGquqJRruZGoZZKIEFrHW5yQSsBHWBjE6wPVTwpxNblsZMNIk8r+rJSRyBSG8qG78b9H5az8Lz1mreczeaYPe/2Sy9zttsyT1ADoyEfMx6xqIIIkp+OMtiUxAepKPfaCP86LELZFAFWtGvI28cic0XgFZRbQgd4nrfYiD1sATvKhca8pDLMP8bA3vjrDiJOsA108xoZO5QOhPNIukHR8jzaptdShs4Lkit/nR9fTd++KKlmge91Gw6/dH5/mhj581dTvSCSyDRNZ1HjUUDWZU3XmVTHyyD/ahPlQ7gyH3NdfzRA0GwNPse+s56Pt1MLxCs1S9rZdB/uUEj/eJA/jT5QN8ui7rPyDa6vjsd2Ild7BcJCUpy4+IeGzNhcTD2kAHx527+XpgsKMRK03r4BiwBLGljUO7uNOmrME8EZeJx54EGArgVjSZrcGQaM0tDfwyR76Ya/AUgOvUAc8TS8k8kbTz7OzwnMtHOPwQam/0aCC/0wENOHdjVomXCatQ9VvZKa3iLXjlzJf4NecSj3wekbNG89hAG4Pk6FWjR88abHNMCTr1EiQA68+JxculGsWJZmyXNBqJJZQpJE+Q0pNiHIZVngnLIbsrf8vxlsjFT6QD1LXPpHA69fG2iKRsgVTG6gAcNCA3iOa/mei5FRvgMuBnT1J3D1UtQvNOrVo5HwQe23ot7aeNNzI+1jwWDY45/6r/4l2zfZeyyITajikTAHDpJQ3+X0XmrVPf35hpXzDRfd16mUImVfQzm4zKlKw53uFA+qVdLedjvyf7AJwCfSYTs9Vw01ElDX4ygYSsPCXwVQ6TUnlqnt8reu2j7nWAe0bCFUq7zhqDAEgiYt/ezdox71TcoVaxrMs+60Y4HI1dHTx8urflSeWgZxRUkAnYtpsZXx9LLp2hvm+A/fxDU702rZbK+l+36GQ0/C9tFqqqKXsoikb7x9Nk4Dq5mLf5hJOORv6RavwN2/OwYJ2ySw+eg0Eh1l9cFDB9kCk7/0V4hy8U4AzpJIHWVEB7XdvphOLloYejroPrtdHcxcOYVfjnwhELfl8wfJqLMSsZWTuZTE5ecj7x1OPaFrvOeS46T96Pb2cplJPWcJrtDH2jNLc1C2rM6nll7n0ZePO3e5ag7rTGQMdF380ZvP11nDJGaJPPwrPfTi6qD0TIM2SQy68tGTVptK1B/IvyDl8owNlz6D23YgBdXHFdSODBiKjT6drHK7zibXklbk1wwGeTB20wYFDKCXi81JDR+fOPxY3JY/pzX4ifWep7xOhRTbtMMF3elDmEL+Ey+1ppIpEJMLBoV9eN+cNzhvcH71KIjI6AYX9c0cJtNzO/RX3AHuZ6j+4sDwoGsMW9SO/whQJcsJ1RuNKV9ESvyESsjieynnci9vqGq2mf8NqHG6oLGjT8YbDLruR1oUMOzxy8wIhGblbPmVU15w7pjwtE/Z8uxiO1fkmmqD5pjFzR9ywFuv5w+7m79Gnmlap1AqmcABz1o9Wn438DROIWDHfYH/nG6FAfU3Ye9oLJCwW4UTYGietHu3yqNdWhLgiURAJuV3j2R6P2h9+LLG7w1babtR6t9rXB1n8CDeyAMFdQaQGAG4bIel8BQiOxRa4mgTe0bStpTAkh9tGdoujYiGFbABauo/bvSk518Ih99yO/vZr6iakBo+iXV/1fPv7y0NUGNBIvr4FnzBPLyDrAPUf5Pszr41m+Nr+iD/P2KO28LqWCOyr0cGTUxhvpH3GF0l4zungcXu5kHHAeOFRL2+AYIdbTSCsUXFjouccaMe0KuuTfeKV21S35Pn3lb6j03MM85CSZQFNGLNdza4Kn/XTvXmpl07C1Ez2/TFwbOnRp+2wAp4AyQLQ6lErCS1+k9/dCfYJcJRCJkmaeiD1zB41d7UuFSPs3tZzN9FI/Huv+8UIfqz97O0TZ61B5d+rjmshZVU05I/iSJgaufcJoVGirSnMIpS3YVK/NawMdFv2keY5HxWeXnU/55DCVyOyTpYT/S1YH/eZtxnLORr0Jy/9M+oooU5DXBzn/oJ6P3Hona3N+A9/i19lDNpG1fBpdB7jnAzrqjBOxf9zNBND1tRYOpUPkcmyMk8nVD0Pcdo53NH7Ql8PqWovsCurjgwrrE8dVNGUNB7frKJYKiCiSBTDJNoSctTOgW5VpHnfs0YY/H1dHTO9aCKBQTjiNjlct6AO93hbjry4Z/tPU9vQHDs0AhVxnx30IxOxlZxIOFrUILaKWB4Wh0fUv2nt7YQGHpAX4y/xTcUevppbN71cBJpoZHIjbgmF2B36d7buK0I+cLLhYUh2v2KmyKdunjJsxjEykt4a5b9jexULyS22+vzuzGLlkXHuXFrKKiBsiTkci0FrpZL0aPZppMfC2dAs9twRX08CbelSzSm3XvZFXM3rF6fjDJDJR9HBN8ChjOrnpRXxnLzTg2lISCuzNyylfH4rO39jnj3u0g26IrVFM4uoxI/+ONmV4PI7wTDq+AXBW6RW3ZyBwIXeJRmkBwFrAIjYwKJxaJtmghkHm1ANgexyoXM0T6W278/jDA+E5m2xM2bn33xgdZK///L5gqANcH+Xb6PwVW66n/SiTyWmdvt7SA+Dm+toePTV32FLVqtzamOA72fs/GGw16Q9Xk6CbHLpl2b/1PKi66nB80fzP7mVvLy1rdPF0Mo679FrATAd9esWL/J6I2H9E3h3leMjbjJ2+8kLioSLlKPReXCzYMQs2rZP7auSXOwLoxhc3JI1nkA2aLPTdop2NA67bGw67b8pyyAY3+I8Q9MvZ1cGf3s3aFldUH4waRqC35fVzC4bPN3lB3eh/EnBIJjgax8SsDg7ceC39yxMJxStVZUzdxYUmDHKt+hquoMoajU1A5d3AvfTyax9NRnPtAumX69PNcyzYbnFWHM+HaBoGA7plIVjAJ7Y2Akkzs1lYY94qajCxNxwao3LlaOqKl35/eFHME+uh+38t0Hnv3uk+bzNIBPF/4R39pwCHxIxB4R5/eeiqqW5m1zZfT/9faV2Lq3IaBC2jmJgkQieLAQCwUaU7ELlH4CO1xZT4Rl65W11LkVtK+bVFqCsryPG172d4f/CO5jlFUh6roC5uNBwvbsvIyCk8MZeD5hVBg2WaBdXWzaI6m1ZhnWUDv8x8uN3c3Y5Gfh3R8rZ7jz8WcwV6FDa19Yswr7ffHun483/p/fznAKeSV7wtL4U4GIV/fi9784FHhRvEIilD+Z1VFe7Q9CVEfCfC3iKss8Dju/I/BEKUvCUoAwA5RsGYogD7Vw5ou25k/q/vXs/8YRv6YNvfaUC5MnDAtQMZFWIi7syiGteNdV35GaLSaL9b+bWBxyJz1wxxMn6we/rgN0fZGCT/194LHvsPiymD0rRr6qAPH6wK9ps1yOo35YTRqCZO0ZGkUKiDgi9uNMH3ohKwYJiP1aTDJsyuhZbgks1ii86sg+hTOZpLtSDwtQ2SYWLow25EPEXZjTXaacl2FsVYOYq/qlVk+Pb19M/fGee+I2pVcPB/EWz/ecCpZKiFXtb5BcNfu/164MgwD4tTGPrImkCMtYqlemr5NTRu1KAnlaBOeibFsCHYaZnWSRHv5Rz6uFVU32spOcrNWet7J46wm3dQta6Yyzc6NGPwm99O9t5OJ75YvQc6l9qNjHU0fgTLKzGljT67InPXC9Vm2BTLBAyxVMjE9TBiXSwVYGEeb32oLVjIr3sYmFD65xvqrlR7qNI2K9xEj/UbiHhyB7CGW3Gy/z+8g/9XgFNJgDUnJeBV/9fVp3QFDJDEUj4HuUzkBtX7S5H7FUlbMDfToKsBdl25G0/coH8x9fPDmHLeRO2ARS5bNVvmGKdlu5yMRkT9f9T9fybx+7Qik0uIaRU3Z+bURE8ub8oayRVUOoFFIyiLxBUyzJTllLF85KEQNtWkUyoFfe/+t0dvX4DjprZZt/Z+UuWsllKlG0aARXPBWeq5x7iZjb7gb/vSLwBqoQ5wOlFxLHJta5FzRdPjwbAMaxHVmkx0X/+eEcO2VH2/RkGF+bmkj3/JrLofhoICZQQKlpFEoPDpJL1aPZpZoSnLMcWa4xULnA2VMBX9f9etDnBPIWAJ3SubHvuDZUNVG2IqidlKJbIa6WT9OibFoBbWC3Ra0gFOJ7q0iE50gNOJTnSA04kOcDrRiQ5wOtEBTic60QFOJzrA6UQHOJ3o5FlJr9Uizc0t7Jqaaruamlo7Lpdr0dzcbCCVShk4EIUCUxAIeB6bzW7U02NXGxgYlBkZGZXB35VEIrHbLoyqqir7nJycQQTCsytWkcvlmLe3V4y+vn7HDEZZWVn+tbV15gRC/6c6RT0wZDJJxGKx6g0MDMtNTIwrNEuXWlpa2ElJyWPh/HItxyt8fYfcodPpvGf1jHl5ed4VFZUOms8jk0kx0Hu5h4eHctqu1NS00U1NTRw8Hq+2jwxzc3ONMzEx6VRaBToaBjqyfDodsRvgnSMdleN6+SCJ1jdeX99gEhsbOyMxMXF6cXGJL4DMQiyW9DjHBroQgAwDBTfDxYvs7GwT3d3dIzw9PSIsLS0LcGpfA4SXNOP773/4HvZ9ZoATi8XYF198PhkAd1217ty5CzuioqLCqFTqE51T+YlJeBE0Gq3Z1NQ0e/Bgn6uhoSFHLSwsipXuAY+XHzt2bHdVVbUlenZ1EQgE2Pr1a1dPmTJl/7N4PmjkxF279vyRn5/vQSKpj0jDYXw+D6617g0V4I4fP7EnLS3dm0Ihd7qfLVs2vxoaavK7+nnPnTv/UVRU9PRnoKMWpCMfH58roKNfLS0tinoFnFAopMINbLx9+87a+vp6U2SBSCQiUiycsG83JBKJ2GVlZYOKiooG3blzdwm0vLrvvvvGi8PhdAzehRuUwA2im3xmgEMPDffZaRZBMpksQtd4UmWqgZldWFjoB1bZ7/r1G+vnzn354xkzpv/EYDBaJ06cuOu3345/pfks6H7CwyNfnzRp0gG4r6fusEZWC/TqAd5EE4iYg4ND8dixoSdU6ygUihDdjzrg2u+py8Q3oCPxM9IRC3Q0DHQ07MaNGxvmzJm9ffbsWbu65XDl5RXWW7d+dPePP059yuPxTEGZcBMUpeJw/fhuEwInaoHoIZAFA1NOB3f3bxV6PpPKBPRM8GIwpBOJRGJw6NDhPSdOnPwIbQsOHvObnp5eC3LpGi8SA2s0LD09I+BZ3MOdO3dWaCu0QJYd7uEg6Jv/hM/9PHTEOXLk6I9gabdpBRxwM84XX3xxLTc3P4DJZGLd+XOkVNSi0EOqFji5kh9oKlzN5Mr6+lBIn+g8T7r0JwhCL6+3pTtLymQysLNnz32SnJwy2tjYuHLYsKHnwLJ32Rfp5d69e8uf9mUC57WCa01DL1TzfYDFawbrduS5tNan0BECHuhoe0JCYkgXl/rbbye+KC4u9WKxmF1OogIYsloAxkYg0XXIX8MmVI9PkEjEdD5fwObz+RzgCQwEQBWfUyetfXOLeBGZTOViWP+n/G6/Xl+raOVwj9IeroM4PxEoBh49C7ioLrwFyYULF7cCr5swfvy4fRERkUs0T4KOAx48G+jJe4aGhjVP+uIjIyNfhQCFgV6iBn3BAgMDTyHQPwe89UVHBLgHAsKMpktGOkLLxYt/fgjB0z2VzogQ+QyKiYlZwmDQu4ANEU0zM7P8oKDAY0AGb5mbm+UD4BqhpUnUAImHi9JaW3mc+vo6q5KSUveCggK/3Ny8kcA5vACILDhvr8hDoPby8ry9YcOGhU/qPaG19/rpSAARNm7c2N+mT5/2WS9RLwkiQsf798MXx8XFv6TJh5C1yc3NDaqurrYCsv7I2dk5Bn4HqFsh1OC43Ca96OgH8+B6u5/kqaABk4DUL9G0buhdgRGQhYVN2PuskYaA7O/v/8eCBfO39aYjsL4O9+6FvxYXFzdX8x7baUUQBFV2gB1lEEGElrkQXgJFsxWjFzNmzOgjy5YtfRs4SlMPlkUOCw9aH8/U1KQMlB8Lq48AEHGFhUVeqamp40Axwr6Yb9hPbGDA4T5PUofcEESy9dbW1r3Oj2tra5sVEDDiyo8/7j54//79FeqtGIEJGiQVovhBEJ2VgVvbn5WVFaCpdOQZALSvT548aS/oSdbf+01JSQ1BjVjTgqAGOmjQoDsA9OTnoSPwZg191dHw4cOv/vTT3gYINldp6ggMDrm4uNhbBTh8ZmZWiGZIj9yii4tLDITar/cEtl5cnMLZ2SkNopXv4Rx9+mS3QuPLMM9LgFv1K+k0c+b0b5FV1/QA6MWAu7RG/wZgXkA5LsTbNAEH0ZtPWlr6qCe519u3b6/oDhQTJ07Y9RwbZr90BBb8WwCbWFNH6HddXZ11BwhBYbaaXAsBDtzOISB/uvpzEJTIRlRCLu+qjtbWVmU+BCxCy8iRAce0BQ9I6RA8rOjvdSsqKmxSU9Mma3of9H7s7OzSIVj5a6DoyMjIqBoMS6O24BFx+w7AwQ+6ZtoDAZDD4RTpoNbhvqjwkqnaskPqvBEa6WEIqLq0cgQYlOxGvR79uS6iO8CNu7wfBDhw4fvAeg6YCaWhoVHQoi2FBnSr47MEeLhpiTYziJKdOqi1SX5+wWDUjaXpCVD4b25unqX6jTjPoEHe1zWtHDquqamJFRERMb/vL1BMjo6OXqwZrCCXDdakBvj1yYGkIwgUfeAZ9bXpyMLCskNHeGihdZqAQyiFqGOmDmptje/SpctbNFsuShcBZyt2dnZMUl8PVm6ftvOgYAIs1jKwTn1KgicnJ48rKyt30eTXCMyjRo38Fd4bdyDp6c8/L2/RXNemI+MyFxenhA7AWVpapmoSXRRpQCi+6Ny582/xeDzGP3XT7UniAQW2AwcOfpeenh6qGX2iKD40NGQfjUbvNJP4kCFD7kDkloHcnmbwUFJS4glRe58+q3T3blfOh+6HTqcLJ0wYf2Cg6AhxtsOHf/k6JSVlvLZMR0hIyD71Agbi0KG+FxMSEmZ3TcISCCdOnPz+1q3b662sLB8DN+FhXXsMcMoMKZHUamDAqQD38tjJyTEBCG1Wf7rDVBagoKAw8OOPt1/F+pn4FYmUKZyTkydPPv7s3Gi+9/HjJz9PSkqapt5Pip4L5ScdHR1Tpk6d0iW3hngV3MuhI0d+/aFzJ3sbYO7evb9i6NChd3q6dllZmT0AM0zbCxw5cuQlKyurAfHlQKAansePn0A6mqFNRw4ODunTpk39sVP2AszzhcuXr+RUVVW5qCtIlWGvr2+wr6mpse9pwLR6NwdYR6mNjc1DlH2H5URfgYf2Q324YE0m9/fB+Xw+5uzsnPK0CmxoaDB8/Dh7FFj3V0CJs1Axg6YikUuDiLVm/fp186Hlav1OAgL/xYuXtgmFgk4lQkif4CqnVlZWWZmbm3U7YXV4eMQi0AVVs2cBnWvixAm7/02QNTY2Ih0FREZGzodAaLamjpQT/7TpqHb9+rXzNcuziBDOt86bN3fLN998e6G94kIjn0ZQLv1wQ0QgkKP27PlpVGxs7Nx169YuhYi3oS/Homtrtuo+5tVQ3u+J5sCF4Ihy+vSZ9xHQysvLB3G5XBMVODSTrQjYhoaGxRs3vjPHwcE+q4c0Sq2//7DTN2/eXkmn0zo9H+qiiogIXzBv3ryvtB2LkvAPHsS8pqkHlOhFuVFvb+9/fNYluDYZdPQe6CioNx0JBHz0/KWbNm2cDV4gvcs7Rv8LCgq8uGTJ4nfRQ2nLI/WTh3VUDcTFJUz/6quvL6BWMIBTHvQbN/7anJaWNg4AZYIUiBZ1yyyVypD1RZn9G59+umO0u7t7Qm/nheDhIIlElGtLkURFPVgK19U6zXpiYtJEeKmOmsECIuDA3Xbj8bh/Q0dU0NGmnnSEGj3SkZeX563PPvsEdOSm9RuuHeZs1qyZ333wwXsT7e3tYxDwUGtGnAGR354WpIjuKkVQVUVGRsZoCD429ZWAikTiJ1hE6D6e+Kt60EAECAjaig2QIlksZvnrry97c/v2jydZWFiU9OWcrq6uiaD0SKTLzh6DiDiaa3Jyylhtx6EEsbaIGK5bGBAw4uK/1TB70xEYmIqlS5es275920S4125zuJ2akZ+f301fX9+bmZmZgUghJSWlg8F8WoHS0MyQWlskgI4AbsIQFhZSJuKB6q0a+fc7d+6uB/K4B5Wi9wQ22F5tZmaa219lQMPAASfKe0JF8vX19YvhOQ00y7LaUx8ZyKqBm2jo77lRcjY1NW1Md1Gov79fp09eQhTrlJaW3iXaQw1qzBhlzdu/MhsTKug0NDQoAh0Zd9URygsaZiEdoWLb3s5F1BKdYognqLgCAk9736NWIoeqRZqbmw3T0zNGnzlzdkdtba2zevCBzgdk3Ai2B40cGXCph0w1uCzvy8D5VvzDLVe0bNnSNTt2fBKBqh/UWzC6d3geJ7j30NGjg87299z+/v6XIXIvhsDLVp0HI0ClpKRMAtdpZ2lp2WEN7t8Pfw2iO4p66T1qiKg/G8B79N+ybqioAnT05rZtO6LgfsiddYRH/cmO0FDGhoQEn+qVp/eFk6EqB0TKtS3gy4VgBcpDQ0N+//DD9yeAaa3VdLEItKhkqQ8Bx78yigx4RyxQik9QKK/57AgfBw8eOgjW3qm/50VRLPDjo5q8uC0i59NQNPo32RbSYmJiF3XN94mw4cP9/zA2Nqr6N7ku8Na42bNnbetGR+Sffz58oLi42PWpAdcfsbKyKgK3fEGbgiGctsYGsLz88ktfeHp6RCLeqmnxgQxzfvppLwBHTOrveaHVHwUuK+gaPJCx6OgHi1H/I/qdkJAQVllZaaceLKBjYD9ZWNjEvQNBRy+9NOd/3t5e97XpCICot2fP3l/hecj/GOCQgB8v0NZVpqqqGKiCihlXrVq5HFUza1poFJFlZWWNOnHi5Kf9PS8i0D4+Ppc1GyECFopGk5KSx7dzujc0gwV0DIr6nJycUgeCjlDt48qVK5fT6Ywmzd4pRBOys7OH//bb8Z3/KOAA6UbaEsPgXkTYABdbW9ucBQte3ajZgtvdI3b58uUtsbGxk/p73gkTxu/TlgBH6yIiIheVlpbZQKA2VjNYQO32eda8PYnY2FjnL1y44B1t6TOko6tXr7374EHMtH8EcMgyoFyNti4dIL6V2AsgU6ZMPgic6YI2roKs0sGDPx+urq7pV5kRBEMR9vb2SZr9qwhgjx9njTt8+PCPYDFI6qBE+9rb26b5+vreGmg6mjRp4i8BAQFnUepMvR39raNDh9DAn24BBxyFDZGm3tPeyNmz594pLCwcrAm4duvxwnzKZ8WK5WsMDDiVKC2i4XZRxG2+f//+n2Wyvn/HF43MBy53QDMnh14Qny8wyMjInKmZ6EX7hoaG7h1INW+ddfT6m2i0v0Qi7UIVuFyu6b59+w9DI8JpBVxOTk7g+vVvpX///Q+/3L59Z0FRUZErqtfv68UrKipsUVXFqVOnv+3qFhSoGpaPRuH34cUMiE80GhsbVy1dunSNpkVCz4LyigkJiZPPnj27pT/nhGj1NLygWk3uo7IKmolUuIfqMWNG/z5QGyUahbZs2dJVqFFqcnakI+CmE06fPvOB1jwcmrIAokgrCNOXogVIsgTNE2JiYlwASirU19evROMSYL9WNpstkkol+JaWVja0dhuwaEMKCgpHoMSvtpH0yOyGhoacMTMzLe8lHwbuJXsMRDqIs/S7/6Zt1JfHgwkTJjyTl4S6+5KTUw7evn37DSDJmHqhDHpOsOafurm5Rfr4DHrQl/Oh8mtw1b9fu3Z9fW9TXCB+NHnypKOg6wH9Qd5Ro0ZeAR3t/euvm2tQr5I68NAznjt3fjvqbRk8eHBEJ8CpQluVdYIDSbW1tfZo0hnEy9RPpOIZqnXoONVIe01BFgKNkJo3b+7HfYiAsOrqavfS0lL3J3l4BGyFQs55VoBDsmTJaxshOh0D9+WqOfwPWjZp//4Dv37xxed+8Ix9KoYcO3bsIfAga1CBQ3dVNEivDAZdiPpiXwT6sXjxa1tARyGVlZXu6jpqfz7ivn0Hjnz55U4/VQGH1qBBZeYRAFVTNqgW1Zwgqt/d9a+hPk40s9LatWteNTc377X/ESm6fVKUJ1rQvaD+vmepTBaL1bJy5RvLUWGotk54oBJOEET0OUfm5OSY7unpeVeTy6kLipCHDBly0crKquBFABxYtlbQ0euAAammjpAhQuNWIYjY14nDAWcgoqhMmz/uryCr1trKwywszFK3bt06wd/f/yb2Agu4zKjp06fvRBZUS6oHi46Onn/lytU3+no+VILeXbGDymOEhYXtfpF0hKZJmzlzxqeaOlK51ujoB3MvX76yqsOlWltbpwJn2J+XlxdYW1vnBByCipSCLJdqUbkAdZeq/IiZ2tweYGFkcK4U4D9HJk6c8AuDweB3kz4hqKpNnpW0z3FC0iDfZLRevcNZ2369ySuvzP00MzNjbGZm1kjNrid07iNHju61t7dLBesV29u5/PyGXbeysswrLS13QjNTafJQOEeUp6fHg6fRBaqcQc+pXsqEfmsba/qsdDR37ss7Idoem56ePlpTR8hbHjv2226w2hnE9qisZN26tasBaKTy8grn4uLiQSUlJd7gMlwaGhqt+XyekVAoYsGDUNFcEmiuN3BjUjCZLWw2q8bY2CTfwcE+3sPDPcLFxSUeZe17ujkDA065l5dXLJqd6VkJItqWlpadvjkK4I/z8vKkgAIUf7ssEc7MzCyjP+dGg6CXL1++8siRI/vweAKxM/1CFa5CAhoDAkFEHLy4Hp8dXLFo8uTJ39y/H75E8/lRv+n06VO/7u+cLJoC4E8EWyAkk4md9KM+WaOajhJAR0x1HcG+ONBlWn+uidI3K1a8vurnn39B05ORNHWEqooiIiKW/Z8AAwAkb6XEyCeDxQAAAABJRU5ErkJggg==)"
      ],
      "metadata": {
        "id": "WgmE7EFJwNB0"
      }
    },
    {
      "cell_type": "markdown",
      "metadata": {
        "id": "0uhp7yq0Vm5f"
      },
      "source": [
        "# Intro to Flood mapping using HYDRAFloods\n",
        "\n",
        "In this notebook we will use HYDRAFloods to create a flood map. We will focus on the use of [Sentinel 1 SAR data](https://sentinels.copernicus.eu/web/sentinel/user-guides/sentinel-1-sar/overview) and examine Hurricanes Eta/Iota in Guatemala. While we focus only on SAR for this exercise, many of the concepts extend to optical data.\n",
        "\n",
        "HYDRAFloods Python package can be found at: https://servir-mekong.github.io/hydra-floods/\n",
        "\n",
        "This notebook shows:\n",
        "\n",
        "1. Colab set-up and authenticate\n",
        "2. Install HYDRAFloods package and other necessary packages\n",
        "3. Pre-processing SAR imagery\n",
        "4. Surface water detection\n",
        "5. Pre and Post flood event\n",
        "-Bonus-\n",
        "6. Extraction of floods from permanent surface water\n",
        "7. Classifcation Differencing\n",
        "\n"
      ]
    },
    {
      "cell_type": "markdown",
      "source": [
        "This notebook follows this HYDRAFloods Workflow for Sentinel-1 Imagery:"
      ],
      "metadata": {
        "id": "iPaHMgbX9Ebu"
      }
    },
    {
      "cell_type": "markdown",
      "source": [
        "\n",
        "\n",
        "![HF_workflow_2.PNG](data:image/png;base64,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)"
      ],
      "metadata": {
        "id": "m8LaP00s7hzz"
      }
    },
    {
      "cell_type": "markdown",
      "metadata": {
        "id": "mkFfcO7VXAz2"
      },
      "source": [
        "![alt text](https://colab.research.google.com/img/colab_favicon.ico)\n",
        "## 1) Colab Setup and Authenticate\n",
        "\n",
        "*   [Colab](https://colab.research.google.com/) is a FREE, Jupyter notebook style, python interface.\n",
        "*   Use the same Google account between Colab, Cloud, and Google Earth Engine (GEE)\n",
        "\n",
        "\n"
      ]
    },
    {
      "cell_type": "markdown",
      "metadata": {
        "id": "fbaUimiCXOe7"
      },
      "source": [
        "## 2) Install HYDRAFloods package and other necessary packages\n",
        "\n",
        "The following cell installs the `hydrafloods` package for surface water mapping and `geemap` for interactive viewing results from GEE.\n",
        "\n",
        "You will get and error stating \"*You must restart the runtime in order to use newly installed versions.*\" **This can not be ignored**. See the figure below that walks you through installing the HYRDAFloods package."
      ]
    },
    {
      "cell_type": "code",
      "metadata": {
        "id": "KJlHZoltToUp",
        "colab": {
          "base_uri": "https://localhost:8080/"
        },
        "outputId": "b0bf5901-b83c-474b-909a-056f975dde5b"
      },
      "source": [
        "# Install HYDRAFloods\n",
        "!pip install hydrafloods geemap"
      ],
      "execution_count": 1,
      "outputs": [
        {
          "output_type": "stream",
          "name": "stdout",
          "text": [
            "Collecting hydrafloods\n",
            "  Downloading hydrafloods-2023.10.14-py3-none-any.whl (86 kB)\n",
            "\u001b[2K     \u001b[90m━━━━━━━━━━━━━━━━━━━━━━━━━━━━━━━━━━━━━━━━\u001b[0m \u001b[32m86.6/86.6 kB\u001b[0m \u001b[31m975.5 kB/s\u001b[0m eta \u001b[36m0:00:00\u001b[0m\n",
            "\u001b[?25hRequirement already satisfied: geemap in /usr/local/lib/python3.10/dist-packages (0.32.1)\n",
            "Collecting simplecmr (from hydrafloods)\n",
            "  Downloading simplecmr-0.0.1-py3-none-any.whl (6.9 kB)\n",
            "Requirement already satisfied: earthengine-api in /usr/local/lib/python3.10/dist-packages (from hydrafloods) (0.1.404)\n",
            "Requirement already satisfied: gcsfs in /usr/local/lib/python3.10/dist-packages (from hydrafloods) (2023.6.0)\n",
            "Collecting fire (from hydrafloods)\n",
            "  Downloading fire-0.6.0.tar.gz (88 kB)\n",
            "\u001b[2K     \u001b[90m━━━━━━━━━━━━━━━━━━━━━━━━━━━━━━━━━━━━━━━━\u001b[0m \u001b[32m88.4/88.4 kB\u001b[0m \u001b[31m4.2 MB/s\u001b[0m eta \u001b[36m0:00:00\u001b[0m\n",
            "\u001b[?25h  Preparing metadata (setup.py) ... \u001b[?25l\u001b[?25hdone\n",
            "Collecting pipetools (from hydrafloods)\n",
            "  Downloading pipetools-1.1.0.tar.gz (16 kB)\n",
            "  Preparing metadata (setup.py) ... \u001b[?25l\u001b[?25hdone\n",
            "Requirement already satisfied: bqplot in /usr/local/lib/python3.10/dist-packages (from geemap) (0.12.43)\n",
            "Requirement already satisfied: colour in /usr/local/lib/python3.10/dist-packages (from geemap) (0.1.5)\n",
            "Requirement already satisfied: eerepr>=0.0.4 in /usr/local/lib/python3.10/dist-packages (from geemap) (0.0.4)\n",
            "Requirement already satisfied: folium>=0.13.0 in /usr/local/lib/python3.10/dist-packages (from geemap) (0.14.0)\n",
            "Requirement already satisfied: geocoder in /usr/local/lib/python3.10/dist-packages (from geemap) (1.38.1)\n",
            "Requirement already satisfied: ipyevents in /usr/local/lib/python3.10/dist-packages (from geemap) (2.0.2)\n",
            "Requirement already satisfied: ipyfilechooser>=0.6.0 in /usr/local/lib/python3.10/dist-packages (from geemap) (0.6.0)\n",
            "Requirement already satisfied: ipyleaflet==0.18.2 in /usr/local/lib/python3.10/dist-packages (from geemap) (0.18.2)\n",
            "Requirement already satisfied: ipytree in /usr/local/lib/python3.10/dist-packages (from geemap) (0.2.2)\n",
            "Requirement already satisfied: matplotlib in /usr/local/lib/python3.10/dist-packages (from geemap) (3.7.1)\n",
            "Requirement already satisfied: numpy in /usr/local/lib/python3.10/dist-packages (from geemap) (1.25.2)\n",
            "Requirement already satisfied: pandas in /usr/local/lib/python3.10/dist-packages (from geemap) (2.0.3)\n",
            "Requirement already satisfied: plotly in /usr/local/lib/python3.10/dist-packages (from geemap) (5.15.0)\n",
            "Requirement already satisfied: pyperclip in /usr/local/lib/python3.10/dist-packages (from geemap) (1.8.2)\n",
            "Requirement already satisfied: pyshp>=2.1.3 in /usr/local/lib/python3.10/dist-packages (from geemap) (2.3.1)\n",
            "Requirement already satisfied: python-box in /usr/local/lib/python3.10/dist-packages (from geemap) (7.1.1)\n",
            "Requirement already satisfied: scooby in /usr/local/lib/python3.10/dist-packages (from geemap) (0.10.0)\n",
            "Requirement already satisfied: ipywidgets<9,>=7.6.0 in /usr/local/lib/python3.10/dist-packages (from ipyleaflet==0.18.2->geemap) (7.7.1)\n",
            "Requirement already satisfied: traittypes<3,>=0.2.1 in /usr/local/lib/python3.10/dist-packages (from ipyleaflet==0.18.2->geemap) (0.2.1)\n",
            "Requirement already satisfied: xyzservices>=2021.8.1 in /usr/local/lib/python3.10/dist-packages (from ipyleaflet==0.18.2->geemap) (2024.4.0)\n",
            "Requirement already satisfied: branca>=0.5.0 in /usr/local/lib/python3.10/dist-packages (from ipyleaflet==0.18.2->geemap) (0.7.2)\n",
            "Requirement already satisfied: google-cloud-storage in /usr/local/lib/python3.10/dist-packages (from earthengine-api->hydrafloods) (2.8.0)\n",
            "Requirement already satisfied: google-api-python-client>=1.12.1 in /usr/local/lib/python3.10/dist-packages (from earthengine-api->hydrafloods) (2.84.0)\n",
            "Requirement already satisfied: google-auth>=1.4.1 in /usr/local/lib/python3.10/dist-packages (from earthengine-api->hydrafloods) (2.27.0)\n",
            "Requirement already satisfied: google-auth-httplib2>=0.0.3 in /usr/local/lib/python3.10/dist-packages (from earthengine-api->hydrafloods) (0.1.1)\n",
            "Requirement already satisfied: httplib2<1dev,>=0.9.2 in /usr/local/lib/python3.10/dist-packages (from earthengine-api->hydrafloods) (0.22.0)\n",
            "Requirement already satisfied: requests in /usr/local/lib/python3.10/dist-packages (from earthengine-api->hydrafloods) (2.31.0)\n",
            "Requirement already satisfied: jinja2>=2.9 in /usr/local/lib/python3.10/dist-packages (from folium>=0.13.0->geemap) (3.1.4)\n",
            "Requirement already satisfied: traitlets>=4.3.0 in /usr/local/lib/python3.10/dist-packages (from bqplot->geemap) (5.7.1)\n",
            "Requirement already satisfied: python-dateutil>=2.8.2 in /usr/local/lib/python3.10/dist-packages (from pandas->geemap) (2.8.2)\n",
            "Requirement already satisfied: pytz>=2020.1 in /usr/local/lib/python3.10/dist-packages (from pandas->geemap) (2023.4)\n",
            "Requirement already satisfied: tzdata>=2022.1 in /usr/local/lib/python3.10/dist-packages (from pandas->geemap) (2024.1)\n",
            "Requirement already satisfied: six in /usr/local/lib/python3.10/dist-packages (from fire->hydrafloods) (1.16.0)\n",
            "Requirement already satisfied: termcolor in /usr/local/lib/python3.10/dist-packages (from fire->hydrafloods) (2.4.0)\n",
            "Requirement already satisfied: aiohttp!=4.0.0a0,!=4.0.0a1 in /usr/local/lib/python3.10/dist-packages (from gcsfs->hydrafloods) (3.9.5)\n",
            "Requirement already satisfied: decorator>4.1.2 in /usr/local/lib/python3.10/dist-packages (from gcsfs->hydrafloods) (4.4.2)\n",
            "Requirement already satisfied: fsspec==2023.6.0 in /usr/local/lib/python3.10/dist-packages (from gcsfs->hydrafloods) (2023.6.0)\n",
            "Requirement already satisfied: google-auth-oauthlib in /usr/local/lib/python3.10/dist-packages (from gcsfs->hydrafloods) (1.2.0)\n",
            "Requirement already satisfied: click in /usr/local/lib/python3.10/dist-packages (from geocoder->geemap) (8.1.7)\n",
            "Requirement already satisfied: future in /usr/local/lib/python3.10/dist-packages (from geocoder->geemap) (0.18.3)\n",
            "Requirement already satisfied: ratelim in /usr/local/lib/python3.10/dist-packages (from geocoder->geemap) (0.1.6)\n",
            "Requirement already satisfied: contourpy>=1.0.1 in /usr/local/lib/python3.10/dist-packages (from matplotlib->geemap) (1.2.1)\n",
            "Requirement already satisfied: cycler>=0.10 in /usr/local/lib/python3.10/dist-packages (from matplotlib->geemap) (0.12.1)\n",
            "Requirement already satisfied: fonttools>=4.22.0 in /usr/local/lib/python3.10/dist-packages (from matplotlib->geemap) (4.51.0)\n",
            "Requirement already satisfied: kiwisolver>=1.0.1 in /usr/local/lib/python3.10/dist-packages (from matplotlib->geemap) (1.4.5)\n",
            "Requirement already satisfied: packaging>=20.0 in /usr/local/lib/python3.10/dist-packages (from matplotlib->geemap) (24.0)\n",
            "Requirement already satisfied: pillow>=6.2.0 in /usr/local/lib/python3.10/dist-packages (from matplotlib->geemap) (9.4.0)\n",
            "Requirement already satisfied: pyparsing>=2.3.1 in /usr/local/lib/python3.10/dist-packages (from matplotlib->geemap) (3.1.2)\n",
            "Requirement already satisfied: setuptools>=0.6b1 in /usr/local/lib/python3.10/dist-packages (from pipetools->hydrafloods) (67.7.2)\n",
            "Requirement already satisfied: tenacity>=6.2.0 in /usr/local/lib/python3.10/dist-packages (from plotly->geemap) (8.3.0)\n",
            "Collecting requests-cache (from simplecmr->hydrafloods)\n",
            "  Downloading requests_cache-1.2.0-py3-none-any.whl (61 kB)\n",
            "\u001b[2K     \u001b[90m━━━━━━━━━━━━━━━━━━━━━━━━━━━━━━━━━━━━━━━━\u001b[0m \u001b[32m61.4/61.4 kB\u001b[0m \u001b[31m4.4 MB/s\u001b[0m eta \u001b[36m0:00:00\u001b[0m\n",
            "\u001b[?25hRequirement already satisfied: aiosignal>=1.1.2 in /usr/local/lib/python3.10/dist-packages (from aiohttp!=4.0.0a0,!=4.0.0a1->gcsfs->hydrafloods) (1.3.1)\n",
            "Requirement already satisfied: attrs>=17.3.0 in /usr/local/lib/python3.10/dist-packages (from aiohttp!=4.0.0a0,!=4.0.0a1->gcsfs->hydrafloods) (23.2.0)\n",
            "Requirement already satisfied: frozenlist>=1.1.1 in /usr/local/lib/python3.10/dist-packages (from aiohttp!=4.0.0a0,!=4.0.0a1->gcsfs->hydrafloods) (1.4.1)\n",
            "Requirement already satisfied: multidict<7.0,>=4.5 in /usr/local/lib/python3.10/dist-packages (from aiohttp!=4.0.0a0,!=4.0.0a1->gcsfs->hydrafloods) (6.0.5)\n",
            "Requirement already satisfied: yarl<2.0,>=1.0 in /usr/local/lib/python3.10/dist-packages (from aiohttp!=4.0.0a0,!=4.0.0a1->gcsfs->hydrafloods) (1.9.4)\n",
            "Requirement already satisfied: async-timeout<5.0,>=4.0 in /usr/local/lib/python3.10/dist-packages (from aiohttp!=4.0.0a0,!=4.0.0a1->gcsfs->hydrafloods) (4.0.3)\n",
            "Requirement already satisfied: google-api-core!=2.0.*,!=2.1.*,!=2.2.*,!=2.3.0,<3.0.0dev,>=1.31.5 in /usr/local/lib/python3.10/dist-packages (from google-api-python-client>=1.12.1->earthengine-api->hydrafloods) (2.11.1)\n",
            "Requirement already satisfied: uritemplate<5,>=3.0.1 in /usr/local/lib/python3.10/dist-packages (from google-api-python-client>=1.12.1->earthengine-api->hydrafloods) (4.1.1)\n",
            "Requirement already satisfied: cachetools<6.0,>=2.0.0 in /usr/local/lib/python3.10/dist-packages (from google-auth>=1.4.1->earthengine-api->hydrafloods) (5.3.3)\n",
            "Requirement already satisfied: pyasn1-modules>=0.2.1 in /usr/local/lib/python3.10/dist-packages (from google-auth>=1.4.1->earthengine-api->hydrafloods) (0.4.0)\n",
            "Requirement already satisfied: rsa<5,>=3.1.4 in /usr/local/lib/python3.10/dist-packages (from google-auth>=1.4.1->earthengine-api->hydrafloods) (4.9)\n",
            "Requirement already satisfied: ipykernel>=4.5.1 in /usr/local/lib/python3.10/dist-packages (from ipywidgets<9,>=7.6.0->ipyleaflet==0.18.2->geemap) (5.5.6)\n",
            "Requirement already satisfied: ipython-genutils~=0.2.0 in /usr/local/lib/python3.10/dist-packages (from ipywidgets<9,>=7.6.0->ipyleaflet==0.18.2->geemap) (0.2.0)\n",
            "Requirement already satisfied: widgetsnbextension~=3.6.0 in /usr/local/lib/python3.10/dist-packages (from ipywidgets<9,>=7.6.0->ipyleaflet==0.18.2->geemap) (3.6.6)\n",
            "Requirement already satisfied: ipython>=4.0.0 in /usr/local/lib/python3.10/dist-packages (from ipywidgets<9,>=7.6.0->ipyleaflet==0.18.2->geemap) (7.34.0)\n",
            "Requirement already satisfied: jupyterlab-widgets>=1.0.0 in /usr/local/lib/python3.10/dist-packages (from ipywidgets<9,>=7.6.0->ipyleaflet==0.18.2->geemap) (3.0.10)\n",
            "Requirement already satisfied: MarkupSafe>=2.0 in /usr/local/lib/python3.10/dist-packages (from jinja2>=2.9->folium>=0.13.0->geemap) (2.1.5)\n",
            "Requirement already satisfied: requests-oauthlib>=0.7.0 in /usr/local/lib/python3.10/dist-packages (from google-auth-oauthlib->gcsfs->hydrafloods) (1.3.1)\n",
            "Requirement already satisfied: google-cloud-core<3.0dev,>=2.3.0 in /usr/local/lib/python3.10/dist-packages (from google-cloud-storage->earthengine-api->hydrafloods) (2.3.3)\n",
            "Requirement already satisfied: google-resumable-media>=2.3.2 in /usr/local/lib/python3.10/dist-packages (from google-cloud-storage->earthengine-api->hydrafloods) (2.7.0)\n",
            "Requirement already satisfied: charset-normalizer<4,>=2 in /usr/local/lib/python3.10/dist-packages (from requests->earthengine-api->hydrafloods) (3.3.2)\n",
            "Requirement already satisfied: idna<4,>=2.5 in /usr/local/lib/python3.10/dist-packages (from requests->earthengine-api->hydrafloods) (3.7)\n",
            "Requirement already satisfied: urllib3<3,>=1.21.1 in /usr/local/lib/python3.10/dist-packages (from requests->earthengine-api->hydrafloods) (2.0.7)\n",
            "Requirement already satisfied: certifi>=2017.4.17 in /usr/local/lib/python3.10/dist-packages (from requests->earthengine-api->hydrafloods) (2024.2.2)\n",
            "Collecting cattrs>=22.2 (from requests-cache->simplecmr->hydrafloods)\n",
            "  Downloading cattrs-23.2.3-py3-none-any.whl (57 kB)\n",
            "\u001b[2K     \u001b[90m━━━━━━━━━━━━━━━━━━━━━━━━━━━━━━━━━━━━━━━━\u001b[0m \u001b[32m57.5/57.5 kB\u001b[0m \u001b[31m2.8 MB/s\u001b[0m eta \u001b[36m0:00:00\u001b[0m\n",
            "\u001b[?25hRequirement already satisfied: platformdirs>=2.5 in /usr/local/lib/python3.10/dist-packages (from requests-cache->simplecmr->hydrafloods) (4.2.2)\n",
            "Collecting url-normalize>=1.4 (from requests-cache->simplecmr->hydrafloods)\n",
            "  Downloading url_normalize-1.4.3-py2.py3-none-any.whl (6.8 kB)\n",
            "Requirement already satisfied: exceptiongroup>=1.1.1 in /usr/local/lib/python3.10/dist-packages (from cattrs>=22.2->requests-cache->simplecmr->hydrafloods) (1.2.1)\n",
            "Requirement already satisfied: typing-extensions!=4.6.3,>=4.1.0 in /usr/local/lib/python3.10/dist-packages (from cattrs>=22.2->requests-cache->simplecmr->hydrafloods) (4.11.0)\n",
            "Requirement already satisfied: googleapis-common-protos<2.0.dev0,>=1.56.2 in /usr/local/lib/python3.10/dist-packages (from google-api-core!=2.0.*,!=2.1.*,!=2.2.*,!=2.3.0,<3.0.0dev,>=1.31.5->google-api-python-client>=1.12.1->earthengine-api->hydrafloods) (1.63.0)\n",
            "Requirement already satisfied: protobuf!=3.20.0,!=3.20.1,!=4.21.0,!=4.21.1,!=4.21.2,!=4.21.3,!=4.21.4,!=4.21.5,<5.0.0.dev0,>=3.19.5 in /usr/local/lib/python3.10/dist-packages (from google-api-core!=2.0.*,!=2.1.*,!=2.2.*,!=2.3.0,<3.0.0dev,>=1.31.5->google-api-python-client>=1.12.1->earthengine-api->hydrafloods) (3.20.3)\n",
            "Requirement already satisfied: google-crc32c<2.0dev,>=1.0 in /usr/local/lib/python3.10/dist-packages (from google-resumable-media>=2.3.2->google-cloud-storage->earthengine-api->hydrafloods) (1.5.0)\n",
            "Requirement already satisfied: jupyter-client in /usr/local/lib/python3.10/dist-packages (from ipykernel>=4.5.1->ipywidgets<9,>=7.6.0->ipyleaflet==0.18.2->geemap) (6.1.12)\n",
            "Requirement already satisfied: tornado>=4.2 in /usr/local/lib/python3.10/dist-packages (from ipykernel>=4.5.1->ipywidgets<9,>=7.6.0->ipyleaflet==0.18.2->geemap) (6.3.3)\n",
            "Collecting jedi>=0.16 (from ipython>=4.0.0->ipywidgets<9,>=7.6.0->ipyleaflet==0.18.2->geemap)\n",
            "  Downloading jedi-0.19.1-py2.py3-none-any.whl (1.6 MB)\n",
            "\u001b[2K     \u001b[90m━━━━━━━━━━━━━━━━━━━━━━━━━━━━━━━━━━━━━━━━\u001b[0m \u001b[32m1.6/1.6 MB\u001b[0m \u001b[31m12.6 MB/s\u001b[0m eta \u001b[36m0:00:00\u001b[0m\n",
            "\u001b[?25hRequirement already satisfied: pickleshare in /usr/local/lib/python3.10/dist-packages (from ipython>=4.0.0->ipywidgets<9,>=7.6.0->ipyleaflet==0.18.2->geemap) (0.7.5)\n",
            "Requirement already satisfied: prompt-toolkit!=3.0.0,!=3.0.1,<3.1.0,>=2.0.0 in /usr/local/lib/python3.10/dist-packages (from ipython>=4.0.0->ipywidgets<9,>=7.6.0->ipyleaflet==0.18.2->geemap) (3.0.43)\n",
            "Requirement already satisfied: pygments in /usr/local/lib/python3.10/dist-packages (from ipython>=4.0.0->ipywidgets<9,>=7.6.0->ipyleaflet==0.18.2->geemap) (2.16.1)\n",
            "Requirement already satisfied: backcall in /usr/local/lib/python3.10/dist-packages (from ipython>=4.0.0->ipywidgets<9,>=7.6.0->ipyleaflet==0.18.2->geemap) (0.2.0)\n",
            "Requirement already satisfied: matplotlib-inline in /usr/local/lib/python3.10/dist-packages (from ipython>=4.0.0->ipywidgets<9,>=7.6.0->ipyleaflet==0.18.2->geemap) (0.1.7)\n",
            "Requirement already satisfied: pexpect>4.3 in /usr/local/lib/python3.10/dist-packages (from ipython>=4.0.0->ipywidgets<9,>=7.6.0->ipyleaflet==0.18.2->geemap) (4.9.0)\n",
            "Requirement already satisfied: pyasn1<0.7.0,>=0.4.6 in /usr/local/lib/python3.10/dist-packages (from pyasn1-modules>=0.2.1->google-auth>=1.4.1->earthengine-api->hydrafloods) (0.6.0)\n",
            "Requirement already satisfied: oauthlib>=3.0.0 in /usr/local/lib/python3.10/dist-packages (from requests-oauthlib>=0.7.0->google-auth-oauthlib->gcsfs->hydrafloods) (3.2.2)\n",
            "Requirement already satisfied: notebook>=4.4.1 in /usr/local/lib/python3.10/dist-packages (from widgetsnbextension~=3.6.0->ipywidgets<9,>=7.6.0->ipyleaflet==0.18.2->geemap) (6.5.5)\n",
            "Requirement already satisfied: parso<0.9.0,>=0.8.3 in /usr/local/lib/python3.10/dist-packages (from jedi>=0.16->ipython>=4.0.0->ipywidgets<9,>=7.6.0->ipyleaflet==0.18.2->geemap) (0.8.4)\n",
            "Requirement already satisfied: pyzmq<25,>=17 in /usr/local/lib/python3.10/dist-packages (from notebook>=4.4.1->widgetsnbextension~=3.6.0->ipywidgets<9,>=7.6.0->ipyleaflet==0.18.2->geemap) (24.0.1)\n",
            "Requirement already satisfied: argon2-cffi in /usr/local/lib/python3.10/dist-packages (from notebook>=4.4.1->widgetsnbextension~=3.6.0->ipywidgets<9,>=7.6.0->ipyleaflet==0.18.2->geemap) (23.1.0)\n",
            "Requirement already satisfied: jupyter-core>=4.6.1 in /usr/local/lib/python3.10/dist-packages (from notebook>=4.4.1->widgetsnbextension~=3.6.0->ipywidgets<9,>=7.6.0->ipyleaflet==0.18.2->geemap) (5.7.2)\n",
            "Requirement already satisfied: nbformat in /usr/local/lib/python3.10/dist-packages (from notebook>=4.4.1->widgetsnbextension~=3.6.0->ipywidgets<9,>=7.6.0->ipyleaflet==0.18.2->geemap) (5.10.4)\n",
            "Requirement already satisfied: nbconvert>=5 in /usr/local/lib/python3.10/dist-packages (from notebook>=4.4.1->widgetsnbextension~=3.6.0->ipywidgets<9,>=7.6.0->ipyleaflet==0.18.2->geemap) (6.5.4)\n",
            "Requirement already satisfied: nest-asyncio>=1.5 in /usr/local/lib/python3.10/dist-packages (from notebook>=4.4.1->widgetsnbextension~=3.6.0->ipywidgets<9,>=7.6.0->ipyleaflet==0.18.2->geemap) (1.6.0)\n",
            "Requirement already satisfied: Send2Trash>=1.8.0 in /usr/local/lib/python3.10/dist-packages (from notebook>=4.4.1->widgetsnbextension~=3.6.0->ipywidgets<9,>=7.6.0->ipyleaflet==0.18.2->geemap) (1.8.3)\n",
            "Requirement already satisfied: terminado>=0.8.3 in /usr/local/lib/python3.10/dist-packages (from notebook>=4.4.1->widgetsnbextension~=3.6.0->ipywidgets<9,>=7.6.0->ipyleaflet==0.18.2->geemap) (0.18.1)\n",
            "Requirement already satisfied: prometheus-client in /usr/local/lib/python3.10/dist-packages (from notebook>=4.4.1->widgetsnbextension~=3.6.0->ipywidgets<9,>=7.6.0->ipyleaflet==0.18.2->geemap) (0.20.0)\n",
            "Requirement already satisfied: nbclassic>=0.4.7 in /usr/local/lib/python3.10/dist-packages (from notebook>=4.4.1->widgetsnbextension~=3.6.0->ipywidgets<9,>=7.6.0->ipyleaflet==0.18.2->geemap) (1.0.0)\n",
            "Requirement already satisfied: ptyprocess>=0.5 in /usr/local/lib/python3.10/dist-packages (from pexpect>4.3->ipython>=4.0.0->ipywidgets<9,>=7.6.0->ipyleaflet==0.18.2->geemap) (0.7.0)\n",
            "Requirement already satisfied: wcwidth in /usr/local/lib/python3.10/dist-packages (from prompt-toolkit!=3.0.0,!=3.0.1,<3.1.0,>=2.0.0->ipython>=4.0.0->ipywidgets<9,>=7.6.0->ipyleaflet==0.18.2->geemap) (0.2.13)\n",
            "Requirement already satisfied: jupyter-server>=1.8 in /usr/local/lib/python3.10/dist-packages (from nbclassic>=0.4.7->notebook>=4.4.1->widgetsnbextension~=3.6.0->ipywidgets<9,>=7.6.0->ipyleaflet==0.18.2->geemap) (1.24.0)\n",
            "Requirement already satisfied: notebook-shim>=0.2.3 in /usr/local/lib/python3.10/dist-packages (from nbclassic>=0.4.7->notebook>=4.4.1->widgetsnbextension~=3.6.0->ipywidgets<9,>=7.6.0->ipyleaflet==0.18.2->geemap) (0.2.4)\n",
            "Requirement already satisfied: lxml in /usr/local/lib/python3.10/dist-packages (from nbconvert>=5->notebook>=4.4.1->widgetsnbextension~=3.6.0->ipywidgets<9,>=7.6.0->ipyleaflet==0.18.2->geemap) (4.9.4)\n",
            "Requirement already satisfied: beautifulsoup4 in /usr/local/lib/python3.10/dist-packages (from nbconvert>=5->notebook>=4.4.1->widgetsnbextension~=3.6.0->ipywidgets<9,>=7.6.0->ipyleaflet==0.18.2->geemap) (4.12.3)\n",
            "Requirement already satisfied: bleach in /usr/local/lib/python3.10/dist-packages (from nbconvert>=5->notebook>=4.4.1->widgetsnbextension~=3.6.0->ipywidgets<9,>=7.6.0->ipyleaflet==0.18.2->geemap) (6.1.0)\n",
            "Requirement already satisfied: defusedxml in /usr/local/lib/python3.10/dist-packages (from nbconvert>=5->notebook>=4.4.1->widgetsnbextension~=3.6.0->ipywidgets<9,>=7.6.0->ipyleaflet==0.18.2->geemap) (0.7.1)\n",
            "Requirement already satisfied: entrypoints>=0.2.2 in /usr/local/lib/python3.10/dist-packages (from nbconvert>=5->notebook>=4.4.1->widgetsnbextension~=3.6.0->ipywidgets<9,>=7.6.0->ipyleaflet==0.18.2->geemap) (0.4)\n",
            "Requirement already satisfied: jupyterlab-pygments in /usr/local/lib/python3.10/dist-packages (from nbconvert>=5->notebook>=4.4.1->widgetsnbextension~=3.6.0->ipywidgets<9,>=7.6.0->ipyleaflet==0.18.2->geemap) (0.3.0)\n",
            "Requirement already satisfied: mistune<2,>=0.8.1 in /usr/local/lib/python3.10/dist-packages (from nbconvert>=5->notebook>=4.4.1->widgetsnbextension~=3.6.0->ipywidgets<9,>=7.6.0->ipyleaflet==0.18.2->geemap) (0.8.4)\n",
            "Requirement already satisfied: nbclient>=0.5.0 in /usr/local/lib/python3.10/dist-packages (from nbconvert>=5->notebook>=4.4.1->widgetsnbextension~=3.6.0->ipywidgets<9,>=7.6.0->ipyleaflet==0.18.2->geemap) (0.10.0)\n",
            "Requirement already satisfied: pandocfilters>=1.4.1 in /usr/local/lib/python3.10/dist-packages (from nbconvert>=5->notebook>=4.4.1->widgetsnbextension~=3.6.0->ipywidgets<9,>=7.6.0->ipyleaflet==0.18.2->geemap) (1.5.1)\n",
            "Requirement already satisfied: tinycss2 in /usr/local/lib/python3.10/dist-packages (from nbconvert>=5->notebook>=4.4.1->widgetsnbextension~=3.6.0->ipywidgets<9,>=7.6.0->ipyleaflet==0.18.2->geemap) (1.3.0)\n",
            "Requirement already satisfied: fastjsonschema>=2.15 in /usr/local/lib/python3.10/dist-packages (from nbformat->notebook>=4.4.1->widgetsnbextension~=3.6.0->ipywidgets<9,>=7.6.0->ipyleaflet==0.18.2->geemap) (2.19.1)\n",
            "Requirement already satisfied: jsonschema>=2.6 in /usr/local/lib/python3.10/dist-packages (from nbformat->notebook>=4.4.1->widgetsnbextension~=3.6.0->ipywidgets<9,>=7.6.0->ipyleaflet==0.18.2->geemap) (4.19.2)\n",
            "Requirement already satisfied: argon2-cffi-bindings in /usr/local/lib/python3.10/dist-packages (from argon2-cffi->notebook>=4.4.1->widgetsnbextension~=3.6.0->ipywidgets<9,>=7.6.0->ipyleaflet==0.18.2->geemap) (21.2.0)\n",
            "Requirement already satisfied: jsonschema-specifications>=2023.03.6 in /usr/local/lib/python3.10/dist-packages (from jsonschema>=2.6->nbformat->notebook>=4.4.1->widgetsnbextension~=3.6.0->ipywidgets<9,>=7.6.0->ipyleaflet==0.18.2->geemap) (2023.12.1)\n",
            "Requirement already satisfied: referencing>=0.28.4 in /usr/local/lib/python3.10/dist-packages (from jsonschema>=2.6->nbformat->notebook>=4.4.1->widgetsnbextension~=3.6.0->ipywidgets<9,>=7.6.0->ipyleaflet==0.18.2->geemap) (0.35.1)\n",
            "Requirement already satisfied: rpds-py>=0.7.1 in /usr/local/lib/python3.10/dist-packages (from jsonschema>=2.6->nbformat->notebook>=4.4.1->widgetsnbextension~=3.6.0->ipywidgets<9,>=7.6.0->ipyleaflet==0.18.2->geemap) (0.18.1)\n",
            "Requirement already satisfied: anyio<4,>=3.1.0 in /usr/local/lib/python3.10/dist-packages (from jupyter-server>=1.8->nbclassic>=0.4.7->notebook>=4.4.1->widgetsnbextension~=3.6.0->ipywidgets<9,>=7.6.0->ipyleaflet==0.18.2->geemap) (3.7.1)\n",
            "Requirement already satisfied: websocket-client in /usr/local/lib/python3.10/dist-packages (from jupyter-server>=1.8->nbclassic>=0.4.7->notebook>=4.4.1->widgetsnbextension~=3.6.0->ipywidgets<9,>=7.6.0->ipyleaflet==0.18.2->geemap) (1.8.0)\n",
            "Requirement already satisfied: cffi>=1.0.1 in /usr/local/lib/python3.10/dist-packages (from argon2-cffi-bindings->argon2-cffi->notebook>=4.4.1->widgetsnbextension~=3.6.0->ipywidgets<9,>=7.6.0->ipyleaflet==0.18.2->geemap) (1.16.0)\n",
            "Requirement already satisfied: soupsieve>1.2 in /usr/local/lib/python3.10/dist-packages (from beautifulsoup4->nbconvert>=5->notebook>=4.4.1->widgetsnbextension~=3.6.0->ipywidgets<9,>=7.6.0->ipyleaflet==0.18.2->geemap) (2.5)\n",
            "Requirement already satisfied: webencodings in /usr/local/lib/python3.10/dist-packages (from bleach->nbconvert>=5->notebook>=4.4.1->widgetsnbextension~=3.6.0->ipywidgets<9,>=7.6.0->ipyleaflet==0.18.2->geemap) (0.5.1)\n",
            "Requirement already satisfied: sniffio>=1.1 in /usr/local/lib/python3.10/dist-packages (from anyio<4,>=3.1.0->jupyter-server>=1.8->nbclassic>=0.4.7->notebook>=4.4.1->widgetsnbextension~=3.6.0->ipywidgets<9,>=7.6.0->ipyleaflet==0.18.2->geemap) (1.3.1)\n",
            "Requirement already satisfied: pycparser in /usr/local/lib/python3.10/dist-packages (from cffi>=1.0.1->argon2-cffi-bindings->argon2-cffi->notebook>=4.4.1->widgetsnbextension~=3.6.0->ipywidgets<9,>=7.6.0->ipyleaflet==0.18.2->geemap) (2.22)\n",
            "Building wheels for collected packages: fire, pipetools\n",
            "  Building wheel for fire (setup.py) ... \u001b[?25l\u001b[?25hdone\n",
            "  Created wheel for fire: filename=fire-0.6.0-py2.py3-none-any.whl size=117029 sha256=11b8bf71bed8e286531f1c47054bf2a44cf7c53131ae7a58f95630b1769375d3\n",
            "  Stored in directory: /root/.cache/pip/wheels/d6/6d/5d/5b73fa0f46d01a793713f8859201361e9e581ced8c75e5c6a3\n",
            "  Building wheel for pipetools (setup.py) ... \u001b[?25l\u001b[?25hdone\n",
            "  Created wheel for pipetools: filename=pipetools-1.1.0-py3-none-any.whl size=13601 sha256=65a30d6341b8781c38da1deca5f2d97149adfeafb4b85ceabcd58d6b89ebf25a\n",
            "  Stored in directory: /root/.cache/pip/wheels/3e/66/b3/357ae471d72e8b2fabf98f8395730c146e15c2be70c4c8c361\n",
            "Successfully built fire pipetools\n",
            "Installing collected packages: url-normalize, pipetools, jedi, fire, cattrs, requests-cache, simplecmr, hydrafloods\n",
            "Successfully installed cattrs-23.2.3 fire-0.6.0 hydrafloods-2023.10.14 jedi-0.19.1 pipetools-1.1.0 requests-cache-1.2.0 simplecmr-0.0.1 url-normalize-1.4.3\n"
          ]
        }
      ]
    },
    {
      "cell_type": "code",
      "source": [
        "!pip install geemap"
      ],
      "metadata": {
        "id": "XsrvWreA3nZN",
        "outputId": "b342775b-54ba-4141-d34c-e5eedef51228",
        "colab": {
          "base_uri": "https://localhost:8080/"
        }
      },
      "execution_count": 2,
      "outputs": [
        {
          "output_type": "stream",
          "name": "stdout",
          "text": [
            "Requirement already satisfied: geemap in /usr/local/lib/python3.10/dist-packages (0.32.1)\n",
            "Requirement already satisfied: bqplot in /usr/local/lib/python3.10/dist-packages (from geemap) (0.12.43)\n",
            "Requirement already satisfied: colour in /usr/local/lib/python3.10/dist-packages (from geemap) (0.1.5)\n",
            "Requirement already satisfied: earthengine-api>=0.1.347 in /usr/local/lib/python3.10/dist-packages (from geemap) (0.1.404)\n",
            "Requirement already satisfied: eerepr>=0.0.4 in /usr/local/lib/python3.10/dist-packages (from geemap) (0.0.4)\n",
            "Requirement already satisfied: folium>=0.13.0 in /usr/local/lib/python3.10/dist-packages (from geemap) (0.14.0)\n",
            "Requirement already satisfied: geocoder in /usr/local/lib/python3.10/dist-packages (from geemap) (1.38.1)\n",
            "Requirement already satisfied: ipyevents in /usr/local/lib/python3.10/dist-packages (from geemap) (2.0.2)\n",
            "Requirement already satisfied: ipyfilechooser>=0.6.0 in /usr/local/lib/python3.10/dist-packages (from geemap) (0.6.0)\n",
            "Requirement already satisfied: ipyleaflet==0.18.2 in /usr/local/lib/python3.10/dist-packages (from geemap) (0.18.2)\n",
            "Requirement already satisfied: ipytree in /usr/local/lib/python3.10/dist-packages (from geemap) (0.2.2)\n",
            "Requirement already satisfied: matplotlib in /usr/local/lib/python3.10/dist-packages (from geemap) (3.7.1)\n",
            "Requirement already satisfied: numpy in /usr/local/lib/python3.10/dist-packages (from geemap) (1.25.2)\n",
            "Requirement already satisfied: pandas in /usr/local/lib/python3.10/dist-packages (from geemap) (2.0.3)\n",
            "Requirement already satisfied: plotly in /usr/local/lib/python3.10/dist-packages (from geemap) (5.15.0)\n",
            "Requirement already satisfied: pyperclip in /usr/local/lib/python3.10/dist-packages (from geemap) (1.8.2)\n",
            "Requirement already satisfied: pyshp>=2.1.3 in /usr/local/lib/python3.10/dist-packages (from geemap) (2.3.1)\n",
            "Requirement already satisfied: python-box in /usr/local/lib/python3.10/dist-packages (from geemap) (7.1.1)\n",
            "Requirement already satisfied: scooby in /usr/local/lib/python3.10/dist-packages (from geemap) (0.10.0)\n",
            "Requirement already satisfied: ipywidgets<9,>=7.6.0 in /usr/local/lib/python3.10/dist-packages (from ipyleaflet==0.18.2->geemap) (7.7.1)\n",
            "Requirement already satisfied: traittypes<3,>=0.2.1 in /usr/local/lib/python3.10/dist-packages (from ipyleaflet==0.18.2->geemap) (0.2.1)\n",
            "Requirement already satisfied: xyzservices>=2021.8.1 in /usr/local/lib/python3.10/dist-packages (from ipyleaflet==0.18.2->geemap) (2024.4.0)\n",
            "Requirement already satisfied: branca>=0.5.0 in /usr/local/lib/python3.10/dist-packages (from ipyleaflet==0.18.2->geemap) (0.7.2)\n",
            "Requirement already satisfied: google-cloud-storage in /usr/local/lib/python3.10/dist-packages (from earthengine-api>=0.1.347->geemap) (2.8.0)\n",
            "Requirement already satisfied: google-api-python-client>=1.12.1 in /usr/local/lib/python3.10/dist-packages (from earthengine-api>=0.1.347->geemap) (2.84.0)\n",
            "Requirement already satisfied: google-auth>=1.4.1 in /usr/local/lib/python3.10/dist-packages (from earthengine-api>=0.1.347->geemap) (2.27.0)\n",
            "Requirement already satisfied: google-auth-httplib2>=0.0.3 in /usr/local/lib/python3.10/dist-packages (from earthengine-api>=0.1.347->geemap) (0.1.1)\n",
            "Requirement already satisfied: httplib2<1dev,>=0.9.2 in /usr/local/lib/python3.10/dist-packages (from earthengine-api>=0.1.347->geemap) (0.22.0)\n",
            "Requirement already satisfied: requests in /usr/local/lib/python3.10/dist-packages (from earthengine-api>=0.1.347->geemap) (2.31.0)\n",
            "Requirement already satisfied: jinja2>=2.9 in /usr/local/lib/python3.10/dist-packages (from folium>=0.13.0->geemap) (3.1.4)\n",
            "Requirement already satisfied: traitlets>=4.3.0 in /usr/local/lib/python3.10/dist-packages (from bqplot->geemap) (5.7.1)\n",
            "Requirement already satisfied: python-dateutil>=2.8.2 in /usr/local/lib/python3.10/dist-packages (from pandas->geemap) (2.8.2)\n",
            "Requirement already satisfied: pytz>=2020.1 in /usr/local/lib/python3.10/dist-packages (from pandas->geemap) (2023.4)\n",
            "Requirement already satisfied: tzdata>=2022.1 in /usr/local/lib/python3.10/dist-packages (from pandas->geemap) (2024.1)\n",
            "Requirement already satisfied: click in /usr/local/lib/python3.10/dist-packages (from geocoder->geemap) (8.1.7)\n",
            "Requirement already satisfied: future in /usr/local/lib/python3.10/dist-packages (from geocoder->geemap) (0.18.3)\n",
            "Requirement already satisfied: ratelim in /usr/local/lib/python3.10/dist-packages (from geocoder->geemap) (0.1.6)\n",
            "Requirement already satisfied: six in /usr/local/lib/python3.10/dist-packages (from geocoder->geemap) (1.16.0)\n",
            "Requirement already satisfied: contourpy>=1.0.1 in /usr/local/lib/python3.10/dist-packages (from matplotlib->geemap) (1.2.1)\n",
            "Requirement already satisfied: cycler>=0.10 in /usr/local/lib/python3.10/dist-packages (from matplotlib->geemap) (0.12.1)\n",
            "Requirement already satisfied: fonttools>=4.22.0 in /usr/local/lib/python3.10/dist-packages (from matplotlib->geemap) (4.51.0)\n",
            "Requirement already satisfied: kiwisolver>=1.0.1 in /usr/local/lib/python3.10/dist-packages (from matplotlib->geemap) (1.4.5)\n",
            "Requirement already satisfied: packaging>=20.0 in /usr/local/lib/python3.10/dist-packages (from matplotlib->geemap) (24.0)\n",
            "Requirement already satisfied: pillow>=6.2.0 in /usr/local/lib/python3.10/dist-packages (from matplotlib->geemap) (9.4.0)\n",
            "Requirement already satisfied: pyparsing>=2.3.1 in /usr/local/lib/python3.10/dist-packages (from matplotlib->geemap) (3.1.2)\n",
            "Requirement already satisfied: tenacity>=6.2.0 in /usr/local/lib/python3.10/dist-packages (from plotly->geemap) (8.3.0)\n",
            "Requirement already satisfied: google-api-core!=2.0.*,!=2.1.*,!=2.2.*,!=2.3.0,<3.0.0dev,>=1.31.5 in /usr/local/lib/python3.10/dist-packages (from google-api-python-client>=1.12.1->earthengine-api>=0.1.347->geemap) (2.11.1)\n",
            "Requirement already satisfied: uritemplate<5,>=3.0.1 in /usr/local/lib/python3.10/dist-packages (from google-api-python-client>=1.12.1->earthengine-api>=0.1.347->geemap) (4.1.1)\n",
            "Requirement already satisfied: cachetools<6.0,>=2.0.0 in /usr/local/lib/python3.10/dist-packages (from google-auth>=1.4.1->earthengine-api>=0.1.347->geemap) (5.3.3)\n",
            "Requirement already satisfied: pyasn1-modules>=0.2.1 in /usr/local/lib/python3.10/dist-packages (from google-auth>=1.4.1->earthengine-api>=0.1.347->geemap) (0.4.0)\n",
            "Requirement already satisfied: rsa<5,>=3.1.4 in /usr/local/lib/python3.10/dist-packages (from google-auth>=1.4.1->earthengine-api>=0.1.347->geemap) (4.9)\n",
            "Requirement already satisfied: ipykernel>=4.5.1 in /usr/local/lib/python3.10/dist-packages (from ipywidgets<9,>=7.6.0->ipyleaflet==0.18.2->geemap) (5.5.6)\n",
            "Requirement already satisfied: ipython-genutils~=0.2.0 in /usr/local/lib/python3.10/dist-packages (from ipywidgets<9,>=7.6.0->ipyleaflet==0.18.2->geemap) (0.2.0)\n",
            "Requirement already satisfied: widgetsnbextension~=3.6.0 in /usr/local/lib/python3.10/dist-packages (from ipywidgets<9,>=7.6.0->ipyleaflet==0.18.2->geemap) (3.6.6)\n",
            "Requirement already satisfied: ipython>=4.0.0 in /usr/local/lib/python3.10/dist-packages (from ipywidgets<9,>=7.6.0->ipyleaflet==0.18.2->geemap) (7.34.0)\n",
            "Requirement already satisfied: jupyterlab-widgets>=1.0.0 in /usr/local/lib/python3.10/dist-packages (from ipywidgets<9,>=7.6.0->ipyleaflet==0.18.2->geemap) (3.0.10)\n",
            "Requirement already satisfied: MarkupSafe>=2.0 in /usr/local/lib/python3.10/dist-packages (from jinja2>=2.9->folium>=0.13.0->geemap) (2.1.5)\n",
            "Requirement already satisfied: google-cloud-core<3.0dev,>=2.3.0 in /usr/local/lib/python3.10/dist-packages (from google-cloud-storage->earthengine-api>=0.1.347->geemap) (2.3.3)\n",
            "Requirement already satisfied: google-resumable-media>=2.3.2 in /usr/local/lib/python3.10/dist-packages (from google-cloud-storage->earthengine-api>=0.1.347->geemap) (2.7.0)\n",
            "Requirement already satisfied: charset-normalizer<4,>=2 in /usr/local/lib/python3.10/dist-packages (from requests->earthengine-api>=0.1.347->geemap) (3.3.2)\n",
            "Requirement already satisfied: idna<4,>=2.5 in /usr/local/lib/python3.10/dist-packages (from requests->earthengine-api>=0.1.347->geemap) (3.7)\n",
            "Requirement already satisfied: urllib3<3,>=1.21.1 in /usr/local/lib/python3.10/dist-packages (from requests->earthengine-api>=0.1.347->geemap) (2.0.7)\n",
            "Requirement already satisfied: certifi>=2017.4.17 in /usr/local/lib/python3.10/dist-packages (from requests->earthengine-api>=0.1.347->geemap) (2024.2.2)\n",
            "Requirement already satisfied: decorator in /usr/local/lib/python3.10/dist-packages (from ratelim->geocoder->geemap) (4.4.2)\n",
            "Requirement already satisfied: googleapis-common-protos<2.0.dev0,>=1.56.2 in /usr/local/lib/python3.10/dist-packages (from google-api-core!=2.0.*,!=2.1.*,!=2.2.*,!=2.3.0,<3.0.0dev,>=1.31.5->google-api-python-client>=1.12.1->earthengine-api>=0.1.347->geemap) (1.63.0)\n",
            "Requirement already satisfied: protobuf!=3.20.0,!=3.20.1,!=4.21.0,!=4.21.1,!=4.21.2,!=4.21.3,!=4.21.4,!=4.21.5,<5.0.0.dev0,>=3.19.5 in /usr/local/lib/python3.10/dist-packages (from google-api-core!=2.0.*,!=2.1.*,!=2.2.*,!=2.3.0,<3.0.0dev,>=1.31.5->google-api-python-client>=1.12.1->earthengine-api>=0.1.347->geemap) (3.20.3)\n",
            "Requirement already satisfied: google-crc32c<2.0dev,>=1.0 in /usr/local/lib/python3.10/dist-packages (from google-resumable-media>=2.3.2->google-cloud-storage->earthengine-api>=0.1.347->geemap) (1.5.0)\n",
            "Requirement already satisfied: jupyter-client in /usr/local/lib/python3.10/dist-packages (from ipykernel>=4.5.1->ipywidgets<9,>=7.6.0->ipyleaflet==0.18.2->geemap) (6.1.12)\n",
            "Requirement already satisfied: tornado>=4.2 in /usr/local/lib/python3.10/dist-packages (from ipykernel>=4.5.1->ipywidgets<9,>=7.6.0->ipyleaflet==0.18.2->geemap) (6.3.3)\n",
            "Requirement already satisfied: setuptools>=18.5 in /usr/local/lib/python3.10/dist-packages (from ipython>=4.0.0->ipywidgets<9,>=7.6.0->ipyleaflet==0.18.2->geemap) (67.7.2)\n",
            "Requirement already satisfied: jedi>=0.16 in /usr/local/lib/python3.10/dist-packages (from ipython>=4.0.0->ipywidgets<9,>=7.6.0->ipyleaflet==0.18.2->geemap) (0.19.1)\n",
            "Requirement already satisfied: pickleshare in /usr/local/lib/python3.10/dist-packages (from ipython>=4.0.0->ipywidgets<9,>=7.6.0->ipyleaflet==0.18.2->geemap) (0.7.5)\n",
            "Requirement already satisfied: prompt-toolkit!=3.0.0,!=3.0.1,<3.1.0,>=2.0.0 in /usr/local/lib/python3.10/dist-packages (from ipython>=4.0.0->ipywidgets<9,>=7.6.0->ipyleaflet==0.18.2->geemap) (3.0.43)\n",
            "Requirement already satisfied: pygments in /usr/local/lib/python3.10/dist-packages (from ipython>=4.0.0->ipywidgets<9,>=7.6.0->ipyleaflet==0.18.2->geemap) (2.16.1)\n",
            "Requirement already satisfied: backcall in /usr/local/lib/python3.10/dist-packages (from ipython>=4.0.0->ipywidgets<9,>=7.6.0->ipyleaflet==0.18.2->geemap) (0.2.0)\n",
            "Requirement already satisfied: matplotlib-inline in /usr/local/lib/python3.10/dist-packages (from ipython>=4.0.0->ipywidgets<9,>=7.6.0->ipyleaflet==0.18.2->geemap) (0.1.7)\n",
            "Requirement already satisfied: pexpect>4.3 in /usr/local/lib/python3.10/dist-packages (from ipython>=4.0.0->ipywidgets<9,>=7.6.0->ipyleaflet==0.18.2->geemap) (4.9.0)\n",
            "Requirement already satisfied: pyasn1<0.7.0,>=0.4.6 in /usr/local/lib/python3.10/dist-packages (from pyasn1-modules>=0.2.1->google-auth>=1.4.1->earthengine-api>=0.1.347->geemap) (0.6.0)\n",
            "Requirement already satisfied: notebook>=4.4.1 in /usr/local/lib/python3.10/dist-packages (from widgetsnbextension~=3.6.0->ipywidgets<9,>=7.6.0->ipyleaflet==0.18.2->geemap) (6.5.5)\n",
            "Requirement already satisfied: parso<0.9.0,>=0.8.3 in /usr/local/lib/python3.10/dist-packages (from jedi>=0.16->ipython>=4.0.0->ipywidgets<9,>=7.6.0->ipyleaflet==0.18.2->geemap) (0.8.4)\n",
            "Requirement already satisfied: pyzmq<25,>=17 in /usr/local/lib/python3.10/dist-packages (from notebook>=4.4.1->widgetsnbextension~=3.6.0->ipywidgets<9,>=7.6.0->ipyleaflet==0.18.2->geemap) (24.0.1)\n",
            "Requirement already satisfied: argon2-cffi in /usr/local/lib/python3.10/dist-packages (from notebook>=4.4.1->widgetsnbextension~=3.6.0->ipywidgets<9,>=7.6.0->ipyleaflet==0.18.2->geemap) (23.1.0)\n",
            "Requirement already satisfied: jupyter-core>=4.6.1 in /usr/local/lib/python3.10/dist-packages (from notebook>=4.4.1->widgetsnbextension~=3.6.0->ipywidgets<9,>=7.6.0->ipyleaflet==0.18.2->geemap) (5.7.2)\n",
            "Requirement already satisfied: nbformat in /usr/local/lib/python3.10/dist-packages (from notebook>=4.4.1->widgetsnbextension~=3.6.0->ipywidgets<9,>=7.6.0->ipyleaflet==0.18.2->geemap) (5.10.4)\n",
            "Requirement already satisfied: nbconvert>=5 in /usr/local/lib/python3.10/dist-packages (from notebook>=4.4.1->widgetsnbextension~=3.6.0->ipywidgets<9,>=7.6.0->ipyleaflet==0.18.2->geemap) (6.5.4)\n",
            "Requirement already satisfied: nest-asyncio>=1.5 in /usr/local/lib/python3.10/dist-packages (from notebook>=4.4.1->widgetsnbextension~=3.6.0->ipywidgets<9,>=7.6.0->ipyleaflet==0.18.2->geemap) (1.6.0)\n",
            "Requirement already satisfied: Send2Trash>=1.8.0 in /usr/local/lib/python3.10/dist-packages (from notebook>=4.4.1->widgetsnbextension~=3.6.0->ipywidgets<9,>=7.6.0->ipyleaflet==0.18.2->geemap) (1.8.3)\n",
            "Requirement already satisfied: terminado>=0.8.3 in /usr/local/lib/python3.10/dist-packages (from notebook>=4.4.1->widgetsnbextension~=3.6.0->ipywidgets<9,>=7.6.0->ipyleaflet==0.18.2->geemap) (0.18.1)\n",
            "Requirement already satisfied: prometheus-client in /usr/local/lib/python3.10/dist-packages (from notebook>=4.4.1->widgetsnbextension~=3.6.0->ipywidgets<9,>=7.6.0->ipyleaflet==0.18.2->geemap) (0.20.0)\n",
            "Requirement already satisfied: nbclassic>=0.4.7 in /usr/local/lib/python3.10/dist-packages (from notebook>=4.4.1->widgetsnbextension~=3.6.0->ipywidgets<9,>=7.6.0->ipyleaflet==0.18.2->geemap) (1.0.0)\n",
            "Requirement already satisfied: ptyprocess>=0.5 in /usr/local/lib/python3.10/dist-packages (from pexpect>4.3->ipython>=4.0.0->ipywidgets<9,>=7.6.0->ipyleaflet==0.18.2->geemap) (0.7.0)\n",
            "Requirement already satisfied: wcwidth in /usr/local/lib/python3.10/dist-packages (from prompt-toolkit!=3.0.0,!=3.0.1,<3.1.0,>=2.0.0->ipython>=4.0.0->ipywidgets<9,>=7.6.0->ipyleaflet==0.18.2->geemap) (0.2.13)\n",
            "Requirement already satisfied: platformdirs>=2.5 in /usr/local/lib/python3.10/dist-packages (from jupyter-core>=4.6.1->notebook>=4.4.1->widgetsnbextension~=3.6.0->ipywidgets<9,>=7.6.0->ipyleaflet==0.18.2->geemap) (4.2.2)\n",
            "Requirement already satisfied: jupyter-server>=1.8 in /usr/local/lib/python3.10/dist-packages (from nbclassic>=0.4.7->notebook>=4.4.1->widgetsnbextension~=3.6.0->ipywidgets<9,>=7.6.0->ipyleaflet==0.18.2->geemap) (1.24.0)\n",
            "Requirement already satisfied: notebook-shim>=0.2.3 in /usr/local/lib/python3.10/dist-packages (from nbclassic>=0.4.7->notebook>=4.4.1->widgetsnbextension~=3.6.0->ipywidgets<9,>=7.6.0->ipyleaflet==0.18.2->geemap) (0.2.4)\n",
            "Requirement already satisfied: lxml in /usr/local/lib/python3.10/dist-packages (from nbconvert>=5->notebook>=4.4.1->widgetsnbextension~=3.6.0->ipywidgets<9,>=7.6.0->ipyleaflet==0.18.2->geemap) (4.9.4)\n",
            "Requirement already satisfied: beautifulsoup4 in /usr/local/lib/python3.10/dist-packages (from nbconvert>=5->notebook>=4.4.1->widgetsnbextension~=3.6.0->ipywidgets<9,>=7.6.0->ipyleaflet==0.18.2->geemap) (4.12.3)\n",
            "Requirement already satisfied: bleach in /usr/local/lib/python3.10/dist-packages (from nbconvert>=5->notebook>=4.4.1->widgetsnbextension~=3.6.0->ipywidgets<9,>=7.6.0->ipyleaflet==0.18.2->geemap) (6.1.0)\n",
            "Requirement already satisfied: defusedxml in /usr/local/lib/python3.10/dist-packages (from nbconvert>=5->notebook>=4.4.1->widgetsnbextension~=3.6.0->ipywidgets<9,>=7.6.0->ipyleaflet==0.18.2->geemap) (0.7.1)\n",
            "Requirement already satisfied: entrypoints>=0.2.2 in /usr/local/lib/python3.10/dist-packages (from nbconvert>=5->notebook>=4.4.1->widgetsnbextension~=3.6.0->ipywidgets<9,>=7.6.0->ipyleaflet==0.18.2->geemap) (0.4)\n",
            "Requirement already satisfied: jupyterlab-pygments in /usr/local/lib/python3.10/dist-packages (from nbconvert>=5->notebook>=4.4.1->widgetsnbextension~=3.6.0->ipywidgets<9,>=7.6.0->ipyleaflet==0.18.2->geemap) (0.3.0)\n",
            "Requirement already satisfied: mistune<2,>=0.8.1 in /usr/local/lib/python3.10/dist-packages (from nbconvert>=5->notebook>=4.4.1->widgetsnbextension~=3.6.0->ipywidgets<9,>=7.6.0->ipyleaflet==0.18.2->geemap) (0.8.4)\n",
            "Requirement already satisfied: nbclient>=0.5.0 in /usr/local/lib/python3.10/dist-packages (from nbconvert>=5->notebook>=4.4.1->widgetsnbextension~=3.6.0->ipywidgets<9,>=7.6.0->ipyleaflet==0.18.2->geemap) (0.10.0)\n",
            "Requirement already satisfied: pandocfilters>=1.4.1 in /usr/local/lib/python3.10/dist-packages (from nbconvert>=5->notebook>=4.4.1->widgetsnbextension~=3.6.0->ipywidgets<9,>=7.6.0->ipyleaflet==0.18.2->geemap) (1.5.1)\n",
            "Requirement already satisfied: tinycss2 in /usr/local/lib/python3.10/dist-packages (from nbconvert>=5->notebook>=4.4.1->widgetsnbextension~=3.6.0->ipywidgets<9,>=7.6.0->ipyleaflet==0.18.2->geemap) (1.3.0)\n",
            "Requirement already satisfied: fastjsonschema>=2.15 in /usr/local/lib/python3.10/dist-packages (from nbformat->notebook>=4.4.1->widgetsnbextension~=3.6.0->ipywidgets<9,>=7.6.0->ipyleaflet==0.18.2->geemap) (2.19.1)\n",
            "Requirement already satisfied: jsonschema>=2.6 in /usr/local/lib/python3.10/dist-packages (from nbformat->notebook>=4.4.1->widgetsnbextension~=3.6.0->ipywidgets<9,>=7.6.0->ipyleaflet==0.18.2->geemap) (4.19.2)\n",
            "Requirement already satisfied: argon2-cffi-bindings in /usr/local/lib/python3.10/dist-packages (from argon2-cffi->notebook>=4.4.1->widgetsnbextension~=3.6.0->ipywidgets<9,>=7.6.0->ipyleaflet==0.18.2->geemap) (21.2.0)\n",
            "Requirement already satisfied: attrs>=22.2.0 in /usr/local/lib/python3.10/dist-packages (from jsonschema>=2.6->nbformat->notebook>=4.4.1->widgetsnbextension~=3.6.0->ipywidgets<9,>=7.6.0->ipyleaflet==0.18.2->geemap) (23.2.0)\n",
            "Requirement already satisfied: jsonschema-specifications>=2023.03.6 in /usr/local/lib/python3.10/dist-packages (from jsonschema>=2.6->nbformat->notebook>=4.4.1->widgetsnbextension~=3.6.0->ipywidgets<9,>=7.6.0->ipyleaflet==0.18.2->geemap) (2023.12.1)\n",
            "Requirement already satisfied: referencing>=0.28.4 in /usr/local/lib/python3.10/dist-packages (from jsonschema>=2.6->nbformat->notebook>=4.4.1->widgetsnbextension~=3.6.0->ipywidgets<9,>=7.6.0->ipyleaflet==0.18.2->geemap) (0.35.1)\n",
            "Requirement already satisfied: rpds-py>=0.7.1 in /usr/local/lib/python3.10/dist-packages (from jsonschema>=2.6->nbformat->notebook>=4.4.1->widgetsnbextension~=3.6.0->ipywidgets<9,>=7.6.0->ipyleaflet==0.18.2->geemap) (0.18.1)\n",
            "Requirement already satisfied: anyio<4,>=3.1.0 in /usr/local/lib/python3.10/dist-packages (from jupyter-server>=1.8->nbclassic>=0.4.7->notebook>=4.4.1->widgetsnbextension~=3.6.0->ipywidgets<9,>=7.6.0->ipyleaflet==0.18.2->geemap) (3.7.1)\n",
            "Requirement already satisfied: websocket-client in /usr/local/lib/python3.10/dist-packages (from jupyter-server>=1.8->nbclassic>=0.4.7->notebook>=4.4.1->widgetsnbextension~=3.6.0->ipywidgets<9,>=7.6.0->ipyleaflet==0.18.2->geemap) (1.8.0)\n",
            "Requirement already satisfied: cffi>=1.0.1 in /usr/local/lib/python3.10/dist-packages (from argon2-cffi-bindings->argon2-cffi->notebook>=4.4.1->widgetsnbextension~=3.6.0->ipywidgets<9,>=7.6.0->ipyleaflet==0.18.2->geemap) (1.16.0)\n",
            "Requirement already satisfied: soupsieve>1.2 in /usr/local/lib/python3.10/dist-packages (from beautifulsoup4->nbconvert>=5->notebook>=4.4.1->widgetsnbextension~=3.6.0->ipywidgets<9,>=7.6.0->ipyleaflet==0.18.2->geemap) (2.5)\n",
            "Requirement already satisfied: webencodings in /usr/local/lib/python3.10/dist-packages (from bleach->nbconvert>=5->notebook>=4.4.1->widgetsnbextension~=3.6.0->ipywidgets<9,>=7.6.0->ipyleaflet==0.18.2->geemap) (0.5.1)\n",
            "Requirement already satisfied: sniffio>=1.1 in /usr/local/lib/python3.10/dist-packages (from anyio<4,>=3.1.0->jupyter-server>=1.8->nbclassic>=0.4.7->notebook>=4.4.1->widgetsnbextension~=3.6.0->ipywidgets<9,>=7.6.0->ipyleaflet==0.18.2->geemap) (1.3.1)\n",
            "Requirement already satisfied: exceptiongroup in /usr/local/lib/python3.10/dist-packages (from anyio<4,>=3.1.0->jupyter-server>=1.8->nbclassic>=0.4.7->notebook>=4.4.1->widgetsnbextension~=3.6.0->ipywidgets<9,>=7.6.0->ipyleaflet==0.18.2->geemap) (1.2.1)\n",
            "Requirement already satisfied: pycparser in /usr/local/lib/python3.10/dist-packages (from cffi>=1.0.1->argon2-cffi-bindings->argon2-cffi->notebook>=4.4.1->widgetsnbextension~=3.6.0->ipywidgets<9,>=7.6.0->ipyleaflet==0.18.2->geemap) (2.22)\n"
          ]
        }
      ]
    },
    {
      "cell_type": "code",
      "source": [
        "import ee\n",
        "import geemap\n",
        "import geemap.chart as chart"
      ],
      "metadata": {
        "id": "kQBuNCRq3xDz"
      },
      "execution_count": 4,
      "outputs": []
    },
    {
      "cell_type": "code",
      "source": [
        "Map = geemap.Map()"
      ],
      "metadata": {
        "id": "2xNlBlcF3sBx",
        "outputId": "ee85c9a7-9e9b-4cf7-fdd4-189868a5ef72",
        "colab": {
          "base_uri": "https://localhost:8080/",
          "height": 176
        }
      },
      "execution_count": 5,
      "outputs": [
        {
          "output_type": "display_data",
          "data": {
            "text/plain": [
              "<IPython.core.display.HTML object>"
            ],
            "text/html": [
              "\n",
              "            <style>\n",
              "                .geemap-dark {\n",
              "                    --jp-widgets-color: white;\n",
              "                    --jp-widgets-label-color: white;\n",
              "                    --jp-ui-font-color1: white;\n",
              "                    --jp-layout-color2: #454545;\n",
              "                    background-color: #383838;\n",
              "                }\n",
              "\n",
              "                .geemap-dark .jupyter-button {\n",
              "                    --jp-layout-color3: #383838;\n",
              "                }\n",
              "\n",
              "                .geemap-colab {\n",
              "                    background-color: var(--colab-primary-surface-color, white);\n",
              "                }\n",
              "\n",
              "                .geemap-colab .jupyter-button {\n",
              "                    --jp-layout-color3: var(--colab-primary-surface-color, white);\n",
              "                }\n",
              "            </style>\n",
              "            "
            ]
          },
          "metadata": {}
        },
        {
          "output_type": "stream",
          "name": "stdout",
          "text": [
            "To authorize access needed by Earth Engine, open the following URL in a web browser and follow the instructions. If the web browser does not start automatically, please manually browse the URL below.\n",
            "\n",
            "    https://code.earthengine.google.com/client-auth?scopes=https%3A//www.googleapis.com/auth/earthengine%20https%3A//www.googleapis.com/auth/cloud-platform%20https%3A//www.googleapis.com/auth/devstorage.full_control&request_id=nmvZ0hD1fgxMlCYeJb5GmHC1RJ0rzOT2V3a-ma1YP4E&tc=-i0EhfiCxQiuFQrTe6JHITU7A3YpBVQU-xW3U_NRX8s&cc=AmU6wLdvXNBV8xC6Hq0Tz7GE4H-A92Tk7CZWRABi9bA\n",
            "\n",
            "The authorization workflow will generate a code, which you should paste in the box below.\n",
            "Enter verification code: 4/1AdLIrYcV6nU05X0kk3j09Buke7WzJr2iekIHA9zCsLG4YmrEMXt0TceQF2Q\n",
            "\n",
            "Successfully saved authorization token.\n"
          ]
        }
      ]
    },
    {
      "cell_type": "code",
      "source": [
        "# Check the HYDRAFloods package version, the latest verison is \"2021.10.11\"\n",
        "\n",
        "hf.__version__"
      ],
      "metadata": {
        "id": "IbPiSYP9KPqZ",
        "colab": {
          "base_uri": "https://localhost:8080/",
          "height": 35
        },
        "outputId": "72149f35-19d1-4ef7-ad0b-e6c16ce9ee32"
      },
      "execution_count": 7,
      "outputs": [
        {
          "output_type": "display_data",
          "data": {
            "text/plain": [
              "<IPython.core.display.HTML object>"
            ],
            "text/html": [
              "\n",
              "            <style>\n",
              "                .geemap-dark {\n",
              "                    --jp-widgets-color: white;\n",
              "                    --jp-widgets-label-color: white;\n",
              "                    --jp-ui-font-color1: white;\n",
              "                    --jp-layout-color2: #454545;\n",
              "                    background-color: #383838;\n",
              "                }\n",
              "\n",
              "                .geemap-dark .jupyter-button {\n",
              "                    --jp-layout-color3: #383838;\n",
              "                }\n",
              "\n",
              "                .geemap-colab {\n",
              "                    background-color: var(--colab-primary-surface-color, white);\n",
              "                }\n",
              "\n",
              "                .geemap-colab .jupyter-button {\n",
              "                    --jp-layout-color3: var(--colab-primary-surface-color, white);\n",
              "                }\n",
              "            </style>\n",
              "            "
            ]
          },
          "metadata": {}
        },
        {
          "output_type": "execute_result",
          "data": {
            "text/plain": [
              "'2023.10.14'"
            ],
            "application/vnd.google.colaboratory.intrinsic+json": {
              "type": "string"
            }
          },
          "metadata": {},
          "execution_count": 7
        }
      ]
    },
    {
      "cell_type": "markdown",
      "metadata": {
        "id": "1PL0_JI7XF9v"
      },
      "source": [
        "## 3) Pre-processing SAR imagery\n",
        "The start of any process is to acquire data. Here HYDRAFloods is used to:\n",
        "* Connect to Earth Engine collections to select the images we want using spatial and temporal filters\n",
        "* Apply some standard corrections for pre-processing SAR images"
      ]
    },
    {
      "cell_type": "code",
      "source": [
        "region = ee.FeatureCollection (\"users/tjm0042/India\").filter(ee.Filter.eq('shapeName', \"Tamil Nādu\"))"
      ],
      "metadata": {
        "id": "droQde6o-Gi8",
        "outputId": "7f4c843c-017e-45fa-aa52-0cf3ab27a889",
        "colab": {
          "base_uri": "https://localhost:8080/",
          "height": 17
        }
      },
      "execution_count": 41,
      "outputs": [
        {
          "output_type": "display_data",
          "data": {
            "text/plain": [
              "<IPython.core.display.HTML object>"
            ],
            "text/html": [
              "\n",
              "            <style>\n",
              "                .geemap-dark {\n",
              "                    --jp-widgets-color: white;\n",
              "                    --jp-widgets-label-color: white;\n",
              "                    --jp-ui-font-color1: white;\n",
              "                    --jp-layout-color2: #454545;\n",
              "                    background-color: #383838;\n",
              "                }\n",
              "\n",
              "                .geemap-dark .jupyter-button {\n",
              "                    --jp-layout-color3: #383838;\n",
              "                }\n",
              "\n",
              "                .geemap-colab {\n",
              "                    background-color: var(--colab-primary-surface-color, white);\n",
              "                }\n",
              "\n",
              "                .geemap-colab .jupyter-button {\n",
              "                    --jp-layout-color3: var(--colab-primary-surface-color, white);\n",
              "                }\n",
              "            </style>\n",
              "            "
            ]
          },
          "metadata": {}
        }
      ]
    },
    {
      "cell_type": "code",
      "metadata": {
        "id": "isl-trtCyOpD",
        "colab": {
          "base_uri": "https://localhost:8080/",
          "height": 17
        },
        "outputId": "345c93a9-5099-4cbf-bd93-d5c7c6048101"
      },
      "source": [
        "# # Define region of interest for surface water mapping using an Earth Engine feature collection\n",
        "# country = \"Guatemala\"\n",
        "# region = ee.FeatureCollection(hf.country_bbox(country))\n"
      ],
      "execution_count": 8,
      "outputs": [
        {
          "output_type": "display_data",
          "data": {
            "text/plain": [
              "<IPython.core.display.HTML object>"
            ],
            "text/html": [
              "\n",
              "            <style>\n",
              "                .geemap-dark {\n",
              "                    --jp-widgets-color: white;\n",
              "                    --jp-widgets-label-color: white;\n",
              "                    --jp-ui-font-color1: white;\n",
              "                    --jp-layout-color2: #454545;\n",
              "                    background-color: #383838;\n",
              "                }\n",
              "\n",
              "                .geemap-dark .jupyter-button {\n",
              "                    --jp-layout-color3: #383838;\n",
              "                }\n",
              "\n",
              "                .geemap-colab {\n",
              "                    background-color: var(--colab-primary-surface-color, white);\n",
              "                }\n",
              "\n",
              "                .geemap-colab .jupyter-button {\n",
              "                    --jp-layout-color3: var(--colab-primary-surface-color, white);\n",
              "                }\n",
              "            </style>\n",
              "            "
            ]
          },
          "metadata": {}
        }
      ]
    },
    {
      "cell_type": "code",
      "metadata": {
        "id": "COwuOFMgbgRt",
        "colab": {
          "base_uri": "https://localhost:8080/",
          "height": 17
        },
        "outputId": "a4ff893f-1563-4318-cd2d-2433900ecee9"
      },
      "source": [
        "# Filter the image collection by the region of interest (defined above) and the time period of interest\n",
        "\n",
        "start = \"2020-10-06\"\n",
        "end = \"2020-11-07\"\n",
        "\n",
        "s1 = hf.Sentinel1(region, start, end)\n"
      ],
      "execution_count": 44,
      "outputs": [
        {
          "output_type": "display_data",
          "data": {
            "text/plain": [
              "<IPython.core.display.HTML object>"
            ],
            "text/html": [
              "\n",
              "            <style>\n",
              "                .geemap-dark {\n",
              "                    --jp-widgets-color: white;\n",
              "                    --jp-widgets-label-color: white;\n",
              "                    --jp-ui-font-color1: white;\n",
              "                    --jp-layout-color2: #454545;\n",
              "                    background-color: #383838;\n",
              "                }\n",
              "\n",
              "                .geemap-dark .jupyter-button {\n",
              "                    --jp-layout-color3: #383838;\n",
              "                }\n",
              "\n",
              "                .geemap-colab {\n",
              "                    background-color: var(--colab-primary-surface-color, white);\n",
              "                }\n",
              "\n",
              "                .geemap-colab .jupyter-button {\n",
              "                    --jp-layout-color3: var(--colab-primary-surface-color, white);\n",
              "                }\n",
              "            </style>\n",
              "            "
            ]
          },
          "metadata": {}
        }
      ]
    },
    {
      "cell_type": "code",
      "metadata": {
        "id": "HWT0WgIh3yx6",
        "colab": {
          "base_uri": "https://localhost:8080/",
          "height": 34
        },
        "outputId": "6389dd41-6bf5-47a7-c293-0d4d7421ec7b"
      },
      "source": [
        "# Use this to check how many images are available for your geographic and time constraints\n",
        "# Warning: If your time period and geographic area are large, this step could take a long time\n",
        "\n",
        "s1.n_images"
      ],
      "execution_count": 45,
      "outputs": [
        {
          "output_type": "display_data",
          "data": {
            "text/plain": [
              "<IPython.core.display.HTML object>"
            ],
            "text/html": [
              "\n",
              "            <style>\n",
              "                .geemap-dark {\n",
              "                    --jp-widgets-color: white;\n",
              "                    --jp-widgets-label-color: white;\n",
              "                    --jp-ui-font-color1: white;\n",
              "                    --jp-layout-color2: #454545;\n",
              "                    background-color: #383838;\n",
              "                }\n",
              "\n",
              "                .geemap-dark .jupyter-button {\n",
              "                    --jp-layout-color3: #383838;\n",
              "                }\n",
              "\n",
              "                .geemap-colab {\n",
              "                    background-color: var(--colab-primary-surface-color, white);\n",
              "                }\n",
              "\n",
              "                .geemap-colab .jupyter-button {\n",
              "                    --jp-layout-color3: var(--colab-primary-surface-color, white);\n",
              "                }\n",
              "            </style>\n",
              "            "
            ]
          },
          "metadata": {}
        },
        {
          "output_type": "execute_result",
          "data": {
            "text/plain": [
              "24"
            ]
          },
          "metadata": {},
          "execution_count": 45
        }
      ]
    },
    {
      "cell_type": "code",
      "metadata": {
        "id": "36XBPt8Dc6GP",
        "colab": {
          "base_uri": "https://localhost:8080/",
          "height": 17
        },
        "outputId": "a46bc882-a274-463d-d941-23de1e07814b"
      },
      "source": [
        "# Bring in the MERIT Hydro dataset, a hydrologically adjusted DEM from Yamazaki, D. et al. 2019\n",
        "# Learn more about MERIT Hydro here: http://hydro.iis.u-tokyo.ac.jp/~yamadai/MERIT_Hydro/\n",
        "\n",
        "merit = ee.Image(\"MERIT/Hydro/v1_0_1\")\n",
        "\n",
        "# Extract out the DEM and HAND bands from MERIT Hydro\n",
        "\n",
        "dem = merit.select(\"elv\").unmask(0)\n",
        "hand = merit.select(\"hnd\").unmask(0)"
      ],
      "execution_count": 46,
      "outputs": [
        {
          "output_type": "display_data",
          "data": {
            "text/plain": [
              "<IPython.core.display.HTML object>"
            ],
            "text/html": [
              "\n",
              "            <style>\n",
              "                .geemap-dark {\n",
              "                    --jp-widgets-color: white;\n",
              "                    --jp-widgets-label-color: white;\n",
              "                    --jp-ui-font-color1: white;\n",
              "                    --jp-layout-color2: #454545;\n",
              "                    background-color: #383838;\n",
              "                }\n",
              "\n",
              "                .geemap-dark .jupyter-button {\n",
              "                    --jp-layout-color3: #383838;\n",
              "                }\n",
              "\n",
              "                .geemap-colab {\n",
              "                    background-color: var(--colab-primary-surface-color, white);\n",
              "                }\n",
              "\n",
              "                .geemap-colab .jupyter-button {\n",
              "                    --jp-layout-color3: var(--colab-primary-surface-color, white);\n",
              "                }\n",
              "            </style>\n",
              "            "
            ]
          },
          "metadata": {}
        }
      ]
    },
    {
      "cell_type": "code",
      "metadata": {
        "id": "7fmhhj7icux4",
        "colab": {
          "base_uri": "https://localhost:8080/",
          "height": 17
        },
        "outputId": "7a3b1e44-a3ed-4cf3-b106-9a295e9b91ad"
      },
      "source": [
        "# Apply a (psuedo-) terrain flattening algorithm to S1 data\n",
        "# elevation (ee.Image): Input DEM to calculate slope corrections from\n",
        "# buffer (int, optional): buffer in meters for layover/shadow mask. If zero then no buffer will be applied. default = 0\n",
        "\n",
        "s1_flat = s1.apply_func(hf.slope_correction, elevation=dem, buffer=100)"
      ],
      "execution_count": 47,
      "outputs": [
        {
          "output_type": "display_data",
          "data": {
            "text/plain": [
              "<IPython.core.display.HTML object>"
            ],
            "text/html": [
              "\n",
              "            <style>\n",
              "                .geemap-dark {\n",
              "                    --jp-widgets-color: white;\n",
              "                    --jp-widgets-label-color: white;\n",
              "                    --jp-ui-font-color1: white;\n",
              "                    --jp-layout-color2: #454545;\n",
              "                    background-color: #383838;\n",
              "                }\n",
              "\n",
              "                .geemap-dark .jupyter-button {\n",
              "                    --jp-layout-color3: #383838;\n",
              "                }\n",
              "\n",
              "                .geemap-colab {\n",
              "                    background-color: var(--colab-primary-surface-color, white);\n",
              "                }\n",
              "\n",
              "                .geemap-colab .jupyter-button {\n",
              "                    --jp-layout-color3: var(--colab-primary-surface-color, white);\n",
              "                }\n",
              "            </style>\n",
              "            "
            ]
          },
          "metadata": {}
        }
      ]
    },
    {
      "cell_type": "code",
      "metadata": {
        "id": "AzzOge2-dqjX",
        "colab": {
          "base_uri": "https://localhost:8080/",
          "height": 17
        },
        "outputId": "70531574-32a3-4e8d-ea74-3b9530a8f55b"
      },
      "source": [
        "# Apply a speckle filter algorithm to S1 data\n",
        "# We are applying Gamma Map speckle filtering algorithm.\n",
        "#   Algorithm adapted from https://groups.google.com/g/google-earth-engine-developers/c/a9W0Nlrhoq0/m/tnGMC45jAgAJ.\n",
        "#\n",
        "# For more information on speckle in SAR imagery, see SERVIR SAR Handbook, Chapter 2, pg 4: https://gis1.servirglobal.net/TrainingMaterials/SAR/Chp2Content.pdf\n",
        "\n",
        "s1_filtered = s1_flat.apply_func(hf.gamma_map)"
      ],
      "execution_count": 48,
      "outputs": [
        {
          "output_type": "display_data",
          "data": {
            "text/plain": [
              "<IPython.core.display.HTML object>"
            ],
            "text/html": [
              "\n",
              "            <style>\n",
              "                .geemap-dark {\n",
              "                    --jp-widgets-color: white;\n",
              "                    --jp-widgets-label-color: white;\n",
              "                    --jp-ui-font-color1: white;\n",
              "                    --jp-layout-color2: #454545;\n",
              "                    background-color: #383838;\n",
              "                }\n",
              "\n",
              "                .geemap-dark .jupyter-button {\n",
              "                    --jp-layout-color3: #383838;\n",
              "                }\n",
              "\n",
              "                .geemap-colab {\n",
              "                    background-color: var(--colab-primary-surface-color, white);\n",
              "                }\n",
              "\n",
              "                .geemap-colab .jupyter-button {\n",
              "                    --jp-layout-color3: var(--colab-primary-surface-color, white);\n",
              "                }\n",
              "            </style>\n",
              "            "
            ]
          },
          "metadata": {}
        }
      ]
    },
    {
      "cell_type": "code",
      "metadata": {
        "id": "MzinoBbGduEn",
        "colab": {
          "base_uri": "https://localhost:8080/",
          "height": 17
        },
        "outputId": "929ef87e-7cfb-470e-9d9c-7937147083e3"
      },
      "source": [
        "# aggregate SAR observations to 30x30 m pixels\n",
        "\n",
        "s1_aggregated = s1_filtered.apply_func(lambda x: x.focal_mean(40, \"circle\", \"meters\").reproject(ee.Projection(\"EPSG:4326\").atScale(30)))"
      ],
      "execution_count": 49,
      "outputs": [
        {
          "output_type": "display_data",
          "data": {
            "text/plain": [
              "<IPython.core.display.HTML object>"
            ],
            "text/html": [
              "\n",
              "            <style>\n",
              "                .geemap-dark {\n",
              "                    --jp-widgets-color: white;\n",
              "                    --jp-widgets-label-color: white;\n",
              "                    --jp-ui-font-color1: white;\n",
              "                    --jp-layout-color2: #454545;\n",
              "                    background-color: #383838;\n",
              "                }\n",
              "\n",
              "                .geemap-dark .jupyter-button {\n",
              "                    --jp-layout-color3: #383838;\n",
              "                }\n",
              "\n",
              "                .geemap-colab {\n",
              "                    background-color: var(--colab-primary-surface-color, white);\n",
              "                }\n",
              "\n",
              "                .geemap-colab .jupyter-button {\n",
              "                    --jp-layout-color3: var(--colab-primary-surface-color, white);\n",
              "                }\n",
              "            </style>\n",
              "            "
            ]
          },
          "metadata": {}
        }
      ]
    },
    {
      "cell_type": "code",
      "metadata": {
        "id": "O3PQqe2zby36",
        "colab": {
          "base_uri": "https://localhost:8080/",
          "height": 17
        },
        "outputId": "7fb78383-7b8d-4947-a8a5-b13475cfe248"
      },
      "source": [
        "# Define visualization parameters\n",
        "\n",
        "sar_vis = {\n",
        "    \"bands\":\"VV\",\n",
        "    \"min\":-25,\n",
        "    \"max\":0\n",
        "}"
      ],
      "execution_count": 50,
      "outputs": [
        {
          "output_type": "display_data",
          "data": {
            "text/plain": [
              "<IPython.core.display.HTML object>"
            ],
            "text/html": [
              "\n",
              "            <style>\n",
              "                .geemap-dark {\n",
              "                    --jp-widgets-color: white;\n",
              "                    --jp-widgets-label-color: white;\n",
              "                    --jp-ui-font-color1: white;\n",
              "                    --jp-layout-color2: #454545;\n",
              "                    background-color: #383838;\n",
              "                }\n",
              "\n",
              "                .geemap-dark .jupyter-button {\n",
              "                    --jp-layout-color3: #383838;\n",
              "                }\n",
              "\n",
              "                .geemap-colab {\n",
              "                    background-color: var(--colab-primary-surface-color, white);\n",
              "                }\n",
              "\n",
              "                .geemap-colab .jupyter-button {\n",
              "                    --jp-layout-color3: var(--colab-primary-surface-color, white);\n",
              "                }\n",
              "            </style>\n",
              "            "
            ]
          },
          "metadata": {}
        }
      ]
    },
    {
      "cell_type": "code",
      "metadata": {
        "id": "rIbiswjMbr12",
        "colab": {
          "base_uri": "https://localhost:8080/",
          "height": 621,
          "referenced_widgets": [
            "cd7da0a64a47418fac3979912a4ebf3e",
            "691408b9e5894cb78a48194d81148d88",
            "f3d32e54a6fb42e0b7ca2cab3cdad8aa",
            "b74b466b7e544ed3a40d41d6f3673c25",
            "27075c4ab6624297a9cd2b1be85302e6",
            "77ea4d58a38341eab3ef0aadad8c97a5",
            "f0fcaa7b0c284c3bb84fdb0d916c774f",
            "c1cfe9640af84d6f9b1b222765ed5419",
            "bd22c809c6594700bafed44baa101134",
            "dbf2507c6bb84c9baeca59f4cc5b1ce0",
            "a0ab81ff58df43e9bcda02dfd226ce36",
            "c2df14a1267a46438252e28436a04f63",
            "1ae48ee6680d4676a7136007e1c16347",
            "ec67b480b6eb483c92887cdcd5d6fcc9",
            "bbcb2cf4cbba409bad05a5653044d947",
            "6f8b8e6629604e8fb6c8b48090cdd7b7",
            "b3f6c4b0c2fe4937bd05f2347691a6b2",
            "36e220dc0d55402abab8bde9591c435a",
            "6655b161552444ed8c028d82c9d8e5f4",
            "f22abc4dd91e41a28f807f392d06c220",
            "1efd595077fe47218e67fd82c0ce8139",
            "557e8d4ceb8848fcb525b0b43b8486b6",
            "09e8eb250a804e379448a35693f75572",
            "aeae5076db9941b0bc86dc35c5dc8f39",
            "0e17df26373346bca1041e1d692c0c23",
            "ba0b266d7ad74575811c2eb4612b910e",
            "f8b035afd32e446aa872824ecf5435a2"
          ]
        },
        "outputId": "d49fb5e4-13b1-40a7-d387-cce477d7c7ca"
      },
      "source": [
        "# Set the coordinates for the center of the map and the zoom level\n",
        "# View the region of interest on the map\n",
        "# View the mosaicked S1 imagery on the map\n",
        "\n",
        "Map = geemap.Map(center=(11.036793516608421, 78.64159548801078), zoom=10)\n",
        "\n",
        "Map.addLayer(region, {}, \"Region of Interest\")\n",
        "Map.addLayer(s1_aggregated.collection.mosaic(), sar_vis, \"Sentinel 1 Mosaic\")\n",
        "\n",
        "Map.addLayerControl()\n",
        "Map"
      ],
      "execution_count": 52,
      "outputs": [
        {
          "output_type": "display_data",
          "data": {
            "text/plain": [
              "<IPython.core.display.HTML object>"
            ],
            "text/html": [
              "\n",
              "            <style>\n",
              "                .geemap-dark {\n",
              "                    --jp-widgets-color: white;\n",
              "                    --jp-widgets-label-color: white;\n",
              "                    --jp-ui-font-color1: white;\n",
              "                    --jp-layout-color2: #454545;\n",
              "                    background-color: #383838;\n",
              "                }\n",
              "\n",
              "                .geemap-dark .jupyter-button {\n",
              "                    --jp-layout-color3: #383838;\n",
              "                }\n",
              "\n",
              "                .geemap-colab {\n",
              "                    background-color: var(--colab-primary-surface-color, white);\n",
              "                }\n",
              "\n",
              "                .geemap-colab .jupyter-button {\n",
              "                    --jp-layout-color3: var(--colab-primary-surface-color, white);\n",
              "                }\n",
              "            </style>\n",
              "            "
            ]
          },
          "metadata": {}
        },
        {
          "output_type": "display_data",
          "data": {
            "text/plain": [
              "Map(center=[11.036793516608421, 78.64159548801078], controls=(WidgetControl(options=['position', 'transparent_…"
            ],
            "application/vnd.jupyter.widget-view+json": {
              "version_major": 2,
              "version_minor": 0,
              "model_id": "cd7da0a64a47418fac3979912a4ebf3e"
            }
          },
          "metadata": {
            "application/vnd.jupyter.widget-view+json": {
              "colab": {
                "custom_widget_manager": {
                  "url": "https://ssl.gstatic.com/colaboratory-static/widgets/colab-cdn-widget-manager/2b70e893a8ba7c0f/manager.min.js"
                }
              }
            }
          }
        }
      ]
    },
    {
      "cell_type": "markdown",
      "source": [
        "## 4) Surface Water Detection\n",
        "\n",
        "#### Check your understanding:\n",
        "*   At this point we have just performed some standard corrections for SAR imagery to prepare the data for water detection.\n",
        "\n",
        "#### What's next?\n",
        "*   In the next step we will apply a thresholding algorithm called [Edge Otsu](https://www.mdpi.com/2072-4292/12/15/2469) that outputs a binary image. The two classes will be water and non-water.\n",
        "*   Next we will apply something called a [morphological filter](https://opencv24-python-tutorials.readthedocs.io/en/latest/py_tutorials/py_imgproc/py_morphological_ops/py_morphological_ops.html) to help remove noise in our binary image.\n",
        "* We will also use the hand band from [MERIT Hydro](http://hydro.iis.u-tokyo.ac.jp/~yamadai/MERIT_Hydro/) to include only pixels that are less than 15 metres height above the nearest drainage.\n",
        "\n"
      ],
      "metadata": {
        "id": "KqcOZ5runj1_"
      }
    },
    {
      "cell_type": "code",
      "metadata": {
        "id": "gz-d21nNd2TH",
        "colab": {
          "base_uri": "https://localhost:8080/",
          "height": 17
        },
        "outputId": "8dc32d1c-feee-456c-c139-4111358c5667"
      },
      "source": [
        "# Apply a water thresholding algorithm to the collection\n",
        "# Method from Markert et al., 2020 (https://doi.org/10.3390/rs12152469)\n",
        "# The output is a binary image. The two classes are water and non-water.\n",
        "\n",
        "water = s1_filtered.apply_func(hf.edge_otsu, initial_threshold=-16, band=\"VV\", edge_buffer=300, scale=180)"
      ],
      "execution_count": 53,
      "outputs": [
        {
          "output_type": "display_data",
          "data": {
            "text/plain": [
              "<IPython.core.display.HTML object>"
            ],
            "text/html": [
              "\n",
              "            <style>\n",
              "                .geemap-dark {\n",
              "                    --jp-widgets-color: white;\n",
              "                    --jp-widgets-label-color: white;\n",
              "                    --jp-ui-font-color1: white;\n",
              "                    --jp-layout-color2: #454545;\n",
              "                    background-color: #383838;\n",
              "                }\n",
              "\n",
              "                .geemap-dark .jupyter-button {\n",
              "                    --jp-layout-color3: #383838;\n",
              "                }\n",
              "\n",
              "                .geemap-colab {\n",
              "                    background-color: var(--colab-primary-surface-color, white);\n",
              "                }\n",
              "\n",
              "                .geemap-colab .jupyter-button {\n",
              "                    --jp-layout-color3: var(--colab-primary-surface-color, white);\n",
              "                }\n",
              "            </style>\n",
              "            "
            ]
          },
          "metadata": {}
        }
      ]
    },
    {
      "cell_type": "code",
      "metadata": {
        "id": "t3sfAaEdlsoe",
        "colab": {
          "base_uri": "https://localhost:8080/",
          "height": 17
        },
        "outputId": "269be9cb-cdf2-47b2-a0b9-2b6262603c75"
      },
      "source": [
        "water_mosaic = water.collection.mosaic()"
      ],
      "execution_count": 54,
      "outputs": [
        {
          "output_type": "display_data",
          "data": {
            "text/plain": [
              "<IPython.core.display.HTML object>"
            ],
            "text/html": [
              "\n",
              "            <style>\n",
              "                .geemap-dark {\n",
              "                    --jp-widgets-color: white;\n",
              "                    --jp-widgets-label-color: white;\n",
              "                    --jp-ui-font-color1: white;\n",
              "                    --jp-layout-color2: #454545;\n",
              "                    background-color: #383838;\n",
              "                }\n",
              "\n",
              "                .geemap-dark .jupyter-button {\n",
              "                    --jp-layout-color3: #383838;\n",
              "                }\n",
              "\n",
              "                .geemap-colab {\n",
              "                    background-color: var(--colab-primary-surface-color, white);\n",
              "                }\n",
              "\n",
              "                .geemap-colab .jupyter-button {\n",
              "                    --jp-layout-color3: var(--colab-primary-surface-color, white);\n",
              "                }\n",
              "            </style>\n",
              "            "
            ]
          },
          "metadata": {}
        }
      ]
    },
    {
      "cell_type": "code",
      "source": [
        "# Occurrence band is the frequency at which water was present (unit range 0-100%)\n",
        "\n",
        "# max_extent = ee.Image(\"JRC/GSW1_3/GlobalSurfaceWater\").select(\"occurrence\").mask()"
      ],
      "metadata": {
        "id": "soPz43DDxnjs",
        "colab": {
          "base_uri": "https://localhost:8080/",
          "height": 17
        },
        "outputId": "f1f32d8b-f67d-4d4e-baf8-b7cd968c61ac"
      },
      "execution_count": 55,
      "outputs": [
        {
          "output_type": "display_data",
          "data": {
            "text/plain": [
              "<IPython.core.display.HTML object>"
            ],
            "text/html": [
              "\n",
              "            <style>\n",
              "                .geemap-dark {\n",
              "                    --jp-widgets-color: white;\n",
              "                    --jp-widgets-label-color: white;\n",
              "                    --jp-ui-font-color1: white;\n",
              "                    --jp-layout-color2: #454545;\n",
              "                    background-color: #383838;\n",
              "                }\n",
              "\n",
              "                .geemap-dark .jupyter-button {\n",
              "                    --jp-layout-color3: #383838;\n",
              "                }\n",
              "\n",
              "                .geemap-colab {\n",
              "                    background-color: var(--colab-primary-surface-color, white);\n",
              "                }\n",
              "\n",
              "                .geemap-colab .jupyter-button {\n",
              "                    --jp-layout-color3: var(--colab-primary-surface-color, white);\n",
              "                }\n",
              "            </style>\n",
              "            "
            ]
          },
          "metadata": {}
        }
      ]
    },
    {
      "cell_type": "code",
      "metadata": {
        "id": "7GBSncmse8t1",
        "colab": {
          "base_uri": "https://localhost:8080/",
          "height": 17
        },
        "outputId": "4ad6cbf8-a2b2-401f-ceb7-bb04eb7b8c49"
      },
      "source": [
        "# Apply two morphological filters (opening and closing) to help reduce noise in the image.\n",
        "# Learn more about morphological transformations here:\n",
        "# https://opencv24-python-tutorials.readthedocs.io/en/latest/py_tutorials/py_imgproc/py_morphological_ops/py_morphological_ops.html\n",
        "\n",
        "water_final = (\n",
        "    hf.close_binary(\n",
        "        hf.open_binary(water_mosaic, window=1.5) # apply opening filter\n",
        "        .updateMask(water_mosaic.mask()), # force mask to be consistent with sar imagery\n",
        "        window=1.5\n",
        "    ) # apply closing filter\n",
        "    .updateMask(water_mosaic.mask()) # force mask to be consistent with sar imagery\n",
        "    .And(hand.lt(15)) # only pixels that were originally classified as water AND < 15m from HAND (Height Above Nearest Drainage)\n",
        "    # .And(max_extent))\n",
        ")"
      ],
      "execution_count": 56,
      "outputs": [
        {
          "output_type": "display_data",
          "data": {
            "text/plain": [
              "<IPython.core.display.HTML object>"
            ],
            "text/html": [
              "\n",
              "            <style>\n",
              "                .geemap-dark {\n",
              "                    --jp-widgets-color: white;\n",
              "                    --jp-widgets-label-color: white;\n",
              "                    --jp-ui-font-color1: white;\n",
              "                    --jp-layout-color2: #454545;\n",
              "                    background-color: #383838;\n",
              "                }\n",
              "\n",
              "                .geemap-dark .jupyter-button {\n",
              "                    --jp-layout-color3: #383838;\n",
              "                }\n",
              "\n",
              "                .geemap-colab {\n",
              "                    background-color: var(--colab-primary-surface-color, white);\n",
              "                }\n",
              "\n",
              "                .geemap-colab .jupyter-button {\n",
              "                    --jp-layout-color3: var(--colab-primary-surface-color, white);\n",
              "                }\n",
              "            </style>\n",
              "            "
            ]
          },
          "metadata": {}
        }
      ]
    },
    {
      "cell_type": "code",
      "metadata": {
        "id": "iYgSEvAId907",
        "colab": {
          "base_uri": "https://localhost:8080/",
          "height": 621,
          "referenced_widgets": [
            "8f36a8f50de44762b61fce6534882f10",
            "cc15be6cfec949c6bf119fd8c8ee3180",
            "8d069244c2154473bf82e89f780401ae",
            "d090a827d7914db5a1d368243a75232f",
            "a1fef3faf6a34e1f803ef0d3920430fc",
            "77f69a0410aa47e9be36efd03376f9e5",
            "73bac5279029432cbaeca52a52cd0ae7",
            "4f20d9e6974647b4913efc549f20b6ec",
            "684842a792e542929b48f161cc736709",
            "4ba7b92da6c549a9817cbb860d36bbf1",
            "6a3f314f145d4d16aacde3c2228ecea9",
            "f5ba05c8c7e247149ac82574167013f5",
            "c5f2e6b4b0c847bc8412c7ba93f9b336",
            "e927cb5b8bc244a0ae917d9b9a93c2d2",
            "88b58da60c67413c867bfd305bda52a1",
            "eefebc22ec464b70a5bb4a2c4a4d5523",
            "c341f775e2614f8ab363998c4eb2fe89",
            "bc59ab257a6e4311bf7ae32e86538531",
            "8aa190138efc48ff8f2c29a137bce8ea",
            "c4597b223f754fe4b9fea6d3c8faa1c4",
            "46a8756506634e81b8c0ea83791cc5e8",
            "4607efe52713453ea8733d5da26b538d",
            "8becade812cf41718309c2f7deaa4756",
            "9d68c5aadf5f4186b0b476235c66beaf",
            "c8329bf31a9240059268e2d79fdec4c9",
            "f89a6d24cf7f45dab21d399dc19f33da",
            "7a9e62a0e8d4400bafba6461ea2ef3da"
          ]
        },
        "outputId": "1f50dfb9-f9ad-4d56-8347-1209b3e3875e"
      },
      "source": [
        "# View the results of SAR water mapping\n",
        "\n",
        "Map = geemap.Map(center=(11.036793516608421, 78.64159548801078), zoom=12)\n",
        "\n",
        "Map.addLayer(s1_aggregated.collection.median(),{\"bands\": \"VV\", \"min\":-25, \"max\": 0}, \"Sentinel 1 Median\")\n",
        "Map.addLayer(water_final.selfMask(),{\"min\":0, \"max\":1, \"palette\":cm.palettes.Blues}, \"Sentinel 1 (Water) From HF\")\n",
        "\n",
        "Map.addLayerControl()\n",
        "Map"
      ],
      "execution_count": 57,
      "outputs": [
        {
          "output_type": "display_data",
          "data": {
            "text/plain": [
              "<IPython.core.display.HTML object>"
            ],
            "text/html": [
              "\n",
              "            <style>\n",
              "                .geemap-dark {\n",
              "                    --jp-widgets-color: white;\n",
              "                    --jp-widgets-label-color: white;\n",
              "                    --jp-ui-font-color1: white;\n",
              "                    --jp-layout-color2: #454545;\n",
              "                    background-color: #383838;\n",
              "                }\n",
              "\n",
              "                .geemap-dark .jupyter-button {\n",
              "                    --jp-layout-color3: #383838;\n",
              "                }\n",
              "\n",
              "                .geemap-colab {\n",
              "                    background-color: var(--colab-primary-surface-color, white);\n",
              "                }\n",
              "\n",
              "                .geemap-colab .jupyter-button {\n",
              "                    --jp-layout-color3: var(--colab-primary-surface-color, white);\n",
              "                }\n",
              "            </style>\n",
              "            "
            ]
          },
          "metadata": {}
        },
        {
          "output_type": "display_data",
          "data": {
            "text/plain": [
              "Map(center=[11.036793516608421, 78.64159548801078], controls=(WidgetControl(options=['position', 'transparent_…"
            ],
            "application/vnd.jupyter.widget-view+json": {
              "version_major": 2,
              "version_minor": 0,
              "model_id": "8f36a8f50de44762b61fce6534882f10"
            }
          },
          "metadata": {
            "application/vnd.jupyter.widget-view+json": {
              "colab": {
                "custom_widget_manager": {
                  "url": "https://ssl.gstatic.com/colaboratory-static/widgets/colab-cdn-widget-manager/2b70e893a8ba7c0f/manager.min.js"
                }
              }
            }
          }
        }
      ]
    },
    {
      "cell_type": "code",
      "source": [
        "export_img = s1_aggregated.collection.mosaic().addBands(water_final)\n",
        "# The date stamp info gets lost in the mosaicing step, so let's put that info here\n",
        "# date time information are used in the later stage to remove permanent water from the detected water\n",
        "export_img = export_img.set(\"system:time_start\", ee.Date(start).millis(), \"system:time_end\", ee.Date(end).millis())\n",
        "\n",
        "# Checking to make sure its there\n",
        "export_img.get(\"system:time_start\").getInfo(), export_img.get(\"system:time_end\").getInfo()\n"
      ],
      "metadata": {
        "id": "bKmnSyslP94f",
        "colab": {
          "base_uri": "https://localhost:8080/",
          "height": 34
        },
        "outputId": "1a101272-36a2-4eba-9091-f855cd1cbcf0"
      },
      "execution_count": 58,
      "outputs": [
        {
          "output_type": "display_data",
          "data": {
            "text/plain": [
              "<IPython.core.display.HTML object>"
            ],
            "text/html": [
              "\n",
              "            <style>\n",
              "                .geemap-dark {\n",
              "                    --jp-widgets-color: white;\n",
              "                    --jp-widgets-label-color: white;\n",
              "                    --jp-ui-font-color1: white;\n",
              "                    --jp-layout-color2: #454545;\n",
              "                    background-color: #383838;\n",
              "                }\n",
              "\n",
              "                .geemap-dark .jupyter-button {\n",
              "                    --jp-layout-color3: #383838;\n",
              "                }\n",
              "\n",
              "                .geemap-colab {\n",
              "                    background-color: var(--colab-primary-surface-color, white);\n",
              "                }\n",
              "\n",
              "                .geemap-colab .jupyter-button {\n",
              "                    --jp-layout-color3: var(--colab-primary-surface-color, white);\n",
              "                }\n",
              "            </style>\n",
              "            "
            ]
          },
          "metadata": {}
        },
        {
          "output_type": "execute_result",
          "data": {
            "text/plain": [
              "(1601942400000, 1604707200000)"
            ]
          },
          "metadata": {},
          "execution_count": 58
        }
      ]
    },
    {
      "cell_type": "markdown",
      "source": [
        "![stop-sign-symbol.png](data:image/png;base64,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)"
      ],
      "metadata": {
        "id": "eUWBNMHu6zP4"
      }
    },
    {
      "cell_type": "markdown",
      "source": [
        "**Oppurtunity to update the code with your image Asset ID**\n",
        "\n",
        "Check out an example of any [exported HydraFloods Image in GEE ](https://code.earthengine.google.com/40d9b46f799104c9917c0a8d40b4ec53)"
      ],
      "metadata": {
        "id": "Jlk9XT_U8oyV"
      }
    },
    {
      "cell_type": "code",
      "source": [
        "# Export the water image to GEE assets\n",
        "\n",
        "# small area to test\n",
        "# geometry = ee.Geometry.Polygon(\n",
        "#         [[[-90.7440049485785, 14.758421954991187],\n",
        "#           [-90.7440049485785, 14.366316677311357],\n",
        "#           [-90.31691144271913, 14.366316677311357],\n",
        "#           [-90.31691144271913, 14.758421954991187]]], None, False);\n",
        "\n",
        "hf.export_image(\n",
        "    export_img,\n",
        "    region.geometry(),\n",
        "    # geometry,\n",
        "    description=\"WB_Example\",\n",
        "    scale=30,\n",
        "    crs=\"EPSG:4326\",\n",
        "    pyramiding={\"water\":\"mode\"},\n",
        "    export_type=\"toAsset\",\n",
        "    asset_id=\"users/tjm0042/WB_Example\", ## Example ## \"users/your_GEE_user_name/water_img_hf_nme\"  ## Example ##\n",
        ")"
      ],
      "metadata": {
        "id": "FBVzHYcfSe9c",
        "colab": {
          "base_uri": "https://localhost:8080/",
          "height": 17
        },
        "outputId": "f5a9f1aa-5408-47e6-d0d9-5a96548622e9"
      },
      "execution_count": 60,
      "outputs": [
        {
          "output_type": "display_data",
          "data": {
            "text/plain": [
              "<IPython.core.display.HTML object>"
            ],
            "text/html": [
              "\n",
              "            <style>\n",
              "                .geemap-dark {\n",
              "                    --jp-widgets-color: white;\n",
              "                    --jp-widgets-label-color: white;\n",
              "                    --jp-ui-font-color1: white;\n",
              "                    --jp-layout-color2: #454545;\n",
              "                    background-color: #383838;\n",
              "                }\n",
              "\n",
              "                .geemap-dark .jupyter-button {\n",
              "                    --jp-layout-color3: #383838;\n",
              "                }\n",
              "\n",
              "                .geemap-colab {\n",
              "                    background-color: var(--colab-primary-surface-color, white);\n",
              "                }\n",
              "\n",
              "                .geemap-colab .jupyter-button {\n",
              "                    --jp-layout-color3: var(--colab-primary-surface-color, white);\n",
              "                }\n",
              "            </style>\n",
              "            "
            ]
          },
          "metadata": {}
        }
      ]
    },
    {
      "cell_type": "markdown",
      "source": [
        "The export takes **~13 minutes** so feel free to use our existing image asset id:  \"users/tjm0042/water_img_hf_g4g\" for the rest of the notebook, especially useful in the **Bonus Material**.\n",
        "\n",
        "You can check the progress of your export using the[ GEE task manager](https://code.earthengine.google.com/tasks)"
      ],
      "metadata": {
        "id": "4sjmF3t49Rff"
      }
    },
    {
      "cell_type": "markdown",
      "metadata": {
        "id": "4CtPfSNYyibA"
      },
      "source": [
        "## 5) Pre- and post-event differencing\n",
        "\n"
      ]
    },
    {
      "cell_type": "code",
      "source": [
        "# Start by pulling in a pre-computed water image we previously exported to our GEE assets\n",
        "\n",
        "event_img =  ee.Image('users/tjm0042/WB_Example') ## Example ## ee.Image(\"users/your_GEE_user_name/water_img_hf_nme\") ## Example ##\n",
        "\n",
        "sar_img = event_img.select(\"V.*\")\n",
        "water_img = event_img.select(\"water\")"
      ],
      "metadata": {
        "id": "y58gzwK4xu_X"
      },
      "execution_count": null,
      "outputs": []
    },
    {
      "cell_type": "code",
      "metadata": {
        "id": "6Bwm0d-hyctI"
      },
      "source": [
        "# get imagery for a period before event\n",
        "preevent = hf.Sentinel1Asc(region, \"2020-09-01\", \"2020-10-01\")"
      ],
      "execution_count": null,
      "outputs": []
    },
    {
      "cell_type": "code",
      "metadata": {
        "id": "tYRt1aT6VjfG"
      },
      "source": [
        "# apply a (psuedo-) terrain flattening algorithm to S1 data\n",
        "preevent_flat = preevent.apply_func(hf.slope_correction, elevation=dem, buffer=100)"
      ],
      "execution_count": null,
      "outputs": []
    },
    {
      "cell_type": "code",
      "metadata": {
        "id": "_tqqzXuUXJ2z"
      },
      "source": [
        "# apply a speckle filter algorithm to S1 data\n",
        "preevent_filtered = preevent_flat.apply_func(hf.gamma_map)"
      ],
      "execution_count": null,
      "outputs": []
    },
    {
      "cell_type": "code",
      "metadata": {
        "id": "nKm1w2JxXNNf"
      },
      "source": [
        "pre_img = preevent_filtered.collection.mean()"
      ],
      "execution_count": null,
      "outputs": []
    },
    {
      "cell_type": "code",
      "metadata": {
        "id": "m8Lo_AxXXQlQ"
      },
      "source": [
        "pre_water = hf.edge_otsu(pre_img, band=\"VV\", initial_threshold=-16, edge_buffer=300, region=region, scale=300)"
      ],
      "execution_count": null,
      "outputs": []
    },
    {
      "cell_type": "code",
      "metadata": {
        "id": "5SDN5DhrXbxn"
      },
      "source": [
        "floods_diff = hf.discrete_difference(water_img, pre_water)"
      ],
      "execution_count": null,
      "outputs": []
    },
    {
      "cell_type": "code",
      "metadata": {
        "id": "JcUJtu7tXhRa",
        "colab": {
          "base_uri": "https://localhost:8080/",
          "height": 723
        },
        "outputId": "d541cc19-960a-4b8c-f8f1-eddd0f949822"
      },
      "source": [
        "# view the results of flood mapping\n",
        "Map = geemap.Map(center=(11.036793516608421, 78.64159548801078), zoom=12)\n",
        "\n",
        "Map.addLayer(pre_img,{\"bands\": \"VV\", \"min\":-25, \"max\": 0}, \"pre-event Sentinel 1\")\n",
        "Map.addLayer(pre_water.selfMask(),{\"min\":0, \"max\":1, \"palette\":cm.palettes.Blues}, \"pre-event water\")\n",
        "Map.addLayer(sar_img,{\"bands\": \"VV\", \"min\":-25, \"max\": 0}, \"post-event Sentinel 1\")\n",
        "Map.addLayer(water_img.selfMask(),{\"min\":0, \"max\":1, \"palette\":\"lightblue\"}, \"post-event water\")\n",
        "Map.addLayer(floods_diff.selfMask(),{\"min\":0, \"max\":1, \"palette\":\"red\"}, \"Differenced Pre/Post Flood Image\")\n",
        "\n",
        "Map.addLayerControl()\n",
        "Map"
      ],
      "execution_count": null,
      "outputs": [
        {
          "output_type": "execute_result",
          "data": {
            "text/plain": [
              "<geemap.eefolium.Map at 0x7fba596764d0>"
            ],
            "text/html": [
              "<div style=\"width:100%;\"><div style=\"position:relative;width:100%;height:0;padding-bottom:60%;\"><span style=\"color:#565656\">Make this Notebook Trusted to load map: File -> Trust Notebook</span><iframe srcdoc=\"&lt;!DOCTYPE html&gt;\n",
              "&lt;head&gt;    \n",
              "    &lt;meta http-equiv=&quot;content-type&quot; content=&quot;text/html; charset=UTF-8&quot; /&gt;\n",
              "    \n",
              "        &lt;script&gt;\n",
              "            L_NO_TOUCH = false;\n",
              "            L_DISABLE_3D = false;\n",
              "        &lt;/script&gt;\n",
              "    \n",
              "    &lt;style&gt;html, body {width: 100%;height: 100%;margin: 0;padding: 0;}&lt;/style&gt;\n",
              "    &lt;style&gt;#map {position:absolute;top:0;bottom:0;right:0;left:0;}&lt;/style&gt;\n",
              "    &lt;script src=&quot;https://cdn.jsdelivr.net/npm/leaflet@1.6.0/dist/leaflet.js&quot;&gt;&lt;/script&gt;\n",
              "    &lt;script src=&quot;https://code.jquery.com/jquery-1.12.4.min.js&quot;&gt;&lt;/script&gt;\n",
              "    &lt;script src=&quot;https://maxcdn.bootstrapcdn.com/bootstrap/3.2.0/js/bootstrap.min.js&quot;&gt;&lt;/script&gt;\n",
              "    &lt;script src=&quot;https://cdnjs.cloudflare.com/ajax/libs/Leaflet.awesome-markers/2.0.2/leaflet.awesome-markers.js&quot;&gt;&lt;/script&gt;\n",
              "    &lt;link rel=&quot;stylesheet&quot; href=&quot;https://cdn.jsdelivr.net/npm/leaflet@1.6.0/dist/leaflet.css&quot;/&gt;\n",
              "    &lt;link rel=&quot;stylesheet&quot; href=&quot;https://maxcdn.bootstrapcdn.com/bootstrap/3.2.0/css/bootstrap.min.css&quot;/&gt;\n",
              "    &lt;link rel=&quot;stylesheet&quot; href=&quot;https://maxcdn.bootstrapcdn.com/bootstrap/3.2.0/css/bootstrap-theme.min.css&quot;/&gt;\n",
              "    &lt;link rel=&quot;stylesheet&quot; href=&quot;https://maxcdn.bootstrapcdn.com/font-awesome/4.6.3/css/font-awesome.min.css&quot;/&gt;\n",
              "    &lt;link rel=&quot;stylesheet&quot; href=&quot;https://cdnjs.cloudflare.com/ajax/libs/Leaflet.awesome-markers/2.0.2/leaflet.awesome-markers.css&quot;/&gt;\n",
              "    &lt;link rel=&quot;stylesheet&quot; href=&quot;https://cdn.jsdelivr.net/gh/python-visualization/folium/folium/templates/leaflet.awesome.rotate.min.css&quot;/&gt;\n",
              "    \n",
              "            &lt;meta name=&quot;viewport&quot; content=&quot;width=device-width,\n",
              "                initial-scale=1.0, maximum-scale=1.0, user-scalable=no&quot; /&gt;\n",
              "            &lt;style&gt;\n",
              "                #map_ba8ff9e47074eed2012cb836f94b2ecf {\n",
              "                    position: relative;\n",
              "                    width: 100.0%;\n",
              "                    height: 100.0%;\n",
              "                    left: 0.0%;\n",
              "                    top: 0.0%;\n",
              "                }\n",
              "            &lt;/style&gt;\n",
              "        \n",
              "    &lt;script src=&quot;https://cdnjs.cloudflare.com/ajax/libs/leaflet.fullscreen/1.4.2/Control.FullScreen.min.js&quot;&gt;&lt;/script&gt;\n",
              "    &lt;link rel=&quot;stylesheet&quot; href=&quot;https://cdnjs.cloudflare.com/ajax/libs/leaflet.fullscreen/1.4.2/Control.FullScreen.min.css&quot;/&gt;\n",
              "&lt;/head&gt;\n",
              "&lt;body&gt;    \n",
              "    \n",
              "            &lt;div class=&quot;folium-map&quot; id=&quot;map_ba8ff9e47074eed2012cb836f94b2ecf&quot; &gt;&lt;/div&gt;\n",
              "        \n",
              "&lt;/body&gt;\n",
              "&lt;script&gt;    \n",
              "    \n",
              "            var map_ba8ff9e47074eed2012cb836f94b2ecf = L.map(\n",
              "                &quot;map_ba8ff9e47074eed2012cb836f94b2ecf&quot;,\n",
              "                {\n",
              "                    center: [16.0029, -90.5109],\n",
              "                    crs: L.CRS.EPSG3857,\n",
              "                    zoom: 12,\n",
              "                    zoomControl: true,\n",
              "                    preferCanvas: false,\n",
              "                    eeInitialize: true,\n",
              "                    addGoogleMap: true,\n",
              "                    pluginLatlngpopup: true,\n",
              "                    pluginFullscreen: true,\n",
              "                    pluginDraw: false,\n",
              "                    DrawExport: true,\n",
              "                    pluginMinimap: false,\n",
              "                    pluginLayercontrol: false,\n",
              "                }\n",
              "            );\n",
              "\n",
              "            \n",
              "\n",
              "        \n",
              "    \n",
              "            var tile_layer_fb91abb3b692c70f829a403cbae38970 = L.tileLayer(\n",
              "                &quot;https://{s}.tile.openstreetmap.org/{z}/{x}/{y}.png&quot;,\n",
              "                {&quot;attribution&quot;: &quot;Data by \\u0026copy; \\u003ca href=\\&quot;http://openstreetmap.org\\&quot;\\u003eOpenStreetMap\\u003c/a\\u003e, under \\u003ca href=\\&quot;http://www.openstreetmap.org/copyright\\&quot;\\u003eODbL\\u003c/a\\u003e.&quot;, &quot;detectRetina&quot;: false, &quot;maxNativeZoom&quot;: 18, &quot;maxZoom&quot;: 18, &quot;minZoom&quot;: 0, &quot;noWrap&quot;: false, &quot;opacity&quot;: 1, &quot;subdomains&quot;: &quot;abc&quot;, &quot;tms&quot;: false}\n",
              "            ).addTo(map_ba8ff9e47074eed2012cb836f94b2ecf);\n",
              "        \n",
              "    \n",
              "            var tile_layer_e43c834e1c65fcd561dc698a4f99b5bf = L.tileLayer(\n",
              "                &quot;https://mt1.google.com/vt/lyrs=m\\u0026x={x}\\u0026y={y}\\u0026z={z}&quot;,\n",
              "                {&quot;attribution&quot;: &quot;Google&quot;, &quot;detectRetina&quot;: false, &quot;maxNativeZoom&quot;: 18, &quot;maxZoom&quot;: 18, &quot;minZoom&quot;: 0, &quot;noWrap&quot;: false, &quot;opacity&quot;: 1, &quot;subdomains&quot;: &quot;abc&quot;, &quot;tms&quot;: false}\n",
              "            ).addTo(map_ba8ff9e47074eed2012cb836f94b2ecf);\n",
              "        \n",
              "    \n",
              "                var lat_lng_popup_96d7570b4a519071028da2c0bf2a0fc3 = L.popup();\n",
              "                function latLngPop(e) {\n",
              "                    lat_lng_popup_96d7570b4a519071028da2c0bf2a0fc3\n",
              "                        .setLatLng(e.latlng)\n",
              "                        .setContent(&quot;Latitude: &quot; + e.latlng.lat.toFixed(4) +\n",
              "                                    &quot;&lt;br&gt;Longitude: &quot; + e.latlng.lng.toFixed(4))\n",
              "                        .openOn(map_ba8ff9e47074eed2012cb836f94b2ecf);\n",
              "                    }\n",
              "                map_ba8ff9e47074eed2012cb836f94b2ecf.on(&#x27;click&#x27;, latLngPop);\n",
              "            \n",
              "    \n",
              "            L.control.fullscreen(\n",
              "                {&quot;forceSeparateButton&quot;: false, &quot;position&quot;: &quot;topleft&quot;, &quot;title&quot;: &quot;Full Screen&quot;, &quot;titleCancel&quot;: &quot;Exit Full Screen&quot;}\n",
              "            ).addTo(map_ba8ff9e47074eed2012cb836f94b2ecf);\n",
              "        \n",
              "    \n",
              "            map_ba8ff9e47074eed2012cb836f94b2ecf.fitBounds(\n",
              "                [[16.0029, -90.5109], [16.0029, -90.5109]],\n",
              "                {&quot;maxZoom&quot;: 12}\n",
              "            );\n",
              "        \n",
              "    \n",
              "            var tile_layer_86a60caaf8f8e00437206a6a76ef5cab = L.tileLayer(\n",
              "                &quot;https://earthengine.googleapis.com/v1alpha/projects/earthengine-legacy/maps/31dd769bf7ef84ee5a41f7d15a3a4ce5-a0240662334e00328a97a66776296fc7/tiles/{z}/{x}/{y}&quot;,\n",
              "                {&quot;attribution&quot;: &quot;Google Earth Engine&quot;, &quot;detectRetina&quot;: false, &quot;maxNativeZoom&quot;: 18, &quot;maxZoom&quot;: 18, &quot;minZoom&quot;: 0, &quot;noWrap&quot;: false, &quot;opacity&quot;: 1.0, &quot;subdomains&quot;: &quot;abc&quot;, &quot;tms&quot;: false}\n",
              "            ).addTo(map_ba8ff9e47074eed2012cb836f94b2ecf);\n",
              "        \n",
              "    \n",
              "            var tile_layer_d23278427f50ae735d5bd09f9c1aede6 = L.tileLayer(\n",
              "                &quot;https://earthengine.googleapis.com/v1alpha/projects/earthengine-legacy/maps/1f759db267454793cb2203f7ccd64f21-4293026159bddabb40a73a84780dadd2/tiles/{z}/{x}/{y}&quot;,\n",
              "                {&quot;attribution&quot;: &quot;Google Earth Engine&quot;, &quot;detectRetina&quot;: false, &quot;maxNativeZoom&quot;: 18, &quot;maxZoom&quot;: 18, &quot;minZoom&quot;: 0, &quot;noWrap&quot;: false, &quot;opacity&quot;: 1.0, &quot;subdomains&quot;: &quot;abc&quot;, &quot;tms&quot;: false}\n",
              "            ).addTo(map_ba8ff9e47074eed2012cb836f94b2ecf);\n",
              "        \n",
              "    \n",
              "            var tile_layer_3da45a049dab7ccdf33310ce49ab09e9 = L.tileLayer(\n",
              "                &quot;https://earthengine.googleapis.com/v1alpha/projects/earthengine-legacy/maps/e0894dd5202f8ac61a7e2b82d875ff6f-35b01c84c19f9170e327dc383c17e4d0/tiles/{z}/{x}/{y}&quot;,\n",
              "                {&quot;attribution&quot;: &quot;Google Earth Engine&quot;, &quot;detectRetina&quot;: false, &quot;maxNativeZoom&quot;: 18, &quot;maxZoom&quot;: 18, &quot;minZoom&quot;: 0, &quot;noWrap&quot;: false, &quot;opacity&quot;: 1.0, &quot;subdomains&quot;: &quot;abc&quot;, &quot;tms&quot;: false}\n",
              "            ).addTo(map_ba8ff9e47074eed2012cb836f94b2ecf);\n",
              "        \n",
              "    \n",
              "            var tile_layer_35279c83c91e2468b961e9af98d283e4 = L.tileLayer(\n",
              "                &quot;https://earthengine.googleapis.com/v1alpha/projects/earthengine-legacy/maps/dd3b419d6c7352eba470d51b1a22f92f-ec87844b21be5493af72d32a8c7fe13e/tiles/{z}/{x}/{y}&quot;,\n",
              "                {&quot;attribution&quot;: &quot;Google Earth Engine&quot;, &quot;detectRetina&quot;: false, &quot;maxNativeZoom&quot;: 18, &quot;maxZoom&quot;: 18, &quot;minZoom&quot;: 0, &quot;noWrap&quot;: false, &quot;opacity&quot;: 1.0, &quot;subdomains&quot;: &quot;abc&quot;, &quot;tms&quot;: false}\n",
              "            ).addTo(map_ba8ff9e47074eed2012cb836f94b2ecf);\n",
              "        \n",
              "    \n",
              "            var tile_layer_f2f86f31f432bc2b433d29a709c5c2d0 = L.tileLayer(\n",
              "                &quot;https://earthengine.googleapis.com/v1alpha/projects/earthengine-legacy/maps/26e6065f3f3769c6d5158d2c5df78a53-15f914b949b2fc04e67454b1008c854a/tiles/{z}/{x}/{y}&quot;,\n",
              "                {&quot;attribution&quot;: &quot;Google Earth Engine&quot;, &quot;detectRetina&quot;: false, &quot;maxNativeZoom&quot;: 18, &quot;maxZoom&quot;: 18, &quot;minZoom&quot;: 0, &quot;noWrap&quot;: false, &quot;opacity&quot;: 1.0, &quot;subdomains&quot;: &quot;abc&quot;, &quot;tms&quot;: false}\n",
              "            ).addTo(map_ba8ff9e47074eed2012cb836f94b2ecf);\n",
              "        \n",
              "    \n",
              "            var layer_control_0b8ec88f73a79379cab4fea00b9080dc = {\n",
              "                base_layers : {\n",
              "                    &quot;openstreetmap&quot; : tile_layer_fb91abb3b692c70f829a403cbae38970,\n",
              "                },\n",
              "                overlays :  {\n",
              "                    &quot;Google Maps&quot; : tile_layer_e43c834e1c65fcd561dc698a4f99b5bf,\n",
              "                    &quot;pre-event Sentinel 1&quot; : tile_layer_86a60caaf8f8e00437206a6a76ef5cab,\n",
              "                    &quot;pre-event water&quot; : tile_layer_d23278427f50ae735d5bd09f9c1aede6,\n",
              "                    &quot;post-event Sentinel 1&quot; : tile_layer_3da45a049dab7ccdf33310ce49ab09e9,\n",
              "                    &quot;post-event water&quot; : tile_layer_35279c83c91e2468b961e9af98d283e4,\n",
              "                    &quot;Differenced Pre/Post Flood Image&quot; : tile_layer_f2f86f31f432bc2b433d29a709c5c2d0,\n",
              "                },\n",
              "            };\n",
              "            L.control.layers(\n",
              "                layer_control_0b8ec88f73a79379cab4fea00b9080dc.base_layers,\n",
              "                layer_control_0b8ec88f73a79379cab4fea00b9080dc.overlays,\n",
              "                {&quot;autoZIndex&quot;: true, &quot;collapsed&quot;: true, &quot;position&quot;: &quot;topright&quot;}\n",
              "            ).addTo(map_ba8ff9e47074eed2012cb836f94b2ecf);\n",
              "        \n",
              "&lt;/script&gt;\" style=\"position:absolute;width:100%;height:100%;left:0;top:0;border:none !important;\" allowfullscreen webkitallowfullscreen mozallowfullscreen></iframe></div></div>"
            ]
          },
          "metadata": {},
          "execution_count": 28
        }
      ]
    },
    {
      "cell_type": "markdown",
      "source": [
        "# ---------------Bonus Content---------------"
      ],
      "metadata": {
        "id": "hgNQiQKbARIB"
      }
    },
    {
      "cell_type": "markdown",
      "metadata": {
        "id": "I2rtFpkAyI53"
      },
      "source": [
        "## 6) Extraction of floods from permanent surface water\n",
        "\n",
        "Now we will take our binary image (two classes: water and non-water) and extract floods from the water class.\n",
        "\n",
        "* To extract floods we need some indicator of what is normal.\n",
        "* The \"normal\" usually influence what the resulting flood map looks like.\n",
        "* In these following cases we will use the [JRC surface water data](https://doi.org/10.1038/nature20584) to compare the event against and extract the flooded areas.\n",
        "\n",
        "We will extract floods three different ways\n",
        "1. Using yearly permanent water using\n",
        "  [JRC Yearly Water Classification History, v1.2](https://developers.google.com/earth-engine/datasets/catalog/JRC_GSW1_2_YearlyHistory)\n",
        "\n",
        "2. Using longterm occurrence using [JRC Global Surface Water Mapping Layers, v1.3](https://developers.google.com/earth-engine/datasets/catalog/JRC_GSW1_3_GlobalSurfaceWater)\n",
        "\n",
        "3. Using seasonal information using [JRC Monthly Water Recurrence, v1.3 ](https://developers.google.com/earth-engine/datasets/catalog/JRC_GSW1_3_MonthlyRecurrence)"
      ]
    },
    {
      "cell_type": "markdown",
      "metadata": {
        "id": "L1w_7D1TyPWi"
      },
      "source": [
        "### Using yearly permanent water\n",
        "\n",
        "For this case we will use previous 5-years of classified permanent water to compare against."
      ]
    },
    {
      "cell_type": "markdown",
      "source": [
        "![Bonus_Images1.png](data:image/png;base64,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)"
      ],
      "metadata": {
        "id": "Y7l9ba1QNz49"
      }
    },
    {
      "cell_type": "code",
      "source": [
        "# Note: We already ran this portion above, but we will run it again in case you're doing the bonus section only\n",
        "\n",
        "\n",
        "event_img =  ee.Image('users/tjm0042/WB_Example') ## Example ## ee.Image(\"users/your_GEE_user_name/water_img_hf_nme\") ## Example ##\n",
        "\n",
        "sar_img = event_img.select(\"V.*\")\n",
        "water_img = event_img.select(\"water\")"
      ],
      "metadata": {
        "id": "4K1W3DujQhM5"
      },
      "execution_count": null,
      "outputs": []
    },
    {
      "cell_type": "code",
      "source": [
        "# Check that the image has a system start date\n",
        "\n",
        "water_img.date().format(\"YYYY-MM-dd\").getInfo()"
      ],
      "metadata": {
        "id": "GLJZnlL7QjQj",
        "colab": {
          "base_uri": "https://localhost:8080/",
          "height": 35
        },
        "outputId": "e59be2a4-9472-45df-cc4d-7cc16766eee9"
      },
      "execution_count": null,
      "outputs": [
        {
          "output_type": "execute_result",
          "data": {
            "text/plain": [
              "'2020-11-06'"
            ],
            "application/vnd.google.colaboratory.intrinsic+json": {
              "type": "string"
            }
          },
          "metadata": {},
          "execution_count": 40
        }
      ]
    },
    {
      "cell_type": "code",
      "source": [
        "# Use `extract_flood` function to use JRC data as reference\n",
        "# yearly means it uses past 5 years of JRC yearly data and extract permanent water class\n",
        "\n",
        "floods_yearly = hf.extract_flood(water_img, reference=\"yearly\")"
      ],
      "metadata": {
        "id": "zmzoJC80Qk43"
      },
      "execution_count": null,
      "outputs": []
    },
    {
      "cell_type": "code",
      "source": [
        "# View the results of flood mapping\n",
        "\n",
        "Map = geemap.Map(center=(11.036793516608421, 78.64159548801078), zoom=12)\n",
        "\n",
        "Map.addLayer(sar_img, sar_vis, \"Sentinel 1 Mosaic\")\n",
        "Map.addLayer(water_img.selfMask(), {\"min\":0, \"max\":1, \"palette\":cm.palettes.Blues}, \"Sentinel 1 (water)\")\n",
        "Map.addLayer(floods_yearly.selfMask(), {\"min\":0, \"max\":1, \"palette\":\"#FF7F7F\"}, \"Sentinel 1 (flood) Yearly\")\n",
        "\n",
        "Map.addLayerControl()\n",
        "Map"
      ],
      "metadata": {
        "id": "N_SeaC69IwEw",
        "colab": {
          "base_uri": "https://localhost:8080/",
          "height": 982
        },
        "outputId": "2504dfce-e426-4a51-9715-7411a86e3130"
      },
      "execution_count": null,
      "outputs": [
        {
          "output_type": "execute_result",
          "data": {
            "text/plain": [
              "<geemap.eefolium.Map at 0x7fe3414d7410>"
            ],
            "text/html": [
              "<div style=\"width:100%;\"><div style=\"position:relative;width:100%;height:0;padding-bottom:60%;\"><span style=\"color:#565656\">Make this Notebook Trusted to load map: File -> Trust Notebook</span><iframe srcdoc=\"&lt;!DOCTYPE html&gt;\n",
              "&lt;head&gt;    \n",
              "    &lt;meta http-equiv=&quot;content-type&quot; content=&quot;text/html; charset=UTF-8&quot; /&gt;\n",
              "    \n",
              "        &lt;script&gt;\n",
              "            L_NO_TOUCH = false;\n",
              "            L_DISABLE_3D = false;\n",
              "        &lt;/script&gt;\n",
              "    \n",
              "    &lt;style&gt;html, body {width: 100%;height: 100%;margin: 0;padding: 0;}&lt;/style&gt;\n",
              "    &lt;style&gt;#map {position:absolute;top:0;bottom:0;right:0;left:0;}&lt;/style&gt;\n",
              "    &lt;script src=&quot;https://cdn.jsdelivr.net/npm/leaflet@1.6.0/dist/leaflet.js&quot;&gt;&lt;/script&gt;\n",
              "    &lt;script src=&quot;https://code.jquery.com/jquery-1.12.4.min.js&quot;&gt;&lt;/script&gt;\n",
              "    &lt;script src=&quot;https://maxcdn.bootstrapcdn.com/bootstrap/3.2.0/js/bootstrap.min.js&quot;&gt;&lt;/script&gt;\n",
              "    &lt;script src=&quot;https://cdnjs.cloudflare.com/ajax/libs/Leaflet.awesome-markers/2.0.2/leaflet.awesome-markers.js&quot;&gt;&lt;/script&gt;\n",
              "    &lt;link rel=&quot;stylesheet&quot; href=&quot;https://cdn.jsdelivr.net/npm/leaflet@1.6.0/dist/leaflet.css&quot;/&gt;\n",
              "    &lt;link rel=&quot;stylesheet&quot; href=&quot;https://maxcdn.bootstrapcdn.com/bootstrap/3.2.0/css/bootstrap.min.css&quot;/&gt;\n",
              "    &lt;link rel=&quot;stylesheet&quot; href=&quot;https://maxcdn.bootstrapcdn.com/bootstrap/3.2.0/css/bootstrap-theme.min.css&quot;/&gt;\n",
              "    &lt;link rel=&quot;stylesheet&quot; href=&quot;https://maxcdn.bootstrapcdn.com/font-awesome/4.6.3/css/font-awesome.min.css&quot;/&gt;\n",
              "    &lt;link rel=&quot;stylesheet&quot; href=&quot;https://cdnjs.cloudflare.com/ajax/libs/Leaflet.awesome-markers/2.0.2/leaflet.awesome-markers.css&quot;/&gt;\n",
              "    &lt;link rel=&quot;stylesheet&quot; href=&quot;https://cdn.jsdelivr.net/gh/python-visualization/folium/folium/templates/leaflet.awesome.rotate.min.css&quot;/&gt;\n",
              "    \n",
              "            &lt;meta name=&quot;viewport&quot; content=&quot;width=device-width,\n",
              "                initial-scale=1.0, maximum-scale=1.0, user-scalable=no&quot; /&gt;\n",
              "            &lt;style&gt;\n",
              "                #map_c9b3e207faef058482eb8fdfd0a4bdd2 {\n",
              "                    position: relative;\n",
              "                    width: 100.0%;\n",
              "                    height: 100.0%;\n",
              "                    left: 0.0%;\n",
              "                    top: 0.0%;\n",
              "                }\n",
              "            &lt;/style&gt;\n",
              "        \n",
              "    &lt;script src=&quot;https://cdnjs.cloudflare.com/ajax/libs/leaflet.fullscreen/1.4.2/Control.FullScreen.min.js&quot;&gt;&lt;/script&gt;\n",
              "    &lt;link rel=&quot;stylesheet&quot; href=&quot;https://cdnjs.cloudflare.com/ajax/libs/leaflet.fullscreen/1.4.2/Control.FullScreen.min.css&quot;/&gt;\n",
              "&lt;/head&gt;\n",
              "&lt;body&gt;    \n",
              "    \n",
              "            &lt;div class=&quot;folium-map&quot; id=&quot;map_c9b3e207faef058482eb8fdfd0a4bdd2&quot; &gt;&lt;/div&gt;\n",
              "        \n",
              "&lt;/body&gt;\n",
              "&lt;script&gt;    \n",
              "    \n",
              "            var map_c9b3e207faef058482eb8fdfd0a4bdd2 = L.map(\n",
              "                &quot;map_c9b3e207faef058482eb8fdfd0a4bdd2&quot;,\n",
              "                {\n",
              "                    center: [16.0029, -90.5109],\n",
              "                    crs: L.CRS.EPSG3857,\n",
              "                    zoom: 12,\n",
              "                    zoomControl: true,\n",
              "                    preferCanvas: false,\n",
              "                    eeInitialize: true,\n",
              "                    addGoogleMap: true,\n",
              "                    pluginLatlngpopup: true,\n",
              "                    pluginFullscreen: true,\n",
              "                    pluginDraw: false,\n",
              "                    DrawExport: true,\n",
              "                    pluginMinimap: false,\n",
              "                    pluginLayercontrol: false,\n",
              "                }\n",
              "            );\n",
              "\n",
              "            \n",
              "\n",
              "        \n",
              "    \n",
              "            var tile_layer_2fc207d6ecc953ecd7488b4c1c900f04 = L.tileLayer(\n",
              "                &quot;https://{s}.tile.openstreetmap.org/{z}/{x}/{y}.png&quot;,\n",
              "                {&quot;attribution&quot;: &quot;Data by \\u0026copy; \\u003ca href=\\&quot;http://openstreetmap.org\\&quot;\\u003eOpenStreetMap\\u003c/a\\u003e, under \\u003ca href=\\&quot;http://www.openstreetmap.org/copyright\\&quot;\\u003eODbL\\u003c/a\\u003e.&quot;, &quot;detectRetina&quot;: false, &quot;maxNativeZoom&quot;: 18, &quot;maxZoom&quot;: 18, &quot;minZoom&quot;: 0, &quot;noWrap&quot;: false, &quot;opacity&quot;: 1, &quot;subdomains&quot;: &quot;abc&quot;, &quot;tms&quot;: false}\n",
              "            ).addTo(map_c9b3e207faef058482eb8fdfd0a4bdd2);\n",
              "        \n",
              "    \n",
              "            var tile_layer_b8efcb072240c9ede31f8cbb23481f58 = L.tileLayer(\n",
              "                &quot;https://mt1.google.com/vt/lyrs=m\\u0026x={x}\\u0026y={y}\\u0026z={z}&quot;,\n",
              "                {&quot;attribution&quot;: &quot;Google&quot;, &quot;detectRetina&quot;: false, &quot;maxNativeZoom&quot;: 18, &quot;maxZoom&quot;: 18, &quot;minZoom&quot;: 0, &quot;noWrap&quot;: false, &quot;opacity&quot;: 1, &quot;subdomains&quot;: &quot;abc&quot;, &quot;tms&quot;: false}\n",
              "            ).addTo(map_c9b3e207faef058482eb8fdfd0a4bdd2);\n",
              "        \n",
              "    \n",
              "                var lat_lng_popup_eae838f73f9b42f57a8a39e2e2e605a4 = L.popup();\n",
              "                function latLngPop(e) {\n",
              "                    lat_lng_popup_eae838f73f9b42f57a8a39e2e2e605a4\n",
              "                        .setLatLng(e.latlng)\n",
              "                        .setContent(&quot;Latitude: &quot; + e.latlng.lat.toFixed(4) +\n",
              "                                    &quot;&lt;br&gt;Longitude: &quot; + e.latlng.lng.toFixed(4))\n",
              "                        .openOn(map_c9b3e207faef058482eb8fdfd0a4bdd2);\n",
              "                    }\n",
              "                map_c9b3e207faef058482eb8fdfd0a4bdd2.on(&#x27;click&#x27;, latLngPop);\n",
              "            \n",
              "    \n",
              "            L.control.fullscreen(\n",
              "                {&quot;forceSeparateButton&quot;: false, &quot;position&quot;: &quot;topleft&quot;, &quot;title&quot;: &quot;Full Screen&quot;, &quot;titleCancel&quot;: &quot;Exit Full Screen&quot;}\n",
              "            ).addTo(map_c9b3e207faef058482eb8fdfd0a4bdd2);\n",
              "        \n",
              "    \n",
              "            map_c9b3e207faef058482eb8fdfd0a4bdd2.fitBounds(\n",
              "                [[16.0029, -90.5109], [16.0029, -90.5109]],\n",
              "                {&quot;maxZoom&quot;: 12}\n",
              "            );\n",
              "        \n",
              "    \n",
              "            var tile_layer_d9051a37e56486730650c210c2b61ea6 = L.tileLayer(\n",
              "                &quot;https://earthengine.googleapis.com/v1alpha/projects/earthengine-legacy/maps/e0894dd5202f8ac61a7e2b82d875ff6f-406a0c8e7cb3d59956b14960b5f5024b/tiles/{z}/{x}/{y}&quot;,\n",
              "                {&quot;attribution&quot;: &quot;Google Earth Engine&quot;, &quot;detectRetina&quot;: false, &quot;maxNativeZoom&quot;: 18, &quot;maxZoom&quot;: 18, &quot;minZoom&quot;: 0, &quot;noWrap&quot;: false, &quot;opacity&quot;: 1.0, &quot;subdomains&quot;: &quot;abc&quot;, &quot;tms&quot;: false}\n",
              "            ).addTo(map_c9b3e207faef058482eb8fdfd0a4bdd2);\n",
              "        \n",
              "    \n",
              "            var tile_layer_42b2ab85f535b959ebe9c1e790f86ec9 = L.tileLayer(\n",
              "                &quot;https://earthengine.googleapis.com/v1alpha/projects/earthengine-legacy/maps/a654ecd378dedc577043b2e7c7dd4cae-293ae01b3ee201cf455589ddb0039feb/tiles/{z}/{x}/{y}&quot;,\n",
              "                {&quot;attribution&quot;: &quot;Google Earth Engine&quot;, &quot;detectRetina&quot;: false, &quot;maxNativeZoom&quot;: 18, &quot;maxZoom&quot;: 18, &quot;minZoom&quot;: 0, &quot;noWrap&quot;: false, &quot;opacity&quot;: 1.0, &quot;subdomains&quot;: &quot;abc&quot;, &quot;tms&quot;: false}\n",
              "            ).addTo(map_c9b3e207faef058482eb8fdfd0a4bdd2);\n",
              "        \n",
              "    \n",
              "            var tile_layer_299e96dec923f618cd24c74d47ac79e8 = L.tileLayer(\n",
              "                &quot;https://earthengine.googleapis.com/v1alpha/projects/earthengine-legacy/maps/08a7b51bab874365b70e2e0f68876364-cbc104ea1f25a3c22cda46ec095ce60d/tiles/{z}/{x}/{y}&quot;,\n",
              "                {&quot;attribution&quot;: &quot;Google Earth Engine&quot;, &quot;detectRetina&quot;: false, &quot;maxNativeZoom&quot;: 18, &quot;maxZoom&quot;: 18, &quot;minZoom&quot;: 0, &quot;noWrap&quot;: false, &quot;opacity&quot;: 1.0, &quot;subdomains&quot;: &quot;abc&quot;, &quot;tms&quot;: false}\n",
              "            ).addTo(map_c9b3e207faef058482eb8fdfd0a4bdd2);\n",
              "        \n",
              "    \n",
              "            var layer_control_fe23b194cfb754eb4159ca3957077dd9 = {\n",
              "                base_layers : {\n",
              "                    &quot;openstreetmap&quot; : tile_layer_2fc207d6ecc953ecd7488b4c1c900f04,\n",
              "                },\n",
              "                overlays :  {\n",
              "                    &quot;Google Maps&quot; : tile_layer_b8efcb072240c9ede31f8cbb23481f58,\n",
              "                    &quot;Sentinel 1 Mosaic&quot; : tile_layer_d9051a37e56486730650c210c2b61ea6,\n",
              "                    &quot;Sentinel 1 (water) from HF&quot; : tile_layer_42b2ab85f535b959ebe9c1e790f86ec9,\n",
              "                    &quot;Sentinel 1 (flood) Yearly from JRC&quot; : tile_layer_299e96dec923f618cd24c74d47ac79e8,\n",
              "                },\n",
              "            };\n",
              "            L.control.layers(\n",
              "                layer_control_fe23b194cfb754eb4159ca3957077dd9.base_layers,\n",
              "                layer_control_fe23b194cfb754eb4159ca3957077dd9.overlays,\n",
              "                {&quot;autoZIndex&quot;: true, &quot;collapsed&quot;: true, &quot;position&quot;: &quot;topright&quot;}\n",
              "            ).addTo(map_c9b3e207faef058482eb8fdfd0a4bdd2);\n",
              "        \n",
              "&lt;/script&gt;\" style=\"position:absolute;width:100%;height:100%;left:0;top:0;border:none !important;\" allowfullscreen webkitallowfullscreen mozallowfullscreen></iframe></div></div>"
            ]
          },
          "metadata": {},
          "execution_count": 43
        }
      ]
    },
    {
      "cell_type": "markdown",
      "metadata": {
        "id": "DX8EqXQnyTXA"
      },
      "source": [
        "### Using long-term occurrence\n",
        "\n",
        "Here we use the full record of JRC observed water and define permanent using a % occurrence threshold. The occurence band provide information on the frequency with which water was present."
      ]
    },
    {
      "cell_type": "markdown",
      "source": [
        "![Bonus_Images2.png](data:image/png;base64,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)"
      ],
      "metadata": {
        "id": "d8QHFZomPbn6"
      }
    },
    {
      "cell_type": "code",
      "metadata": {
        "id": "AfmLWUn8yZQf"
      },
      "source": [
        "# use `extract_flood` function to use JRC data as reference\n",
        "floods_occurrence = hf.extract_flood(water_final, reference=\"occurrence\", permanent_threshold=50)"
      ],
      "execution_count": null,
      "outputs": []
    },
    {
      "cell_type": "code",
      "metadata": {
        "id": "pwjL4n1e_rEn",
        "colab": {
          "base_uri": "https://localhost:8080/",
          "height": 982
        },
        "outputId": "dc468e11-d269-470f-ee8e-689338b5384e"
      },
      "source": [
        "# view the results of flood mapping\n",
        "Map = geemap.Map(center=(11.036793516608421, 78.64159548801078), zoom=12)\n",
        "\n",
        "Map.addLayer(s1_aggregated.collection.median(),{\"bands\": \"VV\", \"min\":-25, \"max\": 0}, \"Sentinel 1 Mosaic\")\n",
        "Map.addLayer(water_final.selfMask(),{\"min\":0, \"max\":1, \"palette\":cm.palettes.Blues}, \"Sentinel 1 (water)\")\n",
        "Map.addLayer(floods_occurrence.selfMask(),{\"min\":0, \"max\":1, \"palette\":\"red\"}, \"Sentinel 1 (flood) Long-term Occurrence\")\n",
        "\n",
        "Map.addLayerControl()\n",
        "Map"
      ],
      "execution_count": null,
      "outputs": [
        {
          "output_type": "execute_result",
          "data": {
            "text/plain": [
              "<geemap.eefolium.Map at 0x7fe3414c6850>"
            ],
            "text/html": [
              "<div style=\"width:100%;\"><div style=\"position:relative;width:100%;height:0;padding-bottom:60%;\"><span style=\"color:#565656\">Make this Notebook Trusted to load map: File -> Trust Notebook</span><iframe srcdoc=\"&lt;!DOCTYPE html&gt;\n",
              "&lt;head&gt;    \n",
              "    &lt;meta http-equiv=&quot;content-type&quot; content=&quot;text/html; charset=UTF-8&quot; /&gt;\n",
              "    \n",
              "        &lt;script&gt;\n",
              "            L_NO_TOUCH = false;\n",
              "            L_DISABLE_3D = false;\n",
              "        &lt;/script&gt;\n",
              "    \n",
              "    &lt;style&gt;html, body {width: 100%;height: 100%;margin: 0;padding: 0;}&lt;/style&gt;\n",
              "    &lt;style&gt;#map {position:absolute;top:0;bottom:0;right:0;left:0;}&lt;/style&gt;\n",
              "    &lt;script src=&quot;https://cdn.jsdelivr.net/npm/leaflet@1.6.0/dist/leaflet.js&quot;&gt;&lt;/script&gt;\n",
              "    &lt;script src=&quot;https://code.jquery.com/jquery-1.12.4.min.js&quot;&gt;&lt;/script&gt;\n",
              "    &lt;script src=&quot;https://maxcdn.bootstrapcdn.com/bootstrap/3.2.0/js/bootstrap.min.js&quot;&gt;&lt;/script&gt;\n",
              "    &lt;script src=&quot;https://cdnjs.cloudflare.com/ajax/libs/Leaflet.awesome-markers/2.0.2/leaflet.awesome-markers.js&quot;&gt;&lt;/script&gt;\n",
              "    &lt;link rel=&quot;stylesheet&quot; href=&quot;https://cdn.jsdelivr.net/npm/leaflet@1.6.0/dist/leaflet.css&quot;/&gt;\n",
              "    &lt;link rel=&quot;stylesheet&quot; href=&quot;https://maxcdn.bootstrapcdn.com/bootstrap/3.2.0/css/bootstrap.min.css&quot;/&gt;\n",
              "    &lt;link rel=&quot;stylesheet&quot; href=&quot;https://maxcdn.bootstrapcdn.com/bootstrap/3.2.0/css/bootstrap-theme.min.css&quot;/&gt;\n",
              "    &lt;link rel=&quot;stylesheet&quot; href=&quot;https://maxcdn.bootstrapcdn.com/font-awesome/4.6.3/css/font-awesome.min.css&quot;/&gt;\n",
              "    &lt;link rel=&quot;stylesheet&quot; href=&quot;https://cdnjs.cloudflare.com/ajax/libs/Leaflet.awesome-markers/2.0.2/leaflet.awesome-markers.css&quot;/&gt;\n",
              "    &lt;link rel=&quot;stylesheet&quot; href=&quot;https://cdn.jsdelivr.net/gh/python-visualization/folium/folium/templates/leaflet.awesome.rotate.min.css&quot;/&gt;\n",
              "    \n",
              "            &lt;meta name=&quot;viewport&quot; content=&quot;width=device-width,\n",
              "                initial-scale=1.0, maximum-scale=1.0, user-scalable=no&quot; /&gt;\n",
              "            &lt;style&gt;\n",
              "                #map_2b389bbf52a99724f110065f13a2e15d {\n",
              "                    position: relative;\n",
              "                    width: 100.0%;\n",
              "                    height: 100.0%;\n",
              "                    left: 0.0%;\n",
              "                    top: 0.0%;\n",
              "                }\n",
              "            &lt;/style&gt;\n",
              "        \n",
              "    &lt;script src=&quot;https://cdnjs.cloudflare.com/ajax/libs/leaflet.fullscreen/1.4.2/Control.FullScreen.min.js&quot;&gt;&lt;/script&gt;\n",
              "    &lt;link rel=&quot;stylesheet&quot; href=&quot;https://cdnjs.cloudflare.com/ajax/libs/leaflet.fullscreen/1.4.2/Control.FullScreen.min.css&quot;/&gt;\n",
              "&lt;/head&gt;\n",
              "&lt;body&gt;    \n",
              "    \n",
              "            &lt;div class=&quot;folium-map&quot; id=&quot;map_2b389bbf52a99724f110065f13a2e15d&quot; &gt;&lt;/div&gt;\n",
              "        \n",
              "&lt;/body&gt;\n",
              "&lt;script&gt;    \n",
              "    \n",
              "            var map_2b389bbf52a99724f110065f13a2e15d = L.map(\n",
              "                &quot;map_2b389bbf52a99724f110065f13a2e15d&quot;,\n",
              "                {\n",
              "                    center: [16.0029, -90.5109],\n",
              "                    crs: L.CRS.EPSG3857,\n",
              "                    zoom: 12,\n",
              "                    zoomControl: true,\n",
              "                    preferCanvas: false,\n",
              "                    eeInitialize: true,\n",
              "                    addGoogleMap: true,\n",
              "                    pluginLatlngpopup: true,\n",
              "                    pluginFullscreen: true,\n",
              "                    pluginDraw: false,\n",
              "                    DrawExport: true,\n",
              "                    pluginMinimap: false,\n",
              "                    pluginLayercontrol: false,\n",
              "                }\n",
              "            );\n",
              "\n",
              "            \n",
              "\n",
              "        \n",
              "    \n",
              "            var tile_layer_1861143d22cc6d1272e685eaa39e2c7f = L.tileLayer(\n",
              "                &quot;https://{s}.tile.openstreetmap.org/{z}/{x}/{y}.png&quot;,\n",
              "                {&quot;attribution&quot;: &quot;Data by \\u0026copy; \\u003ca href=\\&quot;http://openstreetmap.org\\&quot;\\u003eOpenStreetMap\\u003c/a\\u003e, under \\u003ca href=\\&quot;http://www.openstreetmap.org/copyright\\&quot;\\u003eODbL\\u003c/a\\u003e.&quot;, &quot;detectRetina&quot;: false, &quot;maxNativeZoom&quot;: 18, &quot;maxZoom&quot;: 18, &quot;minZoom&quot;: 0, &quot;noWrap&quot;: false, &quot;opacity&quot;: 1, &quot;subdomains&quot;: &quot;abc&quot;, &quot;tms&quot;: false}\n",
              "            ).addTo(map_2b389bbf52a99724f110065f13a2e15d);\n",
              "        \n",
              "    \n",
              "            var tile_layer_b8efcb072240c9ede31f8cbb23481f58 = L.tileLayer(\n",
              "                &quot;https://mt1.google.com/vt/lyrs=m\\u0026x={x}\\u0026y={y}\\u0026z={z}&quot;,\n",
              "                {&quot;attribution&quot;: &quot;Google&quot;, &quot;detectRetina&quot;: false, &quot;maxNativeZoom&quot;: 18, &quot;maxZoom&quot;: 18, &quot;minZoom&quot;: 0, &quot;noWrap&quot;: false, &quot;opacity&quot;: 1, &quot;subdomains&quot;: &quot;abc&quot;, &quot;tms&quot;: false}\n",
              "            ).addTo(map_2b389bbf52a99724f110065f13a2e15d);\n",
              "        \n",
              "    \n",
              "                var lat_lng_popup_7cc758092ed08e70c39ae396589cfeec = L.popup();\n",
              "                function latLngPop(e) {\n",
              "                    lat_lng_popup_7cc758092ed08e70c39ae396589cfeec\n",
              "                        .setLatLng(e.latlng)\n",
              "                        .setContent(&quot;Latitude: &quot; + e.latlng.lat.toFixed(4) +\n",
              "                                    &quot;&lt;br&gt;Longitude: &quot; + e.latlng.lng.toFixed(4))\n",
              "                        .openOn(map_2b389bbf52a99724f110065f13a2e15d);\n",
              "                    }\n",
              "                map_2b389bbf52a99724f110065f13a2e15d.on(&#x27;click&#x27;, latLngPop);\n",
              "            \n",
              "    \n",
              "            L.control.fullscreen(\n",
              "                {&quot;forceSeparateButton&quot;: false, &quot;position&quot;: &quot;topleft&quot;, &quot;title&quot;: &quot;Full Screen&quot;, &quot;titleCancel&quot;: &quot;Exit Full Screen&quot;}\n",
              "            ).addTo(map_2b389bbf52a99724f110065f13a2e15d);\n",
              "        \n",
              "    \n",
              "            map_2b389bbf52a99724f110065f13a2e15d.fitBounds(\n",
              "                [[16.0029, -90.5109], [16.0029, -90.5109]],\n",
              "                {&quot;maxZoom&quot;: 12}\n",
              "            );\n",
              "        \n",
              "    \n",
              "            var tile_layer_7ca48be7e4e351133d25f1c9c06c7cc9 = L.tileLayer(\n",
              "                &quot;https://earthengine.googleapis.com/v1alpha/projects/earthengine-legacy/maps/0e24a4f12c339284b8c62c88cb39cf8c-c35d02cc0ed2bfa67666d6fa72e5226f/tiles/{z}/{x}/{y}&quot;,\n",
              "                {&quot;attribution&quot;: &quot;Google Earth Engine&quot;, &quot;detectRetina&quot;: false, &quot;maxNativeZoom&quot;: 18, &quot;maxZoom&quot;: 18, &quot;minZoom&quot;: 0, &quot;noWrap&quot;: false, &quot;opacity&quot;: 1.0, &quot;subdomains&quot;: &quot;abc&quot;, &quot;tms&quot;: false}\n",
              "            ).addTo(map_2b389bbf52a99724f110065f13a2e15d);\n",
              "        \n",
              "    \n",
              "            var tile_layer_91423c24602cc4265f0cb580a4a7d12a = L.tileLayer(\n",
              "                &quot;https://earthengine.googleapis.com/v1alpha/projects/earthengine-legacy/maps/5494e481fdb92902e4db5a6843e48bd7-bc17330194d5a1f0fc60bd69ea815749/tiles/{z}/{x}/{y}&quot;,\n",
              "                {&quot;attribution&quot;: &quot;Google Earth Engine&quot;, &quot;detectRetina&quot;: false, &quot;maxNativeZoom&quot;: 18, &quot;maxZoom&quot;: 18, &quot;minZoom&quot;: 0, &quot;noWrap&quot;: false, &quot;opacity&quot;: 1.0, &quot;subdomains&quot;: &quot;abc&quot;, &quot;tms&quot;: false}\n",
              "            ).addTo(map_2b389bbf52a99724f110065f13a2e15d);\n",
              "        \n",
              "    \n",
              "            var tile_layer_cdbb4a948a9359a68764f4e60b7da101 = L.tileLayer(\n",
              "                &quot;https://earthengine.googleapis.com/v1alpha/projects/earthengine-legacy/maps/49b2b8f193ee4b58745262559e5b41b8-e2affe257e2208c534a34d7cf65b6703/tiles/{z}/{x}/{y}&quot;,\n",
              "                {&quot;attribution&quot;: &quot;Google Earth Engine&quot;, &quot;detectRetina&quot;: false, &quot;maxNativeZoom&quot;: 18, &quot;maxZoom&quot;: 18, &quot;minZoom&quot;: 0, &quot;noWrap&quot;: false, &quot;opacity&quot;: 1.0, &quot;subdomains&quot;: &quot;abc&quot;, &quot;tms&quot;: false}\n",
              "            ).addTo(map_2b389bbf52a99724f110065f13a2e15d);\n",
              "        \n",
              "    \n",
              "            var layer_control_4e43fc23d786ebd80d8be5c447b5738c = {\n",
              "                base_layers : {\n",
              "                    &quot;openstreetmap&quot; : tile_layer_1861143d22cc6d1272e685eaa39e2c7f,\n",
              "                },\n",
              "                overlays :  {\n",
              "                    &quot;Google Maps&quot; : tile_layer_b8efcb072240c9ede31f8cbb23481f58,\n",
              "                    &quot;Sentinel 1 Mosaic&quot; : tile_layer_7ca48be7e4e351133d25f1c9c06c7cc9,\n",
              "                    &quot;Sentinel 1 (water) from HF&quot; : tile_layer_91423c24602cc4265f0cb580a4a7d12a,\n",
              "                    &quot;Sentinel 1 (flood) Long-term Occurrence from JRC&quot; : tile_layer_cdbb4a948a9359a68764f4e60b7da101,\n",
              "                },\n",
              "            };\n",
              "            L.control.layers(\n",
              "                layer_control_4e43fc23d786ebd80d8be5c447b5738c.base_layers,\n",
              "                layer_control_4e43fc23d786ebd80d8be5c447b5738c.overlays,\n",
              "                {&quot;autoZIndex&quot;: true, &quot;collapsed&quot;: true, &quot;position&quot;: &quot;topright&quot;}\n",
              "            ).addTo(map_2b389bbf52a99724f110065f13a2e15d);\n",
              "        \n",
              "&lt;/script&gt;\" style=\"position:absolute;width:100%;height:100%;left:0;top:0;border:none !important;\" allowfullscreen webkitallowfullscreen mozallowfullscreen></iframe></div></div>"
            ]
          },
          "metadata": {},
          "execution_count": 48
        }
      ]
    },
    {
      "cell_type": "markdown",
      "metadata": {
        "id": "w2xrgkwPyam-"
      },
      "source": [
        "### Using seasonal information\n",
        "\n",
        "Here we will use the occurrence for the month that we observe to remove any effects of seasonality that is present in floods."
      ]
    },
    {
      "cell_type": "markdown",
      "source": [
        "![Bonus_Images3.png](data:image/png;base64,iVBORw0KGgoAAAANSUhEUgAAAWYAAAFrCAYAAADiuCPIAABMD0lEQVR4Xu2dCZgVxdW/a4adQRBUxBUUFxTFPcaVkbigaIzGJCooKO7ghgZwBY1G4xJJjJ/xI34xxkTjFz8NMXHXfzBqjFGjedz3LbjgLkJAqH+93V0zdWsuw9yZuTN3+b3P83vu3J6+3fd2V50+ferUaWOEEEIIIYQQQgghhBBCCCGEEEIIIYQQQgghhBBCCCGEEEIIIYQQQghRhtQ4DXHa3Kk+03edxkc602lGIN7H6/C5+kwbO61lhBBCNNDDaZjTGKdznH7tdJfTM05vOn3itMTJdoC+cHrX6Qmn/+f0S6eZJjXmuzqtY4QQokLA2x3udJTTdU4PmdToLjBNjWOpa6nT2yY13P/tdKrTnk6rGiGEKFEGOH3TaZbTw07vm9SYxQYuRzU1NXbIkCF22223tXvuuaedMGGCnTZtmr344ovtddddZ++66y77wAMPJHr55Zfta6+9lqglLF68uGH9F198sWE7f/rTn5JtX3DBBfb0009P9rn77rsn32Hddddt8h1j8Z2jZR873ed0udPhTls6dTdCCNHBbOt0mdM/zAo84FVWWcXuuOOOduzYsfbss8+21157rb3//vvtq6++GtvSkuCrr75KLgL33nuv/cUvfmHPOuus5LvvsMMOtn///k1+n1dksP9j0gvUxSa9YPU3QgjRjvR0+pbTTU6vOX1l8himPn362O22285OnDjRXnHFFfbOO++07733Xmz3yp558+bZO+64I/mNRx99tP3a175m+/bt2+R45NGLJg2DjHda3wghRIFsYVIj8obTMhMZmS5dutitttrKnnDCCUlY4LnnnovtV9XxzDPP2F/96ld28uTJduutt7bdunWLDXPsVb/q9FOn0U69jBBCROAVn+z0qNNCExmUlVZaye6333720ksvtXPnzrULFiyI7ZKIWLhwof3b3/5mZ82aZffff3/br1+/5gz1IpNmpZzktKERQlQtqzhd4vS6ibziHj162Pr6env++efbhx9+OIm7iraxbNky+9hjj9lLLrnEjh49Ogn9hMe8trY2fI83faFJBxKFEBUOxpjb57dM5L2RHXHyyScnsWF5xMVnyZIlyd3H9OnT7bBhw5bnSaOXnc4zaeqhEKJC6G3S2XB4YTkGgFjoeeedZ//5z3/GdkN0MGSCMKA4atSonPh0ZKSfdTrXKNwhRNnyPacnTZRPvMsuu9grr7zSvvHGG7FtECXCp59+aq+//nq7zz77NGek/+p0mEnHB4QQJcwgp984fWkCY8ytMhMqXn/99dgGiBJn/vz59pprrkli/qFhDmLSTF+/0mlE1gaEECXCwSatM9EwiDdo0CB7yimn2H/84x9xXxdlyttvv20vv/xyO2LEiNBzDvV3k06Br0ubhRCioyF2/DOnz03WMfGoGPG/7bbblElR4ZCKd9RRR9m6urp8XvSnJs24WdM3FiFEcaFc5e0mmIG36qqr2u9///v2lVdeifuvqHA+++wz+/Of/zyp9eHbQxDyWOz0K6MwhxBFY2unv5kgXEH9hhtuuMEuWrQo7q+iCnn88cftYYcdZrt3757PSN/ttFdDaxJCtIm9TVpnoeF29Vvf+pZ95JFH4n4pRMK///1ve8YZZyQFpMJ2k/39tEkzdijLKoQoEOr9vm6yjsVsPGKKzz//fNwPhcjLl19+aa+66iq70UYb5TPQ/3I6oKG1CSGaZScTeMjUWJg6dWpS1UyI1sB08FtuucVuscUW+Qw0T27Zp7H5CSFCtjLpbWbSYailQC3gjz76KO5nQrSaW2+9NakM6NsZlQKzvx9x2r2xOQpR3axn0qpuSQfp2bOnnTJlin3//ffjPiVEu/GHP/zBbrPNNvk86AeMiieJKoY85BtqamqSLAtG0o8//nj7zjvvxH1IiKIxZ84cu+mmm8YGmmn8s50GBu1ViIpnigmmTR966KEtfpadEO0Nk5Fmz55t11hjjQYDnekzp9ONnmEoKpx6kz5tOWn4PIrpoYceivuJEJ3CF198kVQb5MEItM8gB5rSo/s1NmMhKgPqIM81mUFec801k0cyMVouRKnBsxqPPfbYhoHBYICQSSobBO1aiLLlVOd5MDU2Gdgj0+Lzzz+P+4IQJccTTzyRzC6l7aLMg+bRY9OcuoaNXIhyAc/ieZM16j333NO++uqrcdsXoqThru4Xv/hFUo+FdhyEN/5p0jIBQpQFeBKXuwacFKhfbbXVknoWQpQzH374oT3mmGMa0uqy8AaFtKhip6d8i5JmG6d5JvOSx48fnzRoISqFRx99tKEedOA9v+I0KugHQpQEtU6X+ZzkDTbYwN53331xmxaiIli8eLE999xzGx57FQwO8iQVec+iJBhistoWeBAnnnhiUjxGiErnySeftFtuuWXsPfPAWNV/Fp3KCa5BLnGvdq211rJ33XVX3HaFqGjwnmfOnNngPRODrkkL9J9iVFpUdDD9TZCX/N3vflfFhkRV889//tNuvvnmDcY56xt3mvQBwUIUna87L5lnqtmVV15ZGRdCZCxcuNCecMIJ3ign4Q3nMs83mjUoisyZfoCPxPs33ngjbptCVD08DHjAgAHxwCBpdV1yepMQbaSP070m8wROPfXUJLYmhMjPW2+9ZUeOHBkPDN7ntFrQr4RoNZu5hvWue7V9+/a1v//97+M2KITIA1XrKIrkvebMQL/ltG1uFxOiMA7xWRekBb300ktx2xNCrIC777674cGwGOkaY/7j/p4Y9TUhWsRlJgtdHHnkkcnAhhCidVBv3Oc8B1kb1xjVehYthJlLlDdMru6zZs2K25gQohUsWLDAjh07tiFrI9PDRnFnsQLWMNksPp5Ofeedd8ZtSwjRRq644grbtWvX0DhTa2OjsCMK4dm6pqbmE/dqhw4dap999tm4PQkh2okHHnjA9u/fvyG0UWPMR+7vnaM+KaqcPWuyYvb19fV2/vz5cTsSQrQzzz33nF1vvfXiQcHvRX1TVCmH+drJEyZMsEuWLInbjxCiSPAYq+23377BOJv0Cd1Tc7uoqDam++T3adOmxW1GCNEBUI3xwAMPjDM2rjaaKViVzDJZQ/jxj38ctxUhRAeydOlSO2XKlMQoBzMFb3bqltNrRcXCVfg3TkmpQhUhEqJ0uPzyy0PDjOY49Qg7sKg8MMq3Otm6ujp7xx13xO1CCNHJzJ49Oyx+hJhX0DvsyKJywChz9U1ylB955JG4PQghSoSbbrqpofh+JuqfrxR2aFH+8OTqPzslNZR5oKQQorS5/fbbba9evULj/HeTPqRCVAAYZZ6kkCS0//3vf4/PvxCiRGEiykorrRQa5yeNpnCXPYzoJkaZwt3/+Mc/4vMuhChxCDtGxvkJp5XDji7Kh1qTDfRRcvDxxx+Pz7cQokyYO3duMmBPf870kNGAYFlyrckG+p544on4PAshyoz77rsvjjmTraFUujLiR07JSeRKK4SoDKj42LNnz9A4c1esGYJlwPedklQbRnWFEJXFH//4R9u9e/fQOP/apKFLUaIc4ZRMs9aMPiEql1tuuSWehPJfuaZAlAp719TULHOv9sorr4zPoxCiwrj66qsToxxM4T431ySIzmZz5yUvcq92xowZ8fkTQlQoZ599dmKUs6p0OGaH5JoG0VkMclfMD9yrHTduXHzehBAVzhFHHNFgnLNi+ztFNkJ0ML2cUX7GvdpddtnFLlq0KD5nQogKh4db7L333qFx/tD9vX5kK0QH4Y6/+ZNT8ow+PQ5KiOrliy++sNttt10Yc37eqK5Gp3CZU1L/4vnnn4/PkxCiyuAxVeuuu26YqXGfUaH9DuUgpyRX+f7774/PjxCiSnnyySdt7969Q+M8O9d0iGIxrLa2lgC//dnPfhafFyFElfO73/0uCWcEaXRHRTZEtDN93MF+wygDQwjRDGEaXZapsVVkS0Q7kjyBZMSIEXbBggXxuRBCiIRly5bZ/fffPxwMfM1oMLAoJDUweALJSy+9FJ8HIYTI4bPPPrObbbZZGG/+o0mzuUQ7sTPTrbktmTNnTnz8hRAiLy+88EJcZP/MyLaIVrKyM8jJzL4zzzwzPu5CCNEsv/3tb8OQxlKnUbkmRrSG25zsDjvskMzwEUKIQjnmmGMajHONMe+7vwdGdkYUwAQn27dvX/vKK6/Ex1oIIVrEwoULk6QB7EkmEglEKxjq85Wvv/76+DgLIURBMEM4ijcfnWtyxIro6m45nnav9tBDD42PrxBCtAoeoIFdyUIaC9zfQyPbI5rhB052yJAh9pNPPomPrRBCtBqcPexLpoeNnhnYIka4q9lSUuMefPDB+JgKIUSb+Oijj+xaa60VGuezIhskIro4o/yCe7UnnXRSfDyFEKJduOOOOxrqadQY85WzOdvExkg0QvK3XW+99ZL6qkIIUSyOPfbY0GvmgRsqEZqHjdzV6yuuYPfcc098DIUQol35/PPP7frrr6+QRjM4e1zzhHu1EydOjI+fEEIUhblz56YV6NKQBum5G8TGqZo5wSkJyCsLQwjRkUyePDn0mu/JNU3Vy6ruivWle7W33nprfMyEEKKofPrpp3bNNdcMjfPYXBNVndzglDzlVgghOoObb745McpZSGO++3tAZKeqiu04ED169LAvvvhifKyEEKLDwDk0jV5z1T4rkAG/59yrPeOMM+JjJIQQHcqrr74aPsh1mdOOuSarOuABiXadddZRzrIQoiS46KKLQq/5UVNlTzzpV1tb+7l7TWI7QghRCixevNhusskmoXE+ONd0VTaXOtnddtstPi5CCNGp3H777Q0Dge71DaeeuearMlnTectL+NGPPfZYfEyEEKLT2X333UOveVpkwyqS3zjZ733ve/GxEEKIkuCpp56yXbp08elzhF1Xiw1ZJTHM/dBl3bp1sy+99FJ8LIQQomQ4+uijQ6/5qsiWVRT3OtlJkybFx0AIIUqKd999t+FRVDXp07WHRfasItjBKfmh7733XnwMhBCi5LjgggtCr/mmXJNWAdTU1DziXuyMGTPi3y6EECUJcywGDhzoDTOTTjbNtWzlzfZOduWVV1b1OCFEWXHZZZeFXvONuaatjHHe8lz3Ys8555z4NwshREmzYMECO2jQoNBr3iTXwpUnWznZPn362Pnz58e/WQghSp5Zs2aFXjMpv2XP/U526tSp8W8VQoiyYOHCheGTtcnQ2DjXzJUXm5GgTcUmZWIIIcqZn/3sZ6HXTB35suU2J3vyySfHv1EIIcqKRYsWhU86wWsemmvuyoM1nLe8lFl+b731VvwbhRCi7IjKgv4ksnllQVJBTjUxhBCVwscffxzOBlzgXvtFdq+k6dmlSxe+tH344Yfj3yaEEGXLqaeeGnrNp+aavtLmGCe7/fbbx79JCCHKmjfeeMMSos3qNb/p1CWyf6VJbW3t2+7F3njjjfFvEkKIsufQQw8NveYDci1gaTLKya699tp2yZIl8e8RQoiy54knnkjjzKnX/GBkA0uSZELJhRdeGP8WIYSoGHbaaafQa9461wyWFquRIte1a1c7b968+HcIIUTFcP3114eG+ReRLSwppjvZ/fffP/4NQghRUTBNe5VVVglT5+oie1gadOnSZZ57sXPmzIl/gxBCVBxTpkwJvebxuRaxNPi6UzJlUYN+Qohq4IUXXkgf2FrCg4C3ONkzzjgj/u5CCFGxjBo1ynvM1GreINcsdi51Xbp0WcJVQ0+/FkJUEzfddFMYzrggso2dyjgnu/POO8ffWQghKhoGAfv27esHARlnq43sY+fgH7RKvVIhhKg2jjjiiNBr3ivXQnYOfWtra5d26dLFvvvuu/H3FUKIiufee+8NDfP1kY3sFI5wSgLgQghRjSxdurTh0VM1xnzuXrtHdrJjqamp+Yd7sddcc038XYUQomo4/fTTQ69571xL2bH0J4xBCTw9AVsIUc08+eSToWH+n8hWdihHO9nRo0fH31EIIaqOYcOG+XDGp+61a2QvOwafjaEwhhBCWDt9+vTQa94912J2DN39pJK33347/n5CCFF18Cg902iYr45sZoewp5Pdaqut4u8mhBBVybJly+waa6zhwxkfmk6YbHKTkz377LPj7yaEEFXLMcccE3rNO+SazSLTtWvXj92LfeSRR+LvJYQQVcuf//zn0DDPyLWcxWVjJztw4MAksVoIIUTKokWL7EorreQN898j21lUznSy48ePj7+TEEJUPQcccIA3zEud+uWazyJRW1v7uHuxv/71r+PvI4QQVc9VV10VhjMOyLWgxaG2a9eui92rffPNN+PvI4QQVc/zzz8fGuYOSZvjMd126NCh8XcRQgiRsc4663jD/FZkQ4vCj5zsxIkT4+8hhBAiI6rRXNxHTtXW1j5lFF8WQohm+c1vfhMaZuoKFQ3Fl4UQogXMmzfPPz0b/Sqype3KCKP4shBCtAhfbc7ptciWtiunOtmxY8fG+xdCCBERxJmXOQ3INaftx51O9oorroj3L4QQIoKSyNjMTPvkmtN2okePHh+4F/vXv/413r8QQoiIp59+OjTM5+da1PahR21t7bKuXbvaBQsWxPsXQggRQS2hvn37esP8l9iotgc7O9kRI0bE+xZCCLEcdt9998Qw1xjzpSlCfeYLnTSxRAghCoCa9djOTJvlmtW2gxtur7766ni/QgghlsNtt90WGuZDcs1qG+nZs+d77sU++OCD8X6FEEIsh1dffTU0zEQe2o+uXbt+5V7shx9+GO9XCCHEcuA5gEHh/Dsi09om1naygwYNivcphBBiBey4447eML8T2dY2caCTHTVqVLw/IYQQK+DYY4/1hpkZgH1yzWvr+amTnTRpUrw/IYQQKyB6osnXcs1r63nQKdm4EEKIwpg7d25omI/MNa+tpGfPnvPci73//vvj/QkhhFgBH3zwQWiYf5xrYVtJjx49FrkX+/rrr8f7E0II0QL69evXrpkZXSn2TI2MJUuWxPsSQgjRArbeemtvmF+MjWxrGOJkBw8eHO9HCCFECznooIMSw5zVzGgz+znZXXfdNd6PEEKIFjJt2rQwztw/18wWzrlOdty4cfF+hBBCtJD//u//Dg3zlrlmtnBudLJnnXVWvB8hhBAt5N577w0N8/65ZrZAampq/uZeEmsvhBCidbz88suhYT4p19IWSM+ePd9wL3bOnDnxfoQQQrSQL774IjTMl+da2gKpq6v72L3Yhx9+ON6PEEKIAgiqzP1fZGoLo1evXsnkkhdffDHehxBCiALYcMMNvWF+JDK1hdG9e/el7sV+9NFH8T6EEEIUwC677OIN80uRqS2Ihll/FHsWQgjRevwkE6f5sbEthIFOdvXVV4+3L4QQokAmT56cGOYaYxbHxrYQtnayw4cPj7cvhBCiQM4///wwM6NXrrltOSRBJ49FEUII0TZmzZoVGmYe2dcqjnGy3/jGN+LtCyGEKJBrr702NMxb5JrblnOmk913333j7QshhCiQm2++OTTMu+Wa25bzQyf73e9+N96+EEKIArnzzjtDw0zlzlbxEyc7fvz4ePtCCCEK5KGHHgoN87dzzW3Lme1kjzvuuHj7QgghCuRf//pXaJgPyTW3LecGJ3vqqafG2xdCCFEgr776amiYx+ea25bzeyc7ffr0ePtCCCEK5M033wwN89G55rblUAHJTp06Nd6+EEKIAnnnnXdCwzw519y2nD842e9///vx9oUQQhTIvHnzQsM8Jdfctpzbnexpp50Wb1+IkmHx4sX2gQcesJdddpl977334n8LUTK8//77oWGenmtuW86fjQb/RAny9ttv21/Mnm3H1Nfb3t27NzT2NddYw86dOzdeXYiS4MMPPwwN8zmhsS2EOU72lFNOibcvRIeyZMkS+5e//MVOnTLFbrzuumHjTjTIad3s765dutgf/ehH8SaE6HQ++eSTdvGYk8G/k046Kd6+EEWHgRJqC+y/1162rkePHEPcw2kzp4Oczna61OlHTt8wSUnFZJ1vfvOb9uOPP443K0Sn8dlnn4XtuNUx5puc7KRJk+LtC9HufPXVV0kYYvrUqXbT9ddv4hWv7lTvdJzTxZkxzqeJTr2zz6y/3nr28ccfj3clRKcwf/78sE1P8oa2UP7HyU6YMCHevhDtAqPUv/zlL+2B++5r+/Tq1cQrHu70baezIuO7IrH+OibdTk/nbV9zzTXxroXocBgbCdp4q/OYf+qUPA5FiPYAr/jBBx+0Z515pt1so42aeMUDnUY6HWua94pbIj6/o2nc9mGHHZY8Ql6IzuKVV14J2/vh3tAWSlJdbvTo0fH2hWgx7777rr3uuuvsd771LbtS7945hri706Ym9YrPDIxqe2qsSb1v9rfZZpvZ5557Lv6KQnQIzzzzTNj+D240tYVxhpPdaaed4u0LsVyWLl2aVNE655xz7BabbJJjiNFqTrs6HeN0UWBAi6nvmzRzg/336dPH3njjjfHXFqLoMN4R9IUDGyxtgUxysltssUW8fSFyYGLHr371K3vwd75j+znDR7vx6ua0iZNrhUXziluiC522MY3fi0Ht//znP/FPEaJoRGU/xzRY2gJxd4HGDh06NN6+qHKWLVtmH374YXvuuefarUeMyOsV7+J0tOk4r7ilImzS1aTf82tf+5p944034p8nRFG47777wn7yjQZLWyA8+sQOHDgw3r6oQj744AP761//2h568MG2f9++TbziYU4HOE2PDGEp6hSnVUz63QcMGGD/9Kc/xT9XiHbnlltuCfvNVo2mtjDWq6mpsV27dk3ihqK6wCt+5JFH7MyZM+12W29taQumsVHZVZ12NqXpFbdE55s0HY/fUltba88666wka0SIYjF79uywD60T2NqC6N0ryy2l+IaofEiAv+GGG+y4sWPtgH79mnjFGzt9y5SHV9xSjXGqNelvHDVqVJJFIkQxoFRA0Kd6N5raAunbt+8y92KffvrpeB+iQnj00UfteeedZ7ffbjtbG3nF3O7v5HSU0w8jg1ZJOsGpr0l/8xoqhCSKxLRp03zfWhyY2cLp168fG7D33HNPvA9RplDh6re//a09/PDD7aoDBuQYYgbF8Ir3d5qWx4BVss512sBkx0GFkEQROOqoo3xf+ygws4XTp0+fT91LcnsrypfHHnvMnn/++XaH7bfP6xUzQ44aE5XsFbdEKoQkismBBx7o+91rgZktnG7dur3pXpIi5KJ8wJgwiWL8+PF24KqrNvGKN8LoOE2NDJOUSoWQRDGor6/3/fDxwMy2in866fFSZQDG44ILLkhmanaprc0xxgOcdnA60sgrbqlUCEm0Nxs11ofhISRt4i4ne8ghh8T7EJ0MRbdvuummpPrf6gMHNvGKN3Taz8grbotUCEm0J70ba8X8V6OJbR1Jhbntt98+3ofoBJ588kl74YUX2l122SUZoOLcePV3+rrTESadfhwbGan1yimENHy4CiGJgmGCVtBfW10k3+Pufo1dddVV4/2IDuDTTz+1N998sz3yyCPtGoMG5RjiLibNItjXpEV6YmMita9UCEm0BZyqoP+2uoCRZ+tu3bolG8NIiOLz1FNP2R/+8Id25MiRTbzilU3qFU9wuiAyHFLxpUJIorXMmTMn7MtbewPbWgb0y2aAYfFF+8NzwH7/+9/biRMn2rXWXDPHEOMVDzXp7LTTAwMhda5UCEkUylVXXRX27QGNJraVOMP8lXtJCnCI9uFf//qXvfjii5P0mW5duzbxird3Gm/kFZeycgoh9e+vQkiiWaZPn+77+KLAvLae7t27z3cv9pJLLon3JVrI559/bv/v//4vmfmzzjrr5PWK93E6LY8BkEpXKoQkWgqP6Mv6/BuBeW0TTznZY445Jt6XaAYeI8O03t122826i1uOMe7n9DWnw4284krQGKNCSKJ5Nt98c9///1+jaW0b/+tkd9hhh3hfIgCv+LbbbksuYOuuu26OIabTru+0t9OUPB1bKn/lFEIaNEiFkEQDlE3u2bOntwdXBba1TZxGLd6VVlopqdErGnn22WftpZdemnhJsVdMJ93O6TCnH+TpyFLlSYWQRD6ip2MfH9jWNrFzXV1dslF2UM0w64u0l2OPPdYOHjy4iVe8ntNop1OjDitVj1QIScQwMBzYip0bTWvb6Ne/f/9ko7feemu8z4rn+eeft5dffrndfffdbY8ePXKM8UpO2zqNM/KKpVyFhZDWUyGkqgb7EdiNfo2mtY306N79M/eSlI6sdBYsWGBvv/12e9xxxyUdit/tFXrFpEvFnVGSQoWFkLioqxBSdXL00Ud7G/JhYFbbhSeckpSPSuSFF16wV1xxhd1jjz3CIH2OV0y9BNKj4s4nSc1JhZDE17/+dX/+H240qe3DbKekbF0l8OWXX9o///nP9oQTTrDrr79+jiEmNjjEaS+nk6NOJkmtVVgIabgKIVUNS5Yssf7ZqU6XN5rU9mEcNTPIzvjoo4/ifZcFL774ov3JT35i99prryZecR+T1kA41Om8PJ1KktpDOYWQ6upUCKkK4Hmpga05JLCp7cJmA7Lnw+FplgN4xXfccYedPHmyHTp0aBOveLDTnk4nRZ1HkoopFUKqLq677rrQ9mzWYFHbiW69evZMamacc8458b5LhpdfftleeeWVdvTo0eHtQ6I65+1v7V7dJUtesdTpyimEtN12KoRUoZx44oneBvFg626NJrX9eMYpSRsrFRYuXGjvuusue9JJJ9kNN9xwuV7xZKdLoo4hSZ0tFUKqfHbccUdvk54ObGm78lNizH379k2mGHYWTHKhhN7ee+8dPqqliVc8M09HkKRSU04hJNd+VQipcuA8+sl5TlcEtrRd2Q+j7F6TYu4dxaJFi+zdd99tTznllPBhhg0iT3QPI69YKm+NMUEhpN12UyGkCuCJJ54IbdV+DZa0nVl15ZVXTnZS7ET51157zV599dV2zJgxTb3i2lq7lXs92GlGngYuSeUqFUKqLGbNmhXarlUbTWk742613nUv7f7UbLzie+65x06ZMsVuvPHGOYYYreNu8XZ3r5OMvGKpsqVCSJXDt7/9bW/D5jVa0eLweyc7cODANleae/311+3Pf/5zu99++4VxmES9nVe8pXv9XtZQ48YrSZUsFUKqDLCTmU3738CGFoWJlP90rwU/A5Bczfvuu8+efvrpdpNNNmniFa/tjDFeMbdzNMy4sUpStSmnENKQISqEVEZQEjiwbxMbLGiRGOYfzkod4hVBbibx6P333z955Duf8+rlbtO2MPKKJak55RRC6t696OM7on3gPAX2blijCS0S7vbqI/di99xzz/i72MWLF9v777/fTp061W666aZNvOK1nDHmFq2SvWI60s5OazsNcNrYpLnU5+RZV5JaIhVCKj/Gjh3rz9fHDcazyNxAPjPZEkzweOutt+zs2bPtAQcckDzlxAQNCK94hHv9rqkOw3SmSetukPbEA1b57Wua9Fgwy4u7g/gzktRS5RRCco6PCiGVJoy/DRo0yNtBxuU6hIN84fy4XjFaq1s3O8q9Hm8q1ytenigPyoDNsdHyqU5rmNRgq2Kd1BapEFLpw1hAYBMParCcRWZl5y0vM9mOE6+4ttZ+x/19dp6GVE3C+JKHGi9HPG6K47VDnv9JUiFSIaTS5oILLvDnZin2stF0Fh8KPidPfSb+FTecatVmJu0oE/L8j/xr6iIwZTz+nyS1RmEhpO223VaFkEqEoD4G9YU6FOccpwMScWOpZuEVEwMknEF8uSUlRTHYrHeU02l5/i9JzSmnENLKK6sQUifz4Ycf2i5dunjDfH6u2Sw+25qsQcQNpdqFcV7XNN5mkup0uMk/Y5H6Hr5TeREO0VO2pUKkQkilAzH/oD9jJzuUWucVvu9ek4GtuKFIxh7ttIlpnL21ocl9ZuAZJvWuSaljXeKGk0yaxVFnmuZ2s85OJh1gJOWQyQfVNrgqNa8xprEQ0m4qhNQpHH744d4of46dDI1mR3GtU/JsvLiBVJsY9NzP6fQ8/2MUnVxmjtXwYPl2JjXasXdMHjSda7dgGX/z+dVMmoaHMef9QJMa+HifUvUqpxDS6qurEFIHwjyOVbInPZkOmIa9PJxNTm+948ZRbSIkwbFgIkn8P0QYY7BJDTGeMO+ZatvNqd6k9aOJFf4wWx+Du372N09b6WdS7zv0kPkM+wwHE4lRD8mWI7zv/aPPSZWvsBAS8U4VQuoY7rzzzoa+l9nHTqGbMzQfutfEK4wbRzXpB05dTGoIl2cE/cyt6Sb1sPmb+DIXNj7Le7SqU3eTxqbDzxPqiLdZZxoNOMYeT7q/SSciHGYaU6p4jT+Ld8+EFx5AK6+78tSkENJ++6kQUpE58sgjfT9egH30hrIzmO20XE+xmrS9STsAni3hiPB/GGJuL1c2qQGdlq3LRBz+zzIMJYOEhIbI6Ng1+DzrY0TxfnlFhE4IeXiji3Flm2EIBOFR0znxvHl/gWlM6wtFNT/+F/+u9pTPQCn2fqRG5RRCGjxYhZCKRBTGuDmzj53GHk7JTKS4QVSbCEMMN2kHwGAOMelA3eYmHeTDKz4yWJf3GPF4O7FnvI9p9HrYLp/DK0YsI5ec9S4yqQfNvr6VvWc5F4ljTOrV857CUXyOSn58D9YjHzb+PhhPP418gtMuJr1oEMOMv3NLxZR19h1fPKTiSoWQik8UxsAudipdndGY717zDnxVozCCGGTixMSQqZ0x3KRx6HA9nsKCwfXGGmEkiQ2uZFIj5gcCKYjkPV4v6o9w3CcEy5gGTzya5XUmNaTeICNCTuwT4xxuC/kBRp97zSvvCa3wO3jF6LOstfnreG98nqfPxP+TiisVQiouEydO9MeWMEbXxDp2Mtc4KZxRoDC0GFwMJVkbGHOMH8fShzGOy97j3cafxxPnf4Q5wuV4wd80adiE/xNC8ZkfhD9YRupdvD08Yf7HZ3mPp8x7skC8cceLXi9bPiX4LPU/uKDgdfN7Vjfp1HPi6eE+xmSfbWu9EL4H25hk9HixQpVTCGmTTVQIqR2Iwhi/S6xiCfANp8RDjBuB1LzwYjCAxJQxgMNNOmjn/0/ec0+TGtlJ2TKMJA+f5ZjjTTPIgzHm8/sGn2X5ASY1lORQs+zr2edmBut5sX3+57dRn72PZy8elC0fn72namAvk14A2B+/h3xrOj/fPcxz5+LD9/HZJ4WKWD0xcz8N2YsLgSr3tVw5hZB691YhpDZy6623hu0Re1gSdHGd7W332mA8pPYToREfT/ZiZiEXQkIefj1CGBioMCvEp+XhmfMew8jn8xlGHxrxF4ZhJjWsbCNcD4+a9XxoBsPLwOekaL0jsvW4iPhlxDnD2aKkdZGVEq6zPOGhExbCsHMho2gWFwfCNf5Og/DQ8rJipFwxlqFCSO0Dj8fLjiO1l7tgFEsF58ilHT9uAFL7iHAEoQ0fHsA7xdD5IlIM4HEOSJ8jBY51fabImGwdBgp5H8e7EQN/GD1fN5uLweA86xGiYBvhLMZ8YsyB9TCcvMfA40VvGqzjQzVMtok/HwojgkHHUyZOHf+f2DzbYFv5wj7S8pVTCGmbbVQIqUDmzZtnu3bt6g3z5Zk9LBnWc1pK/m042CR1rEi3G2Ia86LxeDFU3otkMJGBPAxuaFh9PJm4Ne+J4WKk8xlMDD9hC/+eCwUXALbJvgmpIO/lc5FgveVlZNBe4unnsbyX3tw4Br8R7xsjMzPP/6XlS4WQWs8ll1zijfKyzA6WHPc42QPznHip4zUzzzI0waQTWIgL4yWvZdIOyav/jM/IYLAw/jyhkY2yvzGodSY19uRBY6CJY2NAWYdt+IFHPF3etyYjg4k7XGyW95u8/OBma/ZR7eJCPdykx0+FkFpO8GDpJxMrWII4x6sxnimVrjCoY0waesKQYsjC2Kz3oI/K8zmWk9PMeya88J74dLyP4SYdnPT51Awqsm6hGRl41Hjv8UzIfOL7so/YKz/WpGEcLhjjjWqIN6cxJiiEVF+vQkjN8Mgjj3ijjA7xhrDU6FGT5TTHhXmk8hKxX4y2jzeHyzm/xCV5vzwPlQFBQgoMyvllrc3I8LHqfGGVWKQBsq5PN+SiwCAmy/D0/e06xaDiVD6pUaROEq7iWA0aOFCFkJbDUUcd5Y3yl9i/zA6WJD92avUEBKm0RSwSA+svvBjuOtMYy8bTZrCPZbQDH/JAcUZGS8W+2BZPHo//F8tnljBbkvc+rTCMs+OxMwhJrNx/junsTLohvMP6ZLxw0anmDA8VQmoeCuL36tXLG+b/abCAJcpwp6SjMoAUn2yp8oRRIxxCqh4DfsNNmipHahsxbNbxGRn+PZppVjzoh8jIwNOmvkf8v1g+MwPPmXAFhjZfaI3MErZ5nkm/A2mHfD9/cfFpZPwu/xnyp30Ip1rEhekbprEkwH777qtCSBnBoB8a3mgCS5f7nBpmkEnVKcIePsSB8cPw1Qf/p54H7STfAGMsjCufx5DG//Pyk3HqTGqUfSnWMXnWJW5NlgiGB08cwxPPhvShF1+Qim2HFxYvwiZhmijfI879LncxcOsLIQ1Zd92qL4TEoOjgwYO9US7ZQb+YMU6J91TNt4KtEceLjk4MdD1TeRe3ML6M0cbgYsDj9WIx6YU2RbghX5vCEPriTGOyZX4AM1/ec/i5OpNO2In/h2H3YRuMM9uqz7Me54qMFv8eL5uQDTVQmHHJNrgIxJ8rN3EMCEdxHKq9ENItt9wSesv7esNX6jhHwzzrZMflOcHS8uUniTBoNtg0zS7wYhZcteWL++nkxIbJssArxrBOMqkB5H+8esPNzECWNWf4p2Xr1Of5Xyif7RFP+2ZwkQyG8GEFXFDrTDr46euV+H7AVGimq5PnjffNXUOhg6GdKY55TiGkceOqshBSfX29PwbzMntXNrg7w5alOFWDuE3Go6NDMvONXG+fRhaKCR506OaMro/XcnyZhk3WAV72QSbNP27us+Usfjcpd4QU+O2hMI4Y7vCY+lBGfNfBOhjFw01jfRAMZLy/UD77JK4bwgWS5aTi+WXEtcm59rMrySrhFQ+ac1tnUkPuzzWx+TBEM9Ok321FMys7U2NNYxvcdNiwqiqE9NRTT4Vtz53m8qJnTfawVlJv4hNbTSJLgeNAaIfbWgwzhoRJE75D0onJscXDYvZavtt1L/6H5zbSpAbGP/8vFP8LP4NR43Z6RrS8HMVgIIaL44WYWUhxo3g9fjOOQZ1pNKgYZT+lnPCIT8ULDasX3i0eIn8zqEi8OR7QxkDx+QnZe7JUeB+XVeU8Y7AJe8wMlrN/LjShx81vYxtcaIeY1ABivBmEy3cx7yxVayGk8ePH+362wMmdvvLD2YGWjaZXqkjNokOTdhR2Km6v8aoousN74qDEWzleCMONdxhvb3nCWFHsiE7OdsO46gTTmJOKuCBMij5fqSIuyu/ld3N34b3t+uz/GG8uhqzjjTCaaVJDyt0I7wlP8Pl4+4Sa2B4hEd5zDnhPGCVczw90xvneiNAA58yHNPyFnP0T9uCzG2fL/JT5UHzX8SbdNsYy/n8xVW2FkF577bWwLsYVpkxZzRmlhRgm33CrTT4u6m9nQ9HJ6JDeC/P5unhGGNZCOhkeGQNQTLUOswuON6mRx3NkmxOy9ZhCHZ8T7mwwAMRpMQaVklnA7+CYYPD2MWkudvh/jgnHaIhJvVTCTHiohBlOzNbBM+SOJ962P5b+DsfPhIxDHpxrliO2w53OSJPe+WyfLffng6ntvCeuHf4Gvh99KQxV7WFynxeJOH8zg3U6QtVSCOm4447zx/krJ3cDVL783Klqq84tr0MjcmY5Nt4Ac0vO+9DbbYnwxPHoMC7EMf1yOjP7J584jFfOMKkB55beL8MoYGDw4A8wqbeGEYv3hcEhZttcqKUcxQVsqGk0clzIwhCcz/jwMx75/aOzZXjbfj0uxPlCHmyPXOnxJg2bsD0+540Z8uEYQln52ow34DOz9769EBrjs3wnQits03v6iDsBzhm/jwsOF4kJwf/bS2EhpP79+lVcIaR33nnH9ujRw5+vG02ZM9g11MUYjbBgerUIA0eHiJcjblPd8WnIk8VT5n2hqVW+w8YDWBgWluNVxZ/BqwofbEAuL+EOb3C5aMSz9Gaa9HaeuG68vUoX54TjxfHsbdK4Lxe9OtM0IyOfUSWThM/FyxEXZgw2F1KOP4Z1RJ71MLaEYvx7vg/nI87q8JNnyB3HKNP++N58nrbAuec9A8bxPtoqHIDhJt1+pRVCmjJlijfKS7FrqXkrb/7LKacBV4voOIPzLEd4URhuHzIgFk+HLySEgIfMsR2e53/e0Me37oiOj4fs3w8xuQNWGN/QkPCdfJijkO9XScJocrzJ0JhgUqPHuQ0viByz0Fv18rFoxhbC5TNMemfiwxgYadbLdzFlkNfnW0/P1stnXPGe8aYJb7Ft1oszU7y3H3+f9tIYExRCGjmy7AshffDBB7Z3797eMP8usWoVwNruCr6Iq3ghcdNKEPFCPCDvFXsRu+R4+ME/xIh9IemFDLzg5RKqmJnn/xhRDH2+sANGlv/598RKGYTy77ndDb8LHZl94YXF25JScZwZsM2Xu89x4zxxDCeYNPxEqh2G1vWPhqfG+IwM/96Lc017ITuE92yD9Q6J1ouF904IJYxLIy4qXJi524o/017ijs0POpd7ISQ8f36HSb3ltb1hqwR+6tQkjajSxaAf8Vxuexmx55Z4gkkbLIbRDwrSUfEwConFe2+ImHD8P0S2gfewYnEbzCQW/x6jzDI68Gkm7bR+qjTxV2KvxwbrF0McGwwb+/WDbpUknJIhJj1nXly0/XFGPiMjHiwmu4flPlOHWDLvwzGFWDgD4b7CQUeKPeHdc4GOP9ee4oJERhL7L9dCSO+9956tq6vzx7FivGXPGj5DA08hPoGVLAbMfMqWF4MwfgIC8hkZLU2Rw4OiY+Fl5/OICTdg6PHY4/9xEcDQ0kn9spmm8YndfA8+h1fF8o6IK9OB+T3++GBEKjVkQhhigknjyhzf8H8cd84Nxz5cTvYGx8VnanDh4n0cokCMD+Ct+gk2GGL2xYWc7YeDjvli2e0t2idhNd+2yq0Q0uTJk327JBNjDVOBXO6UNxezGkQckZhe7A2hQjMySOti/eV5y3Rs/h9mXnj5Tp0vjslFk2px/O3jyng8bTGS/Ga+L7fdftux/FR0Lkx4zs1dvBnsCgeS+a1h1kk5i/hwvrhvvUmPjw+JcT64uHNX5LM5kG8XGGE/KxFDHW8P4cF3ZGiRtu0vvkPWWacsCiG98sortlu3bt4w/zKxYhXIQHfVXMCVsxJvVdsiDAsNt6UGhlF+vJ44duhFxyWE4mOSofB+3blY4SQT4srEJ31cmdtmPnt0nnXzCYNBnJp9eQ+Nc0+4Bq+ddXgldML35H/L+z1eGBsGTMMBN7xIts3FLV6/UsQ5oH2EF0iOBSExwk5kXjBOwHFgbIHjiqdaZ9IQVeyBE8ogX3tFx7u9xYXFt4kezuCVeiGkQw891BvlJdivBktWgTjbk45mt8ULq2aRI0uYYqM8/wtF6hahjvA4423iZRFfbu74+7gycXHek1XA++EmNYzhQGE+sW06IJ/5jkmNBMaCW+9wEGuSSTsp4jdxN4XXF2/PyxfCD71KYrQsI2QUr1/pwrBykSLjCXF8wtCWP17c+RDaIIwyxqTHGo87NtgdIfZJ+/HnfdzYsSVZCOnJJ5+0tbW1/nvO8gasUqlzHfMd91rRHk6xhTdKJ4uXh/LhEfKlMebUcRieLRufZ32vGSb1xHyog9ACxtRPrsBj5n1z+/deLAY9/p/3jtku7/leeH0YCiZo4KnHn0EY7E1Nut3w9t1vj98Yf0ZK2wExe46b1xDTNFOoo8UAJgPgfJ9NN9645AohjR492h+vz7FbifWqcA53Sjy3ODleal9hXPFaOd4ITynMAoiFp4snzq2x96jxujB852XvMYpsyw9E5dMu2Tr5Ypg+o8CnhHGbzvuRedYNhdfnQyL8Dh87HWwaJ3X4W/j4s1I6tsGdRilN9KJ9kLHEOa3r1atkCiHdfffd4YXs+NRsVT6un5u/OxV9tF9KDR+5tXhOK/KSSNcirowX65cxkMSgjX9/gkkbbL6JK17DTGpE84VL+C58HgPNe8IlvCfzIF43FhdzDDEXBT9A2NOk05jJMuECwrYIo+QbRJNKT2QY5RRCOuGETi2EtHjxYjts2DD/fd7M7FXVsKPTMgaowttSqfPk48rx4B4GlOXeY2a2GZMlmvNM8bqJRcfLkR989OmCxEh5v6IYMaEKDG+YaRLm6hLSYICMkAspflwYYo+dbXBh4DuQJVKMCTNc1Fo6iCs1KiyEtO1WW3VaIaRLL720oU057dpgsaqIG52qcqp2KWqmye8FEx5gxJ+BRKaNE0ZY0Ywz4tqc2zg9Dg8a7xYv1w88La/wTyyf5pcvIyPOPiGDhOV4+34ZFx7uBliO501cG0OwvJTD1srXe5ZxLly0v4ZCSH37dnghpH//+9+2T58+3ijfn9mpqmPdmmzSyaQ8J0kqHTEWwOAbniaz0OL/xyLM4DNHvMHFKBMXduc9J568nslf+CeWzzAIZyD6jAyMbriun7Czd/YeLxYPnk7vQyD8Jl/wp7l4eaEirk86Y7xcapm4oA036fnr6EJI48aN80aZySTrNpqq6mOGU6el7kjFE141HikGkcFE7wkRC/Z5zIj4NTHp+POxMOZ8Pgw/fM3k97bHZ+sStuA92SG8j+POXCz4XuT+xvuLxYWBdsp2+MwYk4ZzMPRqu+2vMaaxEFL9rrsWvRDSgw8+aGvchYD9mTIugt9edDfZg1s1EFh5YvyA2XxMKiFTI/ZMW5qRgTDe4SAkGmzye9uk3LFd7x0TPuE9mR3EyPH+CY2QB0x4Jt5uLEIifH6ISUMfGHpSvXydZp97TRyeuwIfEpLBbpsYaG4ohLTaakUrhLRkyRK75RZbeKP8fmaXqp6dnJbmG6yRKlsYbmLMxITj/8XCW41rRBOrzudtM26Bt+U9c9oWM+BYTryc+LLJxHrNGWYGGBn8xKsOBzzxvv02JmXLCLPw3htqJvJg+ONtSi0XF+8NTHpcu9TWFqUQ0kUXXdRwLp1284ZJZDWbiTfmS7GSJEIgtBEM9CTTmE89Ms+6FOrBEPM37QnjGxtIJsgcYdJb5m9E/wvlvW+8t/h/vjiVH+jzGSaTsvd41HjWcZsmp5jf4SftSM2LCyLnyKdD7rvPPu1WCOn5558Pn0zyhwaLJBL61mQzApnDH58YScL4MbCGh0yqHWl9tBdiv+F6dGI84rBYFqEMbonj0ALb9DMQlycuCHjM8WcRg5uk5vn3cUbGmOx9PEuS38B39HnlXGTI5SV9lPW5M+CC0FxKYjWKdEjubjhGg9deu82FkJYuXWp32mknb5S/wA41WCTRgHM40tvTcIKDJC1P+XKGqeJHOyLW65f56nUYTm9gGTAkPMHyeFAwFHdxGPV4OcLrxTj792RjhOv60Mb4YJm/oPgxlZkmjZPjWfOdmWhDHJyLAV5+6G2TheIdF2bwEcsmuyT+XpUsLmbtVQjppz/9qTfK6NDMDok83OKUUyu4mkWH5pacfOBwYgSzpeJ1pUZhsOOLe71Jb4WZHEOWCNkitLWReT4fiqfMEKOOPWa2T4iEQU2/rM7kZngwuMg+8fR5jweM9x6WI/B53GEaIPI1mCcEy5i+PMQ0PvkE4XnTLuJwSSWLc5FTCOnQQwsuhPTaa6+FBfAfSs2PWB4U1P/QvSqkYdLbWTotnRlD4keoGVQiA4BbZKZR42lNMNXVOVsjvMwwSyTOf84nanpwzOMaI2yD5X6gz2eYhIYahQOArMs6Po0PQ42nzHn1WSL+c/yPC8L2wXu8aNoDFxMGyieZxqeirGjSTyUqLIS0yUYbtbgQ0rJly+wee+zhjfIi7E5ifUSzOJucegLVnqWBt8axoLP7eKMfYCL1i2NEx/cz2lg/3gbis2HusNRycbHjDg6DiIHFOyW8wfFGk7L1fJZGPKC3pUlnTRI64TyFk09I5/Pb8cJIc24555zf4dm69AX+H8bOkX8wKxeK+LtXg1pTCCkKYUwwosVc65Q87ii+hawmMeqPpxwaVV8fglg8M9xYxjHy8dJwoIlMgiHZcoQRpyZyWzxrPM74kUQYrHCqdKWJ47u/SePJ3L3sbFKDibH2Xq6/YMbZGxwvPN3dTBr68OcM+Rg0d4dhlggDgbR9BgP9dPPDs3Xjcrkzs+XEz+PvXS0itBcWQjrh+OOXWwjp6aefDrMw7jGiIPq4Rv+ye81b07ca5G9lh0fLvZfFAFG43E+C8MWA8OAwCMQzMcbckvvb77g+yUiTdnj2yYASWQ/5PGyWYVxC72ymSbdJfYx4/XIXIQcMJOlt8f8Y+PMpeQhjzXGIByO9J825IJ4c/s+fy3CgMpY3/HjqrBvfRXK+WR6HWqpRYSGkbbbcskkhpIULF9rhw4d7o/wJdsaIgtneGeev8EpaEgusNBEPdcegybP5MBYsHx8t59aX5X7KMrd3eNU+JcuLCx3rkR3Ae7xnPDNunwdk/0N8NvSCMRDeCIwJlnNuWNbaMQEGNmfmWV4K8k+nxmv1oSTkvdc4/zmcLu7lBwC584l/J8eejAwunrFB50KHIffTzcmJzpe25wcJ41mV1armCiEFD1ZdZqq0clx74dp6/oZb6cLw8tv9QJEXhprlccFzbrP9DLbTsnXigSjkJ2Z4DxfDyHs8DTxrbqkxtj5u5y+K3vCjwaYx3QuDHK5XqIab9MLQlvBKMTXKpL+PNki8mAsYdw14zC1tkxjs2NP1wqBicIlDM92b806oiH0OD9bjfLDP+PMjs3XjC3A1i/My3KTHJSmEdOaZ9g9/+ENYC4MJbaINuDabpLI0yemsdJGRwe/29R686LQY0dCDQ0x0YFCKv70XhWcXbxePi//hgfH+yOx9HDI6Jlse5tsSAmEZoQyfLYCBZxnrk8LEecKTxODH+84nQjIYvHh5KQnPud6kE0PQGNO0cFJbxJ0IA4wM9nEsyTTgQujDST4jw5+zUHwf7m7i5VJuIaTg+X2vZnZFtJHBNVkK3d55Dn6ligwLGlV860pck0HBcBkeArfLPobpy2FOitZDzHTjf95jHpO997FpLx+2YPDKLyMjAKMRXiCHmnTfGBW8SQwzFw7eE6uO9y81r/PyLOMiRyjEXyRDEQoZnGe5lIrBWJ9S57TYaUiDZRFtZi+npRgqPLP44FeiuAjFg3QYaTynOC1ukkkbno8Jk9PK+/HResjXNcar5j3eL8fVT3jwIkeU9SYEy7jdXidajxQwDHFo2InzsU28wHj/oQib4Kkv7zZfylV8l4RHTfgqflCA1CjsReY1E1c+qNGkiPbiHKdkdlW1xtPwjEmL8kbVy09c8BetGSb1WDcwuZ2Z22+MKzFd75mRdUAaXbwvMgXYJlOceZ8vI4NtsE6+W2w8ubXyLA/lLyCEU/wyYupsD6Neb5p68lJT5cugkVI7UWcavGXshygC7o7Z/NEp8drUGBvFwBvx3ZnBMgblCDEQd+ZvBpYYPGKZn63mMzKGB5/zImyBcfeG3ad2jQnWYb8sY9vx54l7rshjJhbN533uNWET3hMeIS+VCwbv8w1iSlJzwj5gJ2g/md3AfogisbI7uq+414bBJ2n5IiWOiSeEGhBGemLwf5+RQeZB/Fk86zCW7UMboXe7vIwMn/kxMloea7hJjb+PWZPmFIZKWM5TSthWc54zIZ+4ypxU3cI+0G5MOh9i5QYLIorGCGecv3SvDZ6f1DpNMmmMMq6z4MMWYYx7L5M29DBNz2dkzIw+zwWB5SsylnjEhFL8ezx6vk84aMjkDsInk/J83ovZeIOjZWSkDDfNV44rRPxGBlWrKTOoXOVDe5mdGNFoOkSxGeeUDIT5iRJS+4m4MgaSlD2/zOdPE2KYlC0jhk21tvjzPiukOS/XG3+255dNMOk55bNkeLR0oHe4SfOM/XuMJ0ae7cSz6ojRs89CDSyGH48+Xi6VlrAHvg1ldkJ0MD9wSmKZTKiIT5DUdoXG6xyTxn455j6MREYGy+LP8X9i2c3l+lIzgm3tEy0nQ4NcbZ9/SvhlRTnR5ELTGf33JdzC/mkb4TRovG+W+9mUpA769D72RS44GS/5Lihsa9M8y6XSEXaA88S5zOyD6AQI5v/GKckAyDcdVmp/kVZHNgZGkPS8eGYiwrvknMTLQ1Gbg3N3RPZ+QvA3YkDQG3hCFfHnQ/kCQr4NYMyZCTnE5D5SCqNLPjDZLaQe+gyVMSbNdMFg9zXpRcFPccZrZxIH28cwc0GJ09akzhfnnjbHecrsggb7OpEeTnOdklhlnIsrdY6+Y1ZcbS7OyMDzrjNNJ9QQ0mC95rxvBjRZxxdg4m9uackKGZKtQ2wcg+snacwwaQ51XK2N78PFAK+d99RJZjtsk4FK/ndhsD4Dn0xlP9g0phZKHSv6Pf2fc5TZA+yC6GRWcZ3lJfeaxBoLjR1KnSMGFsOMDD9gQxYGRpNlGEnCJXi28edD+VrFhDBI8/MeNtvyOdoMIBI3/0Gez4fCG8aAh7nZPmaO4edugWW8rp8t5/bZ30Iz2SO8uLA9OQzFE+1nuGkwyi9iDxosg+h0NqzJpm3vnOfkSaUpQgr+bzoYoQQf72VQkVeM6aQ8nw3FQCKeLB4wRtVng+CVYzCJURODDgczZ5o0Nk16HsYbjx1xEWC/4aChD6mEBpY0RLbJvvjuGGD+Zv/1wXq+Qt14k14c8L7DlEOpbaK/c3yz/r9hg0UQJcPONeljYpqUypTKR4QsJpg05ntY9j5eJ58YuCNeTIzYTz7ysWe8cwy83xYeLdXaMKLEoGkvhDiQL9QUhjgGm9yMjBOydTDs8fdgsJGLiw938DtYl6wRvgP/yzdgKhUunymU9fudG02BKDX2dyfpK/eaU3xHqnz5sELoFWPYWYa3G2Z/MKDH8pHBMi+8bv4XPmkkzsgYla3DlHNyuZn5iLEmvOFDMj6zoz57j9eNZ806K8oykVYsP0vUaQn9Pu3+opQZ67SUzsgTDeITKlWmMKR4yD4GjLxnW2dyPW8GBlleHyxDfBbPlrbjvW4/ixGD7dfDyyaMQQybUEiQotVQupNBQ9YldMG6M4PPS20T/ZpzRD/P+rsoE5xTZJZx8uJZbVL1iJDFsaZpjJrlDBASyvBFofDA/JMvCIv4db13zTp+GcaWkES4TQw42SEMFGKwfeoeT4VZN1pXar3oz5lRploc/VyUGac5JZ1vQp4TLFW3GHhkcJBwBPmv5D2T8raeSY2pX8/nWxMi8dkWI7NlZGnE2w1LmBJnxoiorkv7iH5Mf+bYZ/1blCkznRLvxk8YkKTmREiEmLFP42N2IJNSaEe+wBLGl/AEnvDM4LPEsVmvPnvvMzLIc473IxUm+q/P2Mn6tShzLjfZSR2f54RL0oo006QzHMOiWQws9jBpJggDjzxZhnbGRAefK40HzjJi2vE2pZaLfhsYZfqzqBAuc0pugyhfGZ94SWqNZprUu2ZSCcJwh5NL6k1qTIg/x5+VWib6axC+oB+LCuM8k53kFZWjlKT2EBNJdsmzXGqZ/IQd+m3Wf0WFMtUpGZDJ99QNSZJKQ/TPLPsC0W9FhTPZpKk2OY9JkiSpNDTGNBhk+in9VVQJR9akyenJxAE/Ai9JUueJfkh/pF+adAbvkbndVlQDBzvjvNi9JpXE9HBXSeo80f/oh/THrF8eHPVXUUWMco3gU/eaTCw4L0+DkSSpuKLf0f/oh64/fkK/jPqpqEKGu8bwhntNSj76wu2SJBVf9DdfatXpdfpjTu8UVc0azjg/4V6TOsDhU5olSSqO6Ge+7rbT4/TD3G4phDF1Trc7JRXCmNkVNyRJktpH9C9fiS/rd3U5vVGIgC5O/2WyBsMIsR68KUntJ/pTkHmB6G/0OyFWyOSatAB38gihmXkamCRJhYl+RH+iX2X9SznKomB4VNW77jUpnp6vxKMkSS0T/Yd+RH9y/Woe/Svqb0K0GAYj/uqUVLcKi6VLktQy0W+C6nD0Jw3yiTbTzekqkzUsnnihySiStGLRT+gvvu9k/Yj+JES7Md7dgi10r8ljiU7L0xAlSUpF/6Cf0F+yfjM+6k9CtBtbukb2nHtNbs14+GfcICWp2kW/CEIXz9JvcruREO1Pb6erTdbwhpnGB29KUjWLfkB/8H0j6yf0FyE6jG867/lD92pXMukTkuOGKknVIto//YD+4PrFfPpH1F+E6DAYXb7bpI3R7uh0QZ5GK0mVKto77Z72Tz/I+oOyLkSn49qkmVKTlRAlV1Pes1QNop0Hucm0/ylZfxCiZNjMtchHTdZQtzKaMShVpmjXtG/f1p3+Rvtv7ApClBa1Tic7A73Avdo6p0PyNGxJKlfRnutMg5f8Be09a/dClDxDnO40WQNmpPrMPI1ckspFtN8o44L2TTsXouw43HkVH7vXpMThHk4/zNPoJalURXul3foSna49f0S7jtq5EGXHQKfrTfZkbgZLDs3TASSp1EQ79YN7WfulHdOehagYdnDext9N1tCHOJ2cpzNIUmeLdkn79G3VpIPaOzQ2ZSEqC1KJqLmRlBMl93M7o5mDUmmIdkh79DnJNWl5zvFZuxWi4unjdKFr7f9xr7a7SZ/qcF6eziJJxRbtjvZHO6Q9Zu3ywqydClF1rO/0vybrED1NOtDygzydR5LaW7Qz2hvtzrfBrD3SLoWoerZ2+pPJOkdvp9FG07ul4oh2Rfuinfk2l7U/2qEQIoIBwvtM1lnqnPZ1ujBP55KkQkU7oj3VmRyDfC/tLmyEQoj81Ndkj7RCvUwaA9QgodQa0W5oP7Qj36acHqSdBW1OCNFC9nIGeq7JOhPFxxk1Pz1P55OkWLQT2ktQtB79hXYVNjIhROvY1ulmZ6S/MlkH28Tp2DydUZJoF7QP31aydnNz1o6EEO3Mek4/cR3tS5N1ujVN+iif8/N0UKl6xPmnHdAefNuoSYtp/SRrN0KIIjPA6QzX8d4zWSeklsE2TpPydFqpcjXJpOfd17JAWbs4I2snQogOhkfBf9t1xLtMVosDre60n9GElUoV55Xzy3n25zw7/1R8+3bWLoQQJcBgpwtq02m0SWdl0Gdzp3FGVe3KXZw/ziPnMxzMcxflf3Pes/MvhChRupj0QZhzXKddarIOzK3uFk6HO12Up+NLpSfOE+eL8xaFKjivc7LzzPkWQpQRPBRzck2QE416OG3tdETW+WODIHWeOB+cF84P5yk8bzVp7vHk7LwKISqAtZ1OrQmeS4jwxDY26Yj+tMBASB0njjvHn/MQesaoJn2e3qnZ+RNCVDDEI6fVBPWhvVZ12snpKKO4dLHEceX4cpw53vE5yM7LtOw8CSGqkNWcDnO6oTZ7DJYX3ttQp91N+qh6Vb1rnThuHD+OI8czj1fM45puyM4D50MIIRpwNsJ83WlGFvJoSMHzYgLDjiZ9WrIeMJtfHBeOD8cpnPARaFl2fGdkx5vjLoQQLaK/SUf+L3aW46GarLB/qDqTxkZ3dfqe0ymmegYU+Z38Xn43v5/jUGeaGOGk8Hw2AHtxdjw5rkII0S50N2mJyNOdbo1DH17OCNlBTiOc9nYa63SiKd/qeHxvvj+/g9/D7+L38Tvj346y43Jrdpw4Xhw3IYToMNZx2tdpqtPvnFF6tibIn45FfJUZaxTZ4Vaf+sAHOx1n0oeAEgboKI+b/bA/9sv++R58H74X34/vGceDQ/E73e99ht+d/X6OA8dDCCFKjh5OW5p0MOtHJjXYT9Smg1xNDFw+uXWtu99PYrQMmKFtI1HScs88Ynm8rt8G22O7bD/e5/LE93Z63KQGmN/D7+L38TuFEKLs4QGfmznt53Si04+drnN6oKsxT3Ux5u18sexiiP2wP/br3j9g0u/B9+F78f34nnogqRBCZDh7aYY4bWHSJ22gQ5zGRzrLpNkNXryP1+Fz9ZnY3hCTbl8IIYQQQgghhBBCCCGEEKJi+P8aDf9nzzJc0wAAAABJRU5ErkJggg==)"
      ],
      "metadata": {
        "id": "1Htr1gnaXGTG"
      }
    },
    {
      "cell_type": "code",
      "metadata": {
        "id": "HDfm5dZw_yWa"
      },
      "source": [
        "# use `extract_flood` function to use JRC data as reference\n",
        "# the dataset provides information on the recurrence value expressed as a percentage for the particular month (november in our case).\n",
        "floods_seasonal = hf.extract_flood(water_img, reference=\"seasonal\", permanent_threshold=70)"
      ],
      "execution_count": null,
      "outputs": []
    },
    {
      "cell_type": "code",
      "metadata": {
        "id": "5M38te1j_0vG",
        "colab": {
          "base_uri": "https://localhost:8080/",
          "height": 982
        },
        "outputId": "b8b1ef57-34b0-44c2-94cc-cb59d0068929"
      },
      "source": [
        "# View the results of flood mapping\n",
        "Map = geemap.Map(center=(11.036793516608421, 78.64159548801078), zoom=12)\n",
        "\n",
        "Map.addLayer(sar_img,{\"bands\": \"VV\", \"min\":-25, \"max\": 0}, 'Sentinel 1')\n",
        "Map.addLayer(water_img.selfMask(),{\"min\":0,\"max\":1,\"palette\":cm.palettes.Blues}, \"Sentinel 1 (water)\")\n",
        "Map.addLayer(floods_seasonal.selfMask(),{\"min\":0, \"max\":1, \"palette\":\"darkred\"}, \"Sentinel 1 (flood) Seasonal\")\n",
        "\n",
        "Map.addLayerControl()\n",
        "Map"
      ],
      "execution_count": null,
      "outputs": [
        {
          "output_type": "execute_result",
          "data": {
            "text/plain": [
              "<geemap.eefolium.Map at 0x7fe3414c7a10>"
            ],
            "text/html": [
              "<div style=\"width:100%;\"><div style=\"position:relative;width:100%;height:0;padding-bottom:60%;\"><span style=\"color:#565656\">Make this Notebook Trusted to load map: File -> Trust Notebook</span><iframe srcdoc=\"&lt;!DOCTYPE html&gt;\n",
              "&lt;head&gt;    \n",
              "    &lt;meta http-equiv=&quot;content-type&quot; content=&quot;text/html; charset=UTF-8&quot; /&gt;\n",
              "    \n",
              "        &lt;script&gt;\n",
              "            L_NO_TOUCH = false;\n",
              "            L_DISABLE_3D = false;\n",
              "        &lt;/script&gt;\n",
              "    \n",
              "    &lt;style&gt;html, body {width: 100%;height: 100%;margin: 0;padding: 0;}&lt;/style&gt;\n",
              "    &lt;style&gt;#map {position:absolute;top:0;bottom:0;right:0;left:0;}&lt;/style&gt;\n",
              "    &lt;script src=&quot;https://cdn.jsdelivr.net/npm/leaflet@1.6.0/dist/leaflet.js&quot;&gt;&lt;/script&gt;\n",
              "    &lt;script src=&quot;https://code.jquery.com/jquery-1.12.4.min.js&quot;&gt;&lt;/script&gt;\n",
              "    &lt;script src=&quot;https://maxcdn.bootstrapcdn.com/bootstrap/3.2.0/js/bootstrap.min.js&quot;&gt;&lt;/script&gt;\n",
              "    &lt;script src=&quot;https://cdnjs.cloudflare.com/ajax/libs/Leaflet.awesome-markers/2.0.2/leaflet.awesome-markers.js&quot;&gt;&lt;/script&gt;\n",
              "    &lt;link rel=&quot;stylesheet&quot; href=&quot;https://cdn.jsdelivr.net/npm/leaflet@1.6.0/dist/leaflet.css&quot;/&gt;\n",
              "    &lt;link rel=&quot;stylesheet&quot; href=&quot;https://maxcdn.bootstrapcdn.com/bootstrap/3.2.0/css/bootstrap.min.css&quot;/&gt;\n",
              "    &lt;link rel=&quot;stylesheet&quot; href=&quot;https://maxcdn.bootstrapcdn.com/bootstrap/3.2.0/css/bootstrap-theme.min.css&quot;/&gt;\n",
              "    &lt;link rel=&quot;stylesheet&quot; href=&quot;https://maxcdn.bootstrapcdn.com/font-awesome/4.6.3/css/font-awesome.min.css&quot;/&gt;\n",
              "    &lt;link rel=&quot;stylesheet&quot; href=&quot;https://cdnjs.cloudflare.com/ajax/libs/Leaflet.awesome-markers/2.0.2/leaflet.awesome-markers.css&quot;/&gt;\n",
              "    &lt;link rel=&quot;stylesheet&quot; href=&quot;https://cdn.jsdelivr.net/gh/python-visualization/folium/folium/templates/leaflet.awesome.rotate.min.css&quot;/&gt;\n",
              "    \n",
              "            &lt;meta name=&quot;viewport&quot; content=&quot;width=device-width,\n",
              "                initial-scale=1.0, maximum-scale=1.0, user-scalable=no&quot; /&gt;\n",
              "            &lt;style&gt;\n",
              "                #map_15226cefe799e98cb150640a122dded1 {\n",
              "                    position: relative;\n",
              "                    width: 100.0%;\n",
              "                    height: 100.0%;\n",
              "                    left: 0.0%;\n",
              "                    top: 0.0%;\n",
              "                }\n",
              "            &lt;/style&gt;\n",
              "        \n",
              "    &lt;script src=&quot;https://cdnjs.cloudflare.com/ajax/libs/leaflet.fullscreen/1.4.2/Control.FullScreen.min.js&quot;&gt;&lt;/script&gt;\n",
              "    &lt;link rel=&quot;stylesheet&quot; href=&quot;https://cdnjs.cloudflare.com/ajax/libs/leaflet.fullscreen/1.4.2/Control.FullScreen.min.css&quot;/&gt;\n",
              "&lt;/head&gt;\n",
              "&lt;body&gt;    \n",
              "    \n",
              "            &lt;div class=&quot;folium-map&quot; id=&quot;map_15226cefe799e98cb150640a122dded1&quot; &gt;&lt;/div&gt;\n",
              "        \n",
              "&lt;/body&gt;\n",
              "&lt;script&gt;    \n",
              "    \n",
              "            var map_15226cefe799e98cb150640a122dded1 = L.map(\n",
              "                &quot;map_15226cefe799e98cb150640a122dded1&quot;,\n",
              "                {\n",
              "                    center: [16.0029, -90.5109],\n",
              "                    crs: L.CRS.EPSG3857,\n",
              "                    zoom: 12,\n",
              "                    zoomControl: true,\n",
              "                    preferCanvas: false,\n",
              "                    eeInitialize: true,\n",
              "                    addGoogleMap: true,\n",
              "                    pluginLatlngpopup: true,\n",
              "                    pluginFullscreen: true,\n",
              "                    pluginDraw: false,\n",
              "                    DrawExport: true,\n",
              "                    pluginMinimap: false,\n",
              "                    pluginLayercontrol: false,\n",
              "                }\n",
              "            );\n",
              "\n",
              "            \n",
              "\n",
              "        \n",
              "    \n",
              "            var tile_layer_0760a3236c7aee6e4e41150ee5eb257c = L.tileLayer(\n",
              "                &quot;https://{s}.tile.openstreetmap.org/{z}/{x}/{y}.png&quot;,\n",
              "                {&quot;attribution&quot;: &quot;Data by \\u0026copy; \\u003ca href=\\&quot;http://openstreetmap.org\\&quot;\\u003eOpenStreetMap\\u003c/a\\u003e, under \\u003ca href=\\&quot;http://www.openstreetmap.org/copyright\\&quot;\\u003eODbL\\u003c/a\\u003e.&quot;, &quot;detectRetina&quot;: false, &quot;maxNativeZoom&quot;: 18, &quot;maxZoom&quot;: 18, &quot;minZoom&quot;: 0, &quot;noWrap&quot;: false, &quot;opacity&quot;: 1, &quot;subdomains&quot;: &quot;abc&quot;, &quot;tms&quot;: false}\n",
              "            ).addTo(map_15226cefe799e98cb150640a122dded1);\n",
              "        \n",
              "    \n",
              "            var tile_layer_b8efcb072240c9ede31f8cbb23481f58 = L.tileLayer(\n",
              "                &quot;https://mt1.google.com/vt/lyrs=m\\u0026x={x}\\u0026y={y}\\u0026z={z}&quot;,\n",
              "                {&quot;attribution&quot;: &quot;Google&quot;, &quot;detectRetina&quot;: false, &quot;maxNativeZoom&quot;: 18, &quot;maxZoom&quot;: 18, &quot;minZoom&quot;: 0, &quot;noWrap&quot;: false, &quot;opacity&quot;: 1, &quot;subdomains&quot;: &quot;abc&quot;, &quot;tms&quot;: false}\n",
              "            ).addTo(map_15226cefe799e98cb150640a122dded1);\n",
              "        \n",
              "    \n",
              "                var lat_lng_popup_550724a575f55d7870864da2c6f1c594 = L.popup();\n",
              "                function latLngPop(e) {\n",
              "                    lat_lng_popup_550724a575f55d7870864da2c6f1c594\n",
              "                        .setLatLng(e.latlng)\n",
              "                        .setContent(&quot;Latitude: &quot; + e.latlng.lat.toFixed(4) +\n",
              "                                    &quot;&lt;br&gt;Longitude: &quot; + e.latlng.lng.toFixed(4))\n",
              "                        .openOn(map_15226cefe799e98cb150640a122dded1);\n",
              "                    }\n",
              "                map_15226cefe799e98cb150640a122dded1.on(&#x27;click&#x27;, latLngPop);\n",
              "            \n",
              "    \n",
              "            L.control.fullscreen(\n",
              "                {&quot;forceSeparateButton&quot;: false, &quot;position&quot;: &quot;topleft&quot;, &quot;title&quot;: &quot;Full Screen&quot;, &quot;titleCancel&quot;: &quot;Exit Full Screen&quot;}\n",
              "            ).addTo(map_15226cefe799e98cb150640a122dded1);\n",
              "        \n",
              "    \n",
              "            map_15226cefe799e98cb150640a122dded1.fitBounds(\n",
              "                [[16.0029, -90.5109], [16.0029, -90.5109]],\n",
              "                {&quot;maxZoom&quot;: 12}\n",
              "            );\n",
              "        \n",
              "    \n",
              "            var tile_layer_8a0e4ddb53fd8bbf23643ba49c89e0b7 = L.tileLayer(\n",
              "                &quot;https://earthengine.googleapis.com/v1alpha/projects/earthengine-legacy/maps/e0894dd5202f8ac61a7e2b82d875ff6f-0ac9a409458b0e253081e8f5da7e99b3/tiles/{z}/{x}/{y}&quot;,\n",
              "                {&quot;attribution&quot;: &quot;Google Earth Engine&quot;, &quot;detectRetina&quot;: false, &quot;maxNativeZoom&quot;: 18, &quot;maxZoom&quot;: 18, &quot;minZoom&quot;: 0, &quot;noWrap&quot;: false, &quot;opacity&quot;: 1.0, &quot;subdomains&quot;: &quot;abc&quot;, &quot;tms&quot;: false}\n",
              "            ).addTo(map_15226cefe799e98cb150640a122dded1);\n",
              "        \n",
              "    \n",
              "            var tile_layer_23615944864df88b6e93d6cbf776ceaa = L.tileLayer(\n",
              "                &quot;https://earthengine.googleapis.com/v1alpha/projects/earthengine-legacy/maps/a654ecd378dedc577043b2e7c7dd4cae-edfa003a4b2d964766e99ce02c2787bb/tiles/{z}/{x}/{y}&quot;,\n",
              "                {&quot;attribution&quot;: &quot;Google Earth Engine&quot;, &quot;detectRetina&quot;: false, &quot;maxNativeZoom&quot;: 18, &quot;maxZoom&quot;: 18, &quot;minZoom&quot;: 0, &quot;noWrap&quot;: false, &quot;opacity&quot;: 1.0, &quot;subdomains&quot;: &quot;abc&quot;, &quot;tms&quot;: false}\n",
              "            ).addTo(map_15226cefe799e98cb150640a122dded1);\n",
              "        \n",
              "    \n",
              "            var tile_layer_829dd8bbb0d2ffe3f79d16611eaa60b6 = L.tileLayer(\n",
              "                &quot;https://earthengine.googleapis.com/v1alpha/projects/earthengine-legacy/maps/8fedefc5a8d313c462204e010af5319c-d82c30e37121f51c8d83cbe240c78a53/tiles/{z}/{x}/{y}&quot;,\n",
              "                {&quot;attribution&quot;: &quot;Google Earth Engine&quot;, &quot;detectRetina&quot;: false, &quot;maxNativeZoom&quot;: 18, &quot;maxZoom&quot;: 18, &quot;minZoom&quot;: 0, &quot;noWrap&quot;: false, &quot;opacity&quot;: 1.0, &quot;subdomains&quot;: &quot;abc&quot;, &quot;tms&quot;: false}\n",
              "            ).addTo(map_15226cefe799e98cb150640a122dded1);\n",
              "        \n",
              "    \n",
              "            var layer_control_03f42faac97ff508f7a2f71c4467d78d = {\n",
              "                base_layers : {\n",
              "                    &quot;openstreetmap&quot; : tile_layer_0760a3236c7aee6e4e41150ee5eb257c,\n",
              "                },\n",
              "                overlays :  {\n",
              "                    &quot;Google Maps&quot; : tile_layer_b8efcb072240c9ede31f8cbb23481f58,\n",
              "                    &quot;Sentinel 1&quot; : tile_layer_8a0e4ddb53fd8bbf23643ba49c89e0b7,\n",
              "                    &quot;Sentinel 1 (water)&quot; : tile_layer_23615944864df88b6e93d6cbf776ceaa,\n",
              "                    &quot;Sentinel 1 (flood) Seasonal&quot; : tile_layer_829dd8bbb0d2ffe3f79d16611eaa60b6,\n",
              "                },\n",
              "            };\n",
              "            L.control.layers(\n",
              "                layer_control_03f42faac97ff508f7a2f71c4467d78d.base_layers,\n",
              "                layer_control_03f42faac97ff508f7a2f71c4467d78d.overlays,\n",
              "                {&quot;autoZIndex&quot;: true, &quot;collapsed&quot;: true, &quot;position&quot;: &quot;topright&quot;}\n",
              "            ).addTo(map_15226cefe799e98cb150640a122dded1);\n",
              "        \n",
              "&lt;/script&gt;\" style=\"position:absolute;width:100%;height:100%;left:0;top:0;border:none !important;\" allowfullscreen webkitallowfullscreen mozallowfullscreen></iframe></div></div>"
            ]
          },
          "metadata": {},
          "execution_count": 50
        }
      ]
    },
    {
      "cell_type": "markdown",
      "metadata": {
        "id": "soQkE5WRAR7X"
      },
      "source": [
        "### Comparing the different approaches"
      ]
    },
    {
      "cell_type": "markdown",
      "source": [
        "Let put it all together"
      ],
      "metadata": {
        "id": "4rVY2McCX9is"
      }
    },
    {
      "cell_type": "markdown",
      "source": [
        "![Bonus_Images4.png](data:image/png;base64,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)"
      ],
      "metadata": {
        "id": "RGy1hKqWX5A6"
      }
    },
    {
      "cell_type": "code",
      "metadata": {
        "id": "nHnZzAAHARUp",
        "colab": {
          "base_uri": "https://localhost:8080/",
          "height": 982
        },
        "outputId": "d1b1abba-315d-490f-c5a8-2a7b674fcde2"
      },
      "source": [
        "# view the results of flood mapping\n",
        "Map = geemap.Map(center=(11.036793516608421, 78.64159548801078), zoom=12)\n",
        "\n",
        "Map.addLayer(s1_aggregated.collection.median(),{\"bands\": \"VV\", \"min\":-25, \"max\": 0}, \"Sentinel 1\")\n",
        "Map.addLayer(water_final.selfMask(),{\"min\":0, \"max\":1, \"palette\":cm.palettes.Blues}, \"Sentinel 1 (water)\")\n",
        "Map.addLayer(floods_yearly.selfMask(),{\"min\":0, \"max\":1, \"palette\":\"#FF7F7F\"}, \"Sentinel 1 (yearly)\")\n",
        "Map.addLayer(floods_occurrence.selfMask(),{\"min\":0, \"max\":1, \"palette\":\"red\"}, \"Sentinel 1 (ocurrence)\")\n",
        "Map.addLayer(floods_seasonal.selfMask(),{\"min\":0, \"max\":1, \"palette\":\"darkred\"}, \"Sentinel 1 (seasonal)\")\n",
        "\n",
        "Map.addLayerControl()\n",
        "Map"
      ],
      "execution_count": null,
      "outputs": [
        {
          "output_type": "execute_result",
          "data": {
            "text/plain": [
              "<geemap.eefolium.Map at 0x7fe340fd2cd0>"
            ],
            "text/html": [
              "<div style=\"width:100%;\"><div style=\"position:relative;width:100%;height:0;padding-bottom:60%;\"><span style=\"color:#565656\">Make this Notebook Trusted to load map: File -> Trust Notebook</span><iframe srcdoc=\"&lt;!DOCTYPE html&gt;\n",
              "&lt;head&gt;    \n",
              "    &lt;meta http-equiv=&quot;content-type&quot; content=&quot;text/html; charset=UTF-8&quot; /&gt;\n",
              "    \n",
              "        &lt;script&gt;\n",
              "            L_NO_TOUCH = false;\n",
              "            L_DISABLE_3D = false;\n",
              "        &lt;/script&gt;\n",
              "    \n",
              "    &lt;style&gt;html, body {width: 100%;height: 100%;margin: 0;padding: 0;}&lt;/style&gt;\n",
              "    &lt;style&gt;#map {position:absolute;top:0;bottom:0;right:0;left:0;}&lt;/style&gt;\n",
              "    &lt;script src=&quot;https://cdn.jsdelivr.net/npm/leaflet@1.6.0/dist/leaflet.js&quot;&gt;&lt;/script&gt;\n",
              "    &lt;script src=&quot;https://code.jquery.com/jquery-1.12.4.min.js&quot;&gt;&lt;/script&gt;\n",
              "    &lt;script src=&quot;https://maxcdn.bootstrapcdn.com/bootstrap/3.2.0/js/bootstrap.min.js&quot;&gt;&lt;/script&gt;\n",
              "    &lt;script src=&quot;https://cdnjs.cloudflare.com/ajax/libs/Leaflet.awesome-markers/2.0.2/leaflet.awesome-markers.js&quot;&gt;&lt;/script&gt;\n",
              "    &lt;link rel=&quot;stylesheet&quot; href=&quot;https://cdn.jsdelivr.net/npm/leaflet@1.6.0/dist/leaflet.css&quot;/&gt;\n",
              "    &lt;link rel=&quot;stylesheet&quot; href=&quot;https://maxcdn.bootstrapcdn.com/bootstrap/3.2.0/css/bootstrap.min.css&quot;/&gt;\n",
              "    &lt;link rel=&quot;stylesheet&quot; href=&quot;https://maxcdn.bootstrapcdn.com/bootstrap/3.2.0/css/bootstrap-theme.min.css&quot;/&gt;\n",
              "    &lt;link rel=&quot;stylesheet&quot; href=&quot;https://maxcdn.bootstrapcdn.com/font-awesome/4.6.3/css/font-awesome.min.css&quot;/&gt;\n",
              "    &lt;link rel=&quot;stylesheet&quot; href=&quot;https://cdnjs.cloudflare.com/ajax/libs/Leaflet.awesome-markers/2.0.2/leaflet.awesome-markers.css&quot;/&gt;\n",
              "    &lt;link rel=&quot;stylesheet&quot; href=&quot;https://cdn.jsdelivr.net/gh/python-visualization/folium/folium/templates/leaflet.awesome.rotate.min.css&quot;/&gt;\n",
              "    \n",
              "            &lt;meta name=&quot;viewport&quot; content=&quot;width=device-width,\n",
              "                initial-scale=1.0, maximum-scale=1.0, user-scalable=no&quot; /&gt;\n",
              "            &lt;style&gt;\n",
              "                #map_46b1738058a23eef290bcf2d4b9d8e41 {\n",
              "                    position: relative;\n",
              "                    width: 100.0%;\n",
              "                    height: 100.0%;\n",
              "                    left: 0.0%;\n",
              "                    top: 0.0%;\n",
              "                }\n",
              "            &lt;/style&gt;\n",
              "        \n",
              "    &lt;script src=&quot;https://cdnjs.cloudflare.com/ajax/libs/leaflet.fullscreen/1.4.2/Control.FullScreen.min.js&quot;&gt;&lt;/script&gt;\n",
              "    &lt;link rel=&quot;stylesheet&quot; href=&quot;https://cdnjs.cloudflare.com/ajax/libs/leaflet.fullscreen/1.4.2/Control.FullScreen.min.css&quot;/&gt;\n",
              "&lt;/head&gt;\n",
              "&lt;body&gt;    \n",
              "    \n",
              "            &lt;div class=&quot;folium-map&quot; id=&quot;map_46b1738058a23eef290bcf2d4b9d8e41&quot; &gt;&lt;/div&gt;\n",
              "        \n",
              "&lt;/body&gt;\n",
              "&lt;script&gt;    \n",
              "    \n",
              "            var map_46b1738058a23eef290bcf2d4b9d8e41 = L.map(\n",
              "                &quot;map_46b1738058a23eef290bcf2d4b9d8e41&quot;,\n",
              "                {\n",
              "                    center: [16.0029, -90.5109],\n",
              "                    crs: L.CRS.EPSG3857,\n",
              "                    zoom: 12,\n",
              "                    zoomControl: true,\n",
              "                    preferCanvas: false,\n",
              "                    eeInitialize: true,\n",
              "                    addGoogleMap: true,\n",
              "                    pluginLatlngpopup: true,\n",
              "                    pluginFullscreen: true,\n",
              "                    pluginDraw: false,\n",
              "                    DrawExport: true,\n",
              "                    pluginMinimap: false,\n",
              "                    pluginLayercontrol: false,\n",
              "                }\n",
              "            );\n",
              "\n",
              "            \n",
              "\n",
              "        \n",
              "    \n",
              "            var tile_layer_64ef8a117707b32284df1b39fde3c78c = L.tileLayer(\n",
              "                &quot;https://{s}.tile.openstreetmap.org/{z}/{x}/{y}.png&quot;,\n",
              "                {&quot;attribution&quot;: &quot;Data by \\u0026copy; \\u003ca href=\\&quot;http://openstreetmap.org\\&quot;\\u003eOpenStreetMap\\u003c/a\\u003e, under \\u003ca href=\\&quot;http://www.openstreetmap.org/copyright\\&quot;\\u003eODbL\\u003c/a\\u003e.&quot;, &quot;detectRetina&quot;: false, &quot;maxNativeZoom&quot;: 18, &quot;maxZoom&quot;: 18, &quot;minZoom&quot;: 0, &quot;noWrap&quot;: false, &quot;opacity&quot;: 1, &quot;subdomains&quot;: &quot;abc&quot;, &quot;tms&quot;: false}\n",
              "            ).addTo(map_46b1738058a23eef290bcf2d4b9d8e41);\n",
              "        \n",
              "    \n",
              "            var tile_layer_b8efcb072240c9ede31f8cbb23481f58 = L.tileLayer(\n",
              "                &quot;https://mt1.google.com/vt/lyrs=m\\u0026x={x}\\u0026y={y}\\u0026z={z}&quot;,\n",
              "                {&quot;attribution&quot;: &quot;Google&quot;, &quot;detectRetina&quot;: false, &quot;maxNativeZoom&quot;: 18, &quot;maxZoom&quot;: 18, &quot;minZoom&quot;: 0, &quot;noWrap&quot;: false, &quot;opacity&quot;: 1, &quot;subdomains&quot;: &quot;abc&quot;, &quot;tms&quot;: false}\n",
              "            ).addTo(map_46b1738058a23eef290bcf2d4b9d8e41);\n",
              "        \n",
              "    \n",
              "                var lat_lng_popup_14086684d8a9e7e8961cfee13a581e0f = L.popup();\n",
              "                function latLngPop(e) {\n",
              "                    lat_lng_popup_14086684d8a9e7e8961cfee13a581e0f\n",
              "                        .setLatLng(e.latlng)\n",
              "                        .setContent(&quot;Latitude: &quot; + e.latlng.lat.toFixed(4) +\n",
              "                                    &quot;&lt;br&gt;Longitude: &quot; + e.latlng.lng.toFixed(4))\n",
              "                        .openOn(map_46b1738058a23eef290bcf2d4b9d8e41);\n",
              "                    }\n",
              "                map_46b1738058a23eef290bcf2d4b9d8e41.on(&#x27;click&#x27;, latLngPop);\n",
              "            \n",
              "    \n",
              "            L.control.fullscreen(\n",
              "                {&quot;forceSeparateButton&quot;: false, &quot;position&quot;: &quot;topleft&quot;, &quot;title&quot;: &quot;Full Screen&quot;, &quot;titleCancel&quot;: &quot;Exit Full Screen&quot;}\n",
              "            ).addTo(map_46b1738058a23eef290bcf2d4b9d8e41);\n",
              "        \n",
              "    \n",
              "            map_46b1738058a23eef290bcf2d4b9d8e41.fitBounds(\n",
              "                [[16.0029, -90.5109], [16.0029, -90.5109]],\n",
              "                {&quot;maxZoom&quot;: 12}\n",
              "            );\n",
              "        \n",
              "    \n",
              "            var tile_layer_2a0959aff5362f090f5f07b8cca179d7 = L.tileLayer(\n",
              "                &quot;https://earthengine.googleapis.com/v1alpha/projects/earthengine-legacy/maps/0e24a4f12c339284b8c62c88cb39cf8c-bedbc588e514bb47b374916390128392/tiles/{z}/{x}/{y}&quot;,\n",
              "                {&quot;attribution&quot;: &quot;Google Earth Engine&quot;, &quot;detectRetina&quot;: false, &quot;maxNativeZoom&quot;: 18, &quot;maxZoom&quot;: 18, &quot;minZoom&quot;: 0, &quot;noWrap&quot;: false, &quot;opacity&quot;: 1.0, &quot;subdomains&quot;: &quot;abc&quot;, &quot;tms&quot;: false}\n",
              "            ).addTo(map_46b1738058a23eef290bcf2d4b9d8e41);\n",
              "        \n",
              "    \n",
              "            var tile_layer_e326411aeb5ff9394059ecdf7e4e21f2 = L.tileLayer(\n",
              "                &quot;https://earthengine.googleapis.com/v1alpha/projects/earthengine-legacy/maps/5494e481fdb92902e4db5a6843e48bd7-e8e2933fd63b126f7630f74b0ee28d0c/tiles/{z}/{x}/{y}&quot;,\n",
              "                {&quot;attribution&quot;: &quot;Google Earth Engine&quot;, &quot;detectRetina&quot;: false, &quot;maxNativeZoom&quot;: 18, &quot;maxZoom&quot;: 18, &quot;minZoom&quot;: 0, &quot;noWrap&quot;: false, &quot;opacity&quot;: 1.0, &quot;subdomains&quot;: &quot;abc&quot;, &quot;tms&quot;: false}\n",
              "            ).addTo(map_46b1738058a23eef290bcf2d4b9d8e41);\n",
              "        \n",
              "    \n",
              "            var tile_layer_24a60933796abdff44054b3f3a3fb046 = L.tileLayer(\n",
              "                &quot;https://earthengine.googleapis.com/v1alpha/projects/earthengine-legacy/maps/08a7b51bab874365b70e2e0f68876364-02449b6af81c57c4df3774b1ba5e96bd/tiles/{z}/{x}/{y}&quot;,\n",
              "                {&quot;attribution&quot;: &quot;Google Earth Engine&quot;, &quot;detectRetina&quot;: false, &quot;maxNativeZoom&quot;: 18, &quot;maxZoom&quot;: 18, &quot;minZoom&quot;: 0, &quot;noWrap&quot;: false, &quot;opacity&quot;: 1.0, &quot;subdomains&quot;: &quot;abc&quot;, &quot;tms&quot;: false}\n",
              "            ).addTo(map_46b1738058a23eef290bcf2d4b9d8e41);\n",
              "        \n",
              "    \n",
              "            var tile_layer_372ed05223d6688fe2ffbd1a3b789d9f = L.tileLayer(\n",
              "                &quot;https://earthengine.googleapis.com/v1alpha/projects/earthengine-legacy/maps/49b2b8f193ee4b58745262559e5b41b8-8ab02cf64eb1ec1a63e5358f13a04c78/tiles/{z}/{x}/{y}&quot;,\n",
              "                {&quot;attribution&quot;: &quot;Google Earth Engine&quot;, &quot;detectRetina&quot;: false, &quot;maxNativeZoom&quot;: 18, &quot;maxZoom&quot;: 18, &quot;minZoom&quot;: 0, &quot;noWrap&quot;: false, &quot;opacity&quot;: 1.0, &quot;subdomains&quot;: &quot;abc&quot;, &quot;tms&quot;: false}\n",
              "            ).addTo(map_46b1738058a23eef290bcf2d4b9d8e41);\n",
              "        \n",
              "    \n",
              "            var tile_layer_a0fef6aef41143df1e45c7484711edb5 = L.tileLayer(\n",
              "                &quot;https://earthengine.googleapis.com/v1alpha/projects/earthengine-legacy/maps/8fedefc5a8d313c462204e010af5319c-945b98b31d4372d6be304f6f1d896067/tiles/{z}/{x}/{y}&quot;,\n",
              "                {&quot;attribution&quot;: &quot;Google Earth Engine&quot;, &quot;detectRetina&quot;: false, &quot;maxNativeZoom&quot;: 18, &quot;maxZoom&quot;: 18, &quot;minZoom&quot;: 0, &quot;noWrap&quot;: false, &quot;opacity&quot;: 1.0, &quot;subdomains&quot;: &quot;abc&quot;, &quot;tms&quot;: false}\n",
              "            ).addTo(map_46b1738058a23eef290bcf2d4b9d8e41);\n",
              "        \n",
              "    \n",
              "            var layer_control_6adf02e06da821a3c9d3b2d871a4dae5 = {\n",
              "                base_layers : {\n",
              "                    &quot;openstreetmap&quot; : tile_layer_64ef8a117707b32284df1b39fde3c78c,\n",
              "                },\n",
              "                overlays :  {\n",
              "                    &quot;Google Maps&quot; : tile_layer_b8efcb072240c9ede31f8cbb23481f58,\n",
              "                    &quot;Sentinel 1&quot; : tile_layer_2a0959aff5362f090f5f07b8cca179d7,\n",
              "                    &quot;Sentinel 1 (water)&quot; : tile_layer_e326411aeb5ff9394059ecdf7e4e21f2,\n",
              "                    &quot;Sentinel 1 (yearly)&quot; : tile_layer_24a60933796abdff44054b3f3a3fb046,\n",
              "                    &quot;Sentinel 1 (ocurrence)&quot; : tile_layer_372ed05223d6688fe2ffbd1a3b789d9f,\n",
              "                    &quot;Sentinel 1 (seasonal)&quot; : tile_layer_a0fef6aef41143df1e45c7484711edb5,\n",
              "                },\n",
              "            };\n",
              "            L.control.layers(\n",
              "                layer_control_6adf02e06da821a3c9d3b2d871a4dae5.base_layers,\n",
              "                layer_control_6adf02e06da821a3c9d3b2d871a4dae5.overlays,\n",
              "                {&quot;autoZIndex&quot;: true, &quot;collapsed&quot;: true, &quot;position&quot;: &quot;topright&quot;}\n",
              "            ).addTo(map_46b1738058a23eef290bcf2d4b9d8e41);\n",
              "        \n",
              "&lt;/script&gt;\" style=\"position:absolute;width:100%;height:100%;left:0;top:0;border:none !important;\" allowfullscreen webkitallowfullscreen mozallowfullscreen></iframe></div></div>"
            ]
          },
          "metadata": {},
          "execution_count": 51
        }
      ]
    },
    {
      "cell_type": "markdown",
      "metadata": {
        "id": "69DZSc4cydji"
      },
      "source": [
        "Any caveats to using these methods?"
      ]
    },
    {
      "cell_type": "markdown",
      "metadata": {
        "id": "jx0pKD0iXROU"
      },
      "source": [
        "## 7) Classification differencing"
      ]
    },
    {
      "cell_type": "markdown",
      "metadata": {
        "id": "wUJuYR6iXkDl"
      },
      "source": [
        "### Change detection\n",
        "\n",
        "In this case we we will use some change detection techniques to identify changes between a reference (pre-event) and post-event imagery. A famous algorithm for SAR is the [logarithmic amplitude ratio (LAR)](https://doi.org/10.1080/014311698215649). Here we will compute the LAR for a pair of pre- and post-event imagery and extract floods."
      ]
    },
    {
      "cell_type": "code",
      "metadata": {
        "id": "x_pIcgVrY42D"
      },
      "source": [
        "# convert the db data to amplitude power\n",
        "# then divide post/pre and take the log\n",
        "\n",
        "# Read more about power, amplitude and db scale\n",
        "# Section 3.4.3\n",
        "# https://gis1.servirglobal.net/TrainingMaterials/SAR/SARHB_FullRes.pdf\n",
        "\n",
        "lar = hf.db_to_power(sar_img.select(\"VV\")).divide(hf.db_to_power(pre_img.select(\"VV\"))).log10()"
      ],
      "execution_count": null,
      "outputs": []
    },
    {
      "cell_type": "code",
      "metadata": {
        "id": "GdGvCIHmaS0j"
      },
      "source": [
        "floods_lar = hf.edge_otsu(lar, region=region, initial_threshold=0, scale=300, edge_buffer=300)"
      ],
      "execution_count": null,
      "outputs": []
    },
    {
      "cell_type": "code",
      "metadata": {
        "id": "F-J-pKwQdB7W"
      },
      "source": [
        "floods_lar_final = (\n",
        "    hf.close_binary(\n",
        "        hf.open_binary(floods_lar, window=1.5) # apply opening filter\n",
        "        .updateMask(floods_lar.mask()), # force mask to be consistent with sar imagery\n",
        "        window=1.5\n",
        "    ) # apply closing filter\n",
        "    .updateMask(floods_lar.mask()) # force mask to be consistent with sar imagery\n",
        "    .And(hand.lt(15)) # only pixels that were originally classified as water AND < 15m from HAND\n",
        ")"
      ],
      "execution_count": null,
      "outputs": []
    },
    {
      "cell_type": "code",
      "metadata": {
        "id": "Pq8ZhaGyZiDw",
        "colab": {
          "base_uri": "https://localhost:8080/",
          "height": 982
        },
        "outputId": "ff07992f-c9b8-45f5-beb8-6038ced95e02"
      },
      "source": [
        "# view the results of flood mapping\n",
        "Map = geemap.Map(center=(16.0029, -90.5109), zoom=12)\n",
        "\n",
        "Map.addLayer(pre_img, {\"bands\": \"VV\", \"min\":-25, \"max\": 0}, \"pre-event Sentinel 1\")\n",
        "Map.addLayer(sar_img, {\"bands\": \"VV\", \"min\":-25, \"max\": 0}, \"post-event Sentinel 1\")\n",
        "Map.addLayer(lar, {\"min\":-1, \"max\":1, \"palette\":cm.palettes.inferno}, \"LAR\")\n",
        "Map.addLayer(floods_lar_final.selfMask(), {\"min\":0, \"max\":1, \"palette\":\"lightblue\"}, \"LAR event flooding\")\n",
        "Map.addLayer(floods_diff.selfMask(), {\"min\":0, \"max\":1, \"palette\":\"red\"}, \"Differenced Pre/Post Flood Image\")\n",
        "\n",
        "\n",
        "Map.addLayerControl()\n",
        "Map"
      ],
      "execution_count": null,
      "outputs": [
        {
          "output_type": "execute_result",
          "data": {
            "text/plain": [
              "<geemap.eefolium.Map at 0x7fe341001b50>"
            ],
            "text/html": [
              "<div style=\"width:100%;\"><div style=\"position:relative;width:100%;height:0;padding-bottom:60%;\"><span style=\"color:#565656\">Make this Notebook Trusted to load map: File -> Trust Notebook</span><iframe srcdoc=\"&lt;!DOCTYPE html&gt;\n",
              "&lt;head&gt;    \n",
              "    &lt;meta http-equiv=&quot;content-type&quot; content=&quot;text/html; charset=UTF-8&quot; /&gt;\n",
              "    \n",
              "        &lt;script&gt;\n",
              "            L_NO_TOUCH = false;\n",
              "            L_DISABLE_3D = false;\n",
              "        &lt;/script&gt;\n",
              "    \n",
              "    &lt;style&gt;html, body {width: 100%;height: 100%;margin: 0;padding: 0;}&lt;/style&gt;\n",
              "    &lt;style&gt;#map {position:absolute;top:0;bottom:0;right:0;left:0;}&lt;/style&gt;\n",
              "    &lt;script src=&quot;https://cdn.jsdelivr.net/npm/leaflet@1.6.0/dist/leaflet.js&quot;&gt;&lt;/script&gt;\n",
              "    &lt;script src=&quot;https://code.jquery.com/jquery-1.12.4.min.js&quot;&gt;&lt;/script&gt;\n",
              "    &lt;script src=&quot;https://maxcdn.bootstrapcdn.com/bootstrap/3.2.0/js/bootstrap.min.js&quot;&gt;&lt;/script&gt;\n",
              "    &lt;script src=&quot;https://cdnjs.cloudflare.com/ajax/libs/Leaflet.awesome-markers/2.0.2/leaflet.awesome-markers.js&quot;&gt;&lt;/script&gt;\n",
              "    &lt;link rel=&quot;stylesheet&quot; href=&quot;https://cdn.jsdelivr.net/npm/leaflet@1.6.0/dist/leaflet.css&quot;/&gt;\n",
              "    &lt;link rel=&quot;stylesheet&quot; href=&quot;https://maxcdn.bootstrapcdn.com/bootstrap/3.2.0/css/bootstrap.min.css&quot;/&gt;\n",
              "    &lt;link rel=&quot;stylesheet&quot; href=&quot;https://maxcdn.bootstrapcdn.com/bootstrap/3.2.0/css/bootstrap-theme.min.css&quot;/&gt;\n",
              "    &lt;link rel=&quot;stylesheet&quot; href=&quot;https://maxcdn.bootstrapcdn.com/font-awesome/4.6.3/css/font-awesome.min.css&quot;/&gt;\n",
              "    &lt;link rel=&quot;stylesheet&quot; href=&quot;https://cdnjs.cloudflare.com/ajax/libs/Leaflet.awesome-markers/2.0.2/leaflet.awesome-markers.css&quot;/&gt;\n",
              "    &lt;link rel=&quot;stylesheet&quot; href=&quot;https://cdn.jsdelivr.net/gh/python-visualization/folium/folium/templates/leaflet.awesome.rotate.min.css&quot;/&gt;\n",
              "    \n",
              "            &lt;meta name=&quot;viewport&quot; content=&quot;width=device-width,\n",
              "                initial-scale=1.0, maximum-scale=1.0, user-scalable=no&quot; /&gt;\n",
              "            &lt;style&gt;\n",
              "                #map_dcfdff344febaadae448dfd1bd734abb {\n",
              "                    position: relative;\n",
              "                    width: 100.0%;\n",
              "                    height: 100.0%;\n",
              "                    left: 0.0%;\n",
              "                    top: 0.0%;\n",
              "                }\n",
              "            &lt;/style&gt;\n",
              "        \n",
              "    &lt;script src=&quot;https://cdnjs.cloudflare.com/ajax/libs/leaflet.fullscreen/1.4.2/Control.FullScreen.min.js&quot;&gt;&lt;/script&gt;\n",
              "    &lt;link rel=&quot;stylesheet&quot; href=&quot;https://cdnjs.cloudflare.com/ajax/libs/leaflet.fullscreen/1.4.2/Control.FullScreen.min.css&quot;/&gt;\n",
              "&lt;/head&gt;\n",
              "&lt;body&gt;    \n",
              "    \n",
              "            &lt;div class=&quot;folium-map&quot; id=&quot;map_dcfdff344febaadae448dfd1bd734abb&quot; &gt;&lt;/div&gt;\n",
              "        \n",
              "&lt;/body&gt;\n",
              "&lt;script&gt;    \n",
              "    \n",
              "            var map_dcfdff344febaadae448dfd1bd734abb = L.map(\n",
              "                &quot;map_dcfdff344febaadae448dfd1bd734abb&quot;,\n",
              "                {\n",
              "                    center: [16.0029, -90.5109],\n",
              "                    crs: L.CRS.EPSG3857,\n",
              "                    zoom: 12,\n",
              "                    zoomControl: true,\n",
              "                    preferCanvas: false,\n",
              "                    eeInitialize: true,\n",
              "                    addGoogleMap: true,\n",
              "                    pluginLatlngpopup: true,\n",
              "                    pluginFullscreen: true,\n",
              "                    pluginDraw: false,\n",
              "                    DrawExport: true,\n",
              "                    pluginMinimap: false,\n",
              "                    pluginLayercontrol: false,\n",
              "                }\n",
              "            );\n",
              "\n",
              "            \n",
              "\n",
              "        \n",
              "    \n",
              "            var tile_layer_3b5d17b26ada9f7992b288f6a03c9fb3 = L.tileLayer(\n",
              "                &quot;https://{s}.tile.openstreetmap.org/{z}/{x}/{y}.png&quot;,\n",
              "                {&quot;attribution&quot;: &quot;Data by \\u0026copy; \\u003ca href=\\&quot;http://openstreetmap.org\\&quot;\\u003eOpenStreetMap\\u003c/a\\u003e, under \\u003ca href=\\&quot;http://www.openstreetmap.org/copyright\\&quot;\\u003eODbL\\u003c/a\\u003e.&quot;, &quot;detectRetina&quot;: false, &quot;maxNativeZoom&quot;: 18, &quot;maxZoom&quot;: 18, &quot;minZoom&quot;: 0, &quot;noWrap&quot;: false, &quot;opacity&quot;: 1, &quot;subdomains&quot;: &quot;abc&quot;, &quot;tms&quot;: false}\n",
              "            ).addTo(map_dcfdff344febaadae448dfd1bd734abb);\n",
              "        \n",
              "    \n",
              "            var tile_layer_b8efcb072240c9ede31f8cbb23481f58 = L.tileLayer(\n",
              "                &quot;https://mt1.google.com/vt/lyrs=m\\u0026x={x}\\u0026y={y}\\u0026z={z}&quot;,\n",
              "                {&quot;attribution&quot;: &quot;Google&quot;, &quot;detectRetina&quot;: false, &quot;maxNativeZoom&quot;: 18, &quot;maxZoom&quot;: 18, &quot;minZoom&quot;: 0, &quot;noWrap&quot;: false, &quot;opacity&quot;: 1, &quot;subdomains&quot;: &quot;abc&quot;, &quot;tms&quot;: false}\n",
              "            ).addTo(map_dcfdff344febaadae448dfd1bd734abb);\n",
              "        \n",
              "    \n",
              "                var lat_lng_popup_ca13b4cef4b2aa7dac070886a1f12438 = L.popup();\n",
              "                function latLngPop(e) {\n",
              "                    lat_lng_popup_ca13b4cef4b2aa7dac070886a1f12438\n",
              "                        .setLatLng(e.latlng)\n",
              "                        .setContent(&quot;Latitude: &quot; + e.latlng.lat.toFixed(4) +\n",
              "                                    &quot;&lt;br&gt;Longitude: &quot; + e.latlng.lng.toFixed(4))\n",
              "                        .openOn(map_dcfdff344febaadae448dfd1bd734abb);\n",
              "                    }\n",
              "                map_dcfdff344febaadae448dfd1bd734abb.on(&#x27;click&#x27;, latLngPop);\n",
              "            \n",
              "    \n",
              "            L.control.fullscreen(\n",
              "                {&quot;forceSeparateButton&quot;: false, &quot;position&quot;: &quot;topleft&quot;, &quot;title&quot;: &quot;Full Screen&quot;, &quot;titleCancel&quot;: &quot;Exit Full Screen&quot;}\n",
              "            ).addTo(map_dcfdff344febaadae448dfd1bd734abb);\n",
              "        \n",
              "    \n",
              "            map_dcfdff344febaadae448dfd1bd734abb.fitBounds(\n",
              "                [[16.0029, -90.5109], [16.0029, -90.5109]],\n",
              "                {&quot;maxZoom&quot;: 12}\n",
              "            );\n",
              "        \n",
              "    \n",
              "            var tile_layer_8fd81067c32f917b5dc0cd3f8c92bcb4 = L.tileLayer(\n",
              "                &quot;https://earthengine.googleapis.com/v1alpha/projects/earthengine-legacy/maps/34c4c0d715dc486c64de997a1b6e618a-51d9818015406bc36587a785afe17add/tiles/{z}/{x}/{y}&quot;,\n",
              "                {&quot;attribution&quot;: &quot;Google Earth Engine&quot;, &quot;detectRetina&quot;: false, &quot;maxNativeZoom&quot;: 18, &quot;maxZoom&quot;: 18, &quot;minZoom&quot;: 0, &quot;noWrap&quot;: false, &quot;opacity&quot;: 1.0, &quot;subdomains&quot;: &quot;abc&quot;, &quot;tms&quot;: false}\n",
              "            ).addTo(map_dcfdff344febaadae448dfd1bd734abb);\n",
              "        \n",
              "    \n",
              "            var tile_layer_ba502db1f35b273a3cd34bbdaf12cdc0 = L.tileLayer(\n",
              "                &quot;https://earthengine.googleapis.com/v1alpha/projects/earthengine-legacy/maps/e0894dd5202f8ac61a7e2b82d875ff6f-41c0cc1af9053801a3bf921a5f151bae/tiles/{z}/{x}/{y}&quot;,\n",
              "                {&quot;attribution&quot;: &quot;Google Earth Engine&quot;, &quot;detectRetina&quot;: false, &quot;maxNativeZoom&quot;: 18, &quot;maxZoom&quot;: 18, &quot;minZoom&quot;: 0, &quot;noWrap&quot;: false, &quot;opacity&quot;: 1.0, &quot;subdomains&quot;: &quot;abc&quot;, &quot;tms&quot;: false}\n",
              "            ).addTo(map_dcfdff344febaadae448dfd1bd734abb);\n",
              "        \n",
              "    \n",
              "            var tile_layer_6e3f38a6e1ff09040348df38c14745c8 = L.tileLayer(\n",
              "                &quot;https://earthengine.googleapis.com/v1alpha/projects/earthengine-legacy/maps/c0081f50a1410614838eaba152004155-5f1c405913b6a002c63776d90554be7a/tiles/{z}/{x}/{y}&quot;,\n",
              "                {&quot;attribution&quot;: &quot;Google Earth Engine&quot;, &quot;detectRetina&quot;: false, &quot;maxNativeZoom&quot;: 18, &quot;maxZoom&quot;: 18, &quot;minZoom&quot;: 0, &quot;noWrap&quot;: false, &quot;opacity&quot;: 1.0, &quot;subdomains&quot;: &quot;abc&quot;, &quot;tms&quot;: false}\n",
              "            ).addTo(map_dcfdff344febaadae448dfd1bd734abb);\n",
              "        \n",
              "    \n",
              "            var tile_layer_53afbbc243a755cd0702e43e96fafba2 = L.tileLayer(\n",
              "                &quot;https://earthengine.googleapis.com/v1alpha/projects/earthengine-legacy/maps/8c868a71b18a5766c7bcea09894b76dd-3ec8e78f2f3e14c6991b4dc5f015ae8d/tiles/{z}/{x}/{y}&quot;,\n",
              "                {&quot;attribution&quot;: &quot;Google Earth Engine&quot;, &quot;detectRetina&quot;: false, &quot;maxNativeZoom&quot;: 18, &quot;maxZoom&quot;: 18, &quot;minZoom&quot;: 0, &quot;noWrap&quot;: false, &quot;opacity&quot;: 1.0, &quot;subdomains&quot;: &quot;abc&quot;, &quot;tms&quot;: false}\n",
              "            ).addTo(map_dcfdff344febaadae448dfd1bd734abb);\n",
              "        \n",
              "    \n",
              "            var tile_layer_8c610566a703850d54ce51de8e34f131 = L.tileLayer(\n",
              "                &quot;https://earthengine.googleapis.com/v1alpha/projects/earthengine-legacy/maps/19929b78cff10d1790b12f00c624794b-2c067f353e148546875c5c311001f5d2/tiles/{z}/{x}/{y}&quot;,\n",
              "                {&quot;attribution&quot;: &quot;Google Earth Engine&quot;, &quot;detectRetina&quot;: false, &quot;maxNativeZoom&quot;: 18, &quot;maxZoom&quot;: 18, &quot;minZoom&quot;: 0, &quot;noWrap&quot;: false, &quot;opacity&quot;: 1.0, &quot;subdomains&quot;: &quot;abc&quot;, &quot;tms&quot;: false}\n",
              "            ).addTo(map_dcfdff344febaadae448dfd1bd734abb);\n",
              "        \n",
              "    \n",
              "            var layer_control_43223a2db11b0dc8190e92e6c4c32b5f = {\n",
              "                base_layers : {\n",
              "                    &quot;openstreetmap&quot; : tile_layer_3b5d17b26ada9f7992b288f6a03c9fb3,\n",
              "                },\n",
              "                overlays :  {\n",
              "                    &quot;Google Maps&quot; : tile_layer_b8efcb072240c9ede31f8cbb23481f58,\n",
              "                    &quot;pre-event Sentinel 1&quot; : tile_layer_8fd81067c32f917b5dc0cd3f8c92bcb4,\n",
              "                    &quot;post-event Sentinel 1&quot; : tile_layer_ba502db1f35b273a3cd34bbdaf12cdc0,\n",
              "                    &quot;LAR&quot; : tile_layer_6e3f38a6e1ff09040348df38c14745c8,\n",
              "                    &quot;LAR event flooding&quot; : tile_layer_53afbbc243a755cd0702e43e96fafba2,\n",
              "                    &quot;Differenced Pre/Post Flood Image&quot; : tile_layer_8c610566a703850d54ce51de8e34f131,\n",
              "                },\n",
              "            };\n",
              "            L.control.layers(\n",
              "                layer_control_43223a2db11b0dc8190e92e6c4c32b5f.base_layers,\n",
              "                layer_control_43223a2db11b0dc8190e92e6c4c32b5f.overlays,\n",
              "                {&quot;autoZIndex&quot;: true, &quot;collapsed&quot;: true, &quot;position&quot;: &quot;topright&quot;}\n",
              "            ).addTo(map_dcfdff344febaadae448dfd1bd734abb);\n",
              "        \n",
              "&lt;/script&gt;\" style=\"position:absolute;width:100%;height:100%;left:0;top:0;border:none !important;\" allowfullscreen webkitallowfullscreen mozallowfullscreen></iframe></div></div>"
            ]
          },
          "metadata": {},
          "execution_count": 57
        }
      ]
    }
  ]
}